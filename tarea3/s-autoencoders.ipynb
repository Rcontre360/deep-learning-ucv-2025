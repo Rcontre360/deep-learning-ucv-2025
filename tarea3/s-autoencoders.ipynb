{
  "nbformat": 4,
  "nbformat_minor": 0,
  "metadata": {
    "colab": {
      "provenance": [],
      "gpuType": "T4",
      "toc_visible": true
    },
    "kernelspec": {
      "name": "python3",
      "display_name": "Python 3"
    },
    "language_info": {
      "name": "python"
    },
    "accelerator": "GPU"
  },
  "cells": [
    {
      "cell_type": "markdown",
      "source": [
        "<div><center><img src=\"https://ml.ucv.ai/logo.png\\\" width=150\"/> </center></div>\n",
        "\n",
        "# 05 Autoencoders y Stacked AutoEncoders\n",
        "\n",
        "\n",
        "Basado en:\n",
        "\n",
        "- [Efficient Image Segmentation](https://medium.com/data-science/efficient-image-segmentation-using-pytorch-part-3-3534cf04fb89)\n",
        "- [Image segmentation with a U-Net-like architecture](https://keras.io/examples/vision/oxford_pets_image_segmentation/)\n",
        "\n"
      ],
      "metadata": {
        "id": "G28ynkon-QY1"
      }
    },
    {
      "cell_type": "code",
      "source": [
        "!nvidia-smi"
      ],
      "metadata": {
        "id": "MnZZO_oOFpJP",
        "colab": {
          "base_uri": "https://localhost:8080/"
        },
        "outputId": "aa5789f1-0751-48d4-d061-9c27191d8f38"
      },
      "execution_count": null,
      "outputs": [
        {
          "output_type": "stream",
          "name": "stdout",
          "text": [
            "Fri Jul  4 12:46:42 2025       \n",
            "+-----------------------------------------------------------------------------------------+\n",
            "| NVIDIA-SMI 550.54.15              Driver Version: 550.54.15      CUDA Version: 12.4     |\n",
            "|-----------------------------------------+------------------------+----------------------+\n",
            "| GPU  Name                 Persistence-M | Bus-Id          Disp.A | Volatile Uncorr. ECC |\n",
            "| Fan  Temp   Perf          Pwr:Usage/Cap |           Memory-Usage | GPU-Util  Compute M. |\n",
            "|                                         |                        |               MIG M. |\n",
            "|=========================================+========================+======================|\n",
            "|   0  Tesla T4                       Off |   00000000:00:04.0 Off |                    0 |\n",
            "| N/A   53C    P8             12W /   70W |       0MiB /  15360MiB |      0%      Default |\n",
            "|                                         |                        |                  N/A |\n",
            "+-----------------------------------------+------------------------+----------------------+\n",
            "                                                                                         \n",
            "+-----------------------------------------------------------------------------------------+\n",
            "| Processes:                                                                              |\n",
            "|  GPU   GI   CI        PID   Type   Process name                              GPU Memory |\n",
            "|        ID   ID                                                               Usage      |\n",
            "|=========================================================================================|\n",
            "|  No running processes found                                                             |\n",
            "+-----------------------------------------------------------------------------------------+\n"
          ]
        }
      ]
    },
    {
      "cell_type": "markdown",
      "source": [
        "# 1. **Autoencoder**\n",
        "\n",
        "Un **autoencoder** es una red neuronal que aprende a reconstruir su entrada después de comprimirla en una representación latente de menor dimensión.\n",
        "\n",
        "Un autoencoder consta de dos partes:\n",
        "\n",
        "- **Codificador (encoder)**:\n",
        "  $$\n",
        "  \\mathbf{z} = f_{\\theta}(\\mathbf{x}) = \\sigma(\\mathbf{W}_e \\mathbf{x} + \\mathbf{b}_e)\n",
        "  $$\n",
        "\n",
        "- **Decodificador (decoder)**:\n",
        "  $$\n",
        "  \\hat{\\mathbf{x}} = g_{\\phi}(\\mathbf{z}) = \\sigma'(\\mathbf{W}_d \\mathbf{z} + \\mathbf{b}_d)\n",
        "  $$\n",
        "\n",
        "- **Función de pérdida**:\n",
        "  $$\n",
        "  \\mathcal{L}(\\mathbf{x}, \\hat{\\mathbf{x}}) = \\| \\mathbf{x} - \\hat{\\mathbf{x}} \\|^2\n",
        "  $$\n",
        "\n",
        "## Aplicaciones\n",
        "- Reducción de dimensionalidad\n",
        "- Filtrado\n",
        "- Detección de anomalías\n",
        "- Preentrenamiento de redes profundas\n",
        "- Generación de datos (en versiones como el autoencoder variacional)\n",
        "\n",
        "Tenga en cuenta que en esta sesión de ejercicios usaremos `PyTorch` en lugar de `Keras` para construir y entrenar nuestras redes neuronales."
      ],
      "metadata": {
        "id": "504PW8Go_Bna"
      }
    },
    {
      "cell_type": "code",
      "source": [
        "import torch\n",
        "import numpy as np\n",
        "from torchvision import datasets\n",
        "import torchvision.transforms as transforms\n",
        "\n",
        "# Semilla para Reproducibilidad\n",
        "torch.manual_seed(42)\n",
        "\n",
        "# Transformación del dataset de torchvision\n",
        "transform = transforms.ToTensor()\n",
        "\n",
        "\n",
        "train_data = datasets.MNIST(root='data', train=True,\n",
        "                                   download=True, transform=transform)\n",
        "test_data = datasets.MNIST(root='data', train=False,\n",
        "                                  download=True, transform=transform)\n",
        "\n",
        "# Seleccionando número de entradas para train y test\n",
        "num_train_samples = 10000\n",
        "num_test_samples = 1000\n",
        "\n",
        "# Permutación aleatoria\n",
        "train_indices = torch.randperm(len(train_data))[:num_train_samples]\n",
        "test_indices = torch.randperm(len(test_data))[:num_test_samples]\n",
        "\n",
        "# Creando el sampler\n",
        "train_subset_sampler = torch.utils.data.SubsetRandomSampler(train_indices)\n",
        "test_subset_sampler = torch.utils.data.SubsetRandomSampler(test_indices)"
      ],
      "metadata": {
        "id": "eGwR7aL5_FSD"
      },
      "execution_count": null,
      "outputs": []
    },
    {
      "cell_type": "markdown",
      "source": [
        "## Creación de dataloaders de entrenamiento y test"
      ],
      "metadata": {
        "id": "5OxiS9KN9oQA"
      }
    },
    {
      "cell_type": "code",
      "source": [
        "# Seleccionando el tamaño del batch\n",
        "batch_size = 32\n",
        "\n",
        "# Dataloaders\n",
        "train_loader = torch.utils.data.DataLoader(train_data,\n",
        "                                           batch_size=batch_size,\n",
        "                                           sampler = train_subset_sampler,\n",
        "                                           num_workers=0)\n",
        "test_loader = torch.utils.data.DataLoader(test_data,\n",
        "                                          batch_size=batch_size,\n",
        "                                          sampler = test_subset_sampler,\n",
        "                                          num_workers=0)\n"
      ],
      "metadata": {
        "id": "Lig-NUzmAuiZ"
      },
      "execution_count": null,
      "outputs": []
    },
    {
      "cell_type": "markdown",
      "source": [
        "## Visualizar datos"
      ],
      "metadata": {
        "id": "Wk4UCmCdBjjZ"
      }
    },
    {
      "cell_type": "code",
      "source": [
        "import matplotlib.pyplot as plt\n",
        "%matplotlib inline\n",
        "\n",
        "# Obtener una imagen del batch\n",
        "images, labels = next(iter(train_loader))\n",
        "images = images.numpy()\n",
        "\n",
        "img = np.squeeze(images[0])\n",
        "\n",
        "fig = plt.figure(figsize = (5,5))\n",
        "ax = fig.add_subplot(111)\n",
        "ax.imshow(img, cmap='gray')"
      ],
      "metadata": {
        "id": "3BeTdD4yBcl9",
        "colab": {
          "base_uri": "https://localhost:8080/",
          "height": 462
        },
        "outputId": "4b5ac2bd-4b79-4b9e-fac1-c03aae697d2b"
      },
      "execution_count": null,
      "outputs": [
        {
          "output_type": "execute_result",
          "data": {
            "text/plain": [
              "<matplotlib.image.AxesImage at 0x7e435b0c8110>"
            ]
          },
          "metadata": {},
          "execution_count": 14
        },
        {
          "output_type": "display_data",
          "data": {
            "text/plain": [
              "<Figure size 500x500 with 1 Axes>"
            ],
            "image/png": "[encoded data removed]"
          },
          "metadata": {}
        }
      ]
    },
    {
      "cell_type": "markdown",
      "source": [
        "## Definición: Autoencoder lineal\n",
        "\n",
        "- Usamos el dataset MNIST\n",
        "- Las imágenes originales son 28$\\times$28 que usando `flatten`se convierten en vectores de 728 dimensiones\n",
        "- Las imágenes ya están normalizadas de 0 a 1.\n",
        "- En vista de esto, necesitamos una función de activación acorde.\n",
        "\n",
        "Los encoder y decoder en el `AutoencoderSimple` solo tienen una capa para la representación oculta cuyo único hiperparámetro es ``encoding_dim``"
      ],
      "metadata": {
        "id": "LzWxOoXYCUiz"
      }
    },
    {
      "cell_type": "code",
      "source": [
        "import torch.nn as nn\n",
        "import torch.nn.functional as F\n",
        "\n",
        "class AutoencoderSimple(nn.Module):\n",
        "    def __init__(self, encoding_dim):\n",
        "        super(AutoencoderSimple, self).__init__()\n",
        "        # Encoder\n",
        "        self.encoder = nn.Linear(784, encoding_dim)\n",
        "        # Decoder\n",
        "        self.decoder = nn.Linear(encoding_dim, 784)\n",
        "\n",
        "    def forward(self, x):\n",
        "        out = F.relu(self.encoder(x))\n",
        "        out = torch.sigmoid(self.decoder(out))\n",
        "\n",
        "        return out\n",
        "\n",
        "class Autoencoder(nn.Module):\n",
        "    def __init__(self, encoding_dims=[128, 64]):\n",
        "        super(Autoencoder, self).__init__()\n",
        "        # Codificador\n",
        "        self.encoder = nn.Sequential(\n",
        "            nn.Linear(28*28, encoding_dims[0]),\n",
        "            nn.ReLU(),\n",
        "            nn.Linear(encoding_dims[0], encoding_dims[1]),\n",
        "            nn.ReLU()\n",
        "        )\n",
        "        # Decodificador\n",
        "        self.decoder = nn.Sequential(\n",
        "            nn.Linear(encoding_dims[1], encoding_dims[0]),\n",
        "            nn.ReLU(),\n",
        "            nn.Linear(encoding_dims[0], 28*28),\n",
        "            nn.Sigmoid()  # salida entre 0 y 1\n",
        "        )\n",
        "\n",
        "    def forward(self, x):\n",
        "        z = self.encoder(x)\n",
        "        x_hat = self.decoder(z)\n",
        "        return x_hat"
      ],
      "metadata": {
        "id": "05JucJsoB6E-"
      },
      "execution_count": null,
      "outputs": []
    },
    {
      "cell_type": "code",
      "source": [
        "MODEL = \"Simple\"\n",
        "\n",
        "match MODEL:\n",
        "  case \"Simple\":\n",
        "    encoding_dim = 32\n",
        "    model = AutoencoderSimple(encoding_dim)\n",
        "  case \"Complex\":\n",
        "    encoder_dims = [128, 64]\n",
        "    model = Autoencoder(encoder_dims)\n",
        "\n",
        "if torch.cuda.is_available():\n",
        "  model.cuda()\n",
        "\n",
        "print(model)"
      ],
      "metadata": {
        "id": "FtBYi-kACg1A",
        "colab": {
          "base_uri": "https://localhost:8080/"
        },
        "outputId": "1f5b76ed-a994-4538-b135-9830bde82625"
      },
      "execution_count": null,
      "outputs": [
        {
          "output_type": "stream",
          "name": "stdout",
          "text": [
            "AutoencoderSimple(\n",
            "  (encoder): Linear(in_features=784, out_features=32, bias=True)\n",
            "  (decoder): Linear(in_features=32, out_features=784, bias=True)\n",
            ")\n"
          ]
        }
      ]
    },
    {
      "cell_type": "markdown",
      "source": [
        "## Entrenando\n",
        "\n",
        "Importante: como estamos ahora trabajando sobre la `representación` de las imágenes no necesitamos la salida `y`"
      ],
      "metadata": {
        "id": "D6oAhmIwEDgo"
      }
    },
    {
      "cell_type": "code",
      "source": [
        "# Especificar la función de pérdida\n",
        "criterion = nn.MSELoss()\n",
        "\n",
        "# Usamos Adam como optimizador con una tasa de aprendizaje fija de 1e-3\n",
        "optimizer = torch.optim.Adam(model.parameters(), lr=0.001)\n",
        "\n",
        "# Elegir el número de épocas para entrenar la red\n",
        "n_epochs = 20\n",
        "\n",
        "# Poner el modelo en modo entrenamiento\n",
        "model.train()\n",
        "\n",
        "for epoch in range(n_epochs):\n",
        "    # Monitorear la pérdida durante el entrenamiento\n",
        "    train_loss = 0.0\n",
        "\n",
        "    # Entrenar el modelo #\n",
        "    # Alimentar los datos a la red lote por lote usando el dataloader\n",
        "    for batch_data in train_loader:\n",
        "        # _ representa las etiquetas\n",
        "        # no necesitamos etiquetas al realizar reconstrucción\n",
        "        images, _ = batch_data\n",
        "        # Aplanar las imágenes\n",
        "        images = images.view(images.size(0), -1)\n",
        "        # Enviar las imágenes a GPU si está disponible\n",
        "        if torch.cuda.is_available():\n",
        "            images = images.cuda()\n",
        "        # Limpiar los gradientes de todas las variables optimizadas\n",
        "        optimizer.zero_grad()\n",
        "        # Paso hacia adelante: calcular la salida predicha pasando las entradas al modelo\n",
        "        outputs = model(images)\n",
        "        # Calcular la pérdida entre las imágenes de salida y las de entrada\n",
        "        loss = criterion(outputs, images)\n",
        "        # Paso hacia atrás: calcular el gradiente de la pérdida respecto a los parámetros del modelo\n",
        "        loss.backward()\n",
        "        # Realizar un solo paso de optimización (actualización de parámetros)\n",
        "        optimizer.step()\n",
        "        # Actualizar la pérdida acumulada\n",
        "        train_loss += loss.item() * images.size(0)\n",
        "\n",
        "    # Imprimir estadísticas promedio de entrenamiento\n",
        "    train_loss = train_loss / len(train_loader)\n",
        "    print('Época: {} L(Theta)=: {:.6f}'.format(\n",
        "        epoch,\n",
        "        train_loss\n",
        "    ))\n"
      ],
      "metadata": {
        "id": "ssUxyRJSEUzV",
        "colab": {
          "base_uri": "https://localhost:8080/"
        },
        "outputId": "85e7a0d8-53e8-411b-9a81-803d66ea8bb9"
      },
      "execution_count": null,
      "outputs": [
        {
          "output_type": "stream",
          "name": "stdout",
          "text": [
            "Época: 0 L(Theta)=: 2.386593\n",
            "Época: 1 L(Theta)=: 1.315528\n",
            "Época: 2 L(Theta)=: 1.040679\n",
            "Época: 3 L(Theta)=: 0.878057\n",
            "Época: 4 L(Theta)=: 0.759522\n",
            "Época: 5 L(Theta)=: 0.688439\n",
            "Época: 6 L(Theta)=: 0.636693\n",
            "Época: 7 L(Theta)=: 0.597742\n",
            "Época: 8 L(Theta)=: 0.568476\n",
            "Época: 9 L(Theta)=: 0.546332\n",
            "Época: 10 L(Theta)=: 0.530176\n",
            "Época: 11 L(Theta)=: 0.518377\n",
            "Época: 12 L(Theta)=: 0.509132\n",
            "Época: 13 L(Theta)=: 0.501971\n",
            "Época: 14 L(Theta)=: 0.495893\n",
            "Época: 15 L(Theta)=: 0.491787\n",
            "Época: 16 L(Theta)=: 0.488524\n",
            "Época: 17 L(Theta)=: 0.485783\n",
            "Época: 18 L(Theta)=: 0.483460\n",
            "Época: 19 L(Theta)=: 0.480828\n"
          ]
        }
      ]
    },
    {
      "cell_type": "markdown",
      "source": [
        "## Evaluation on test set\n",
        "We now evaluate the reconstruction results on the unseen test set.\n",
        "We plot the original test images and their corresponding reconstruction ones."
      ],
      "metadata": {
        "id": "JeN_f28fJ1lq"
      }
    },
    {
      "cell_type": "code",
      "source": [
        "# Poner el modelo en modo evaluación\n",
        "model.eval()\n",
        "\n",
        "# Monitorear la pérdida en el conjunto de prueba\n",
        "test_loss = 0.0\n",
        "\n",
        "# Desactivar la computación de gradientes\n",
        "with torch.no_grad():\n",
        "    # Iterar sobre los datos de prueba\n",
        "    for batch_data in test_loader:\n",
        "        # Extraer las imágenes del lote\n",
        "        images, _ = batch_data\n",
        "        # Aplanar las imágenes y enviarlas a GPU\n",
        "        images = images.view(images.size(0), -1)\n",
        "        # Enviar a GPU si está disponible\n",
        "        if torch.cuda.is_available():\n",
        "            images = images.cuda()\n",
        "        # Paso hacia adelante: calcular las salidas predichas pasando las entradas al modelo\n",
        "        outputs = model(images)\n",
        "        # Calcular la pérdida entre las imágenes de salida y las de entrada\n",
        "        loss = criterion(outputs, images)\n",
        "        # Actualizar la pérdida de prueba\n",
        "        test_loss += loss.item() * images.size(0)\n",
        "\n",
        "# Calcular la pérdida promedio en el conjunto de prueba\n",
        "test_loss = test_loss / len(test_loader.dataset)\n",
        "\n",
        "# Imprimir la pérdida de prueba\n",
        "print('Pérdida en prueba: {:.6f}'.format(test_loss))"
      ],
      "metadata": {
        "id": "daly1tTfbbXk",
        "colab": {
          "base_uri": "https://localhost:8080/"
        },
        "outputId": "2c671085-3459-4a97-f04f-0bb4271c8df8"
      },
      "execution_count": null,
      "outputs": [
        {
          "output_type": "stream",
          "name": "stdout",
          "text": [
            "Pérdida en prueba: 0.001470\n"
          ]
        }
      ]
    },
    {
      "cell_type": "code",
      "source": [
        "# Obtener un lote de imágenes de prueba\n",
        "test_images, test_labels = next(iter(test_loader))\n",
        "\n",
        "test_images_flatten = test_images.view(test_images.size(0), -1)\n",
        "# Poner el modelo en modo evaluación\n",
        "model.eval()\n",
        "# Enviar el modelo de vuelta a la CPU\n",
        "model.cpu()\n",
        "# Obtener las salidas del modelo\n",
        "output = model(test_images_flatten)\n",
        "\n",
        "# Preparar las imágenes para mostrarlas\n",
        "test_images = test_images.numpy()\n",
        "\n",
        "# La salida se redimensiona a un lote de imágenes\n",
        "output = output.view(batch_size, 1, 28, 28)\n",
        "# Usar detach cuando la salida requiere gradientes\n",
        "output = output.detach().numpy()\n",
        "\n",
        "# Graficar las primeras diez imágenes de entrada y sus reconstrucciones\n",
        "fig, axes = plt.subplots(nrows=2, ncols=10, sharex=True, sharey=True, figsize=(25,4))\n",
        "\n",
        "# Imágenes de entrada en la fila superior, reconstrucciones en la inferior\n",
        "for test_images, row in zip([test_images, output], axes):\n",
        "    for img, ax in zip(test_images, row):\n",
        "        ax.imshow(np.squeeze(img), cmap='gray')\n",
        "        ax.get_xaxis().set_visible(False)\n",
        "        ax.get_yaxis().set_visible(False)"
      ],
      "metadata": {
        "id": "gemBn0ihG2Yo",
        "colab": {
          "base_uri": "https://localhost:8080/",
          "height": 124
        },
        "outputId": "6de5e435-14ee-4887-f32d-ef7b4821ae7a"
      },
      "execution_count": null,
      "outputs": [
        {
          "output_type": "display_data",
          "data": {
            "text/plain": [
              "<Figure size 2500x400 with 20 Axes>"
            ],
            "image/png": "[encoded data removed]"
          },
          "metadata": {}
        }
      ]
    },
    {
      "cell_type": "markdown",
      "source": [
        "## Aplicación: denoising!"
      ],
      "metadata": {
        "id": "_MIopO1Vk3pN"
      }
    },
    {
      "cell_type": "code",
      "source": [
        "import torch\n",
        "import numpy as np\n",
        "import matplotlib.pyplot as plt\n",
        "import torch.nn.functional as F\n",
        "\n",
        "# Obtener un lote de imágenes de prueba\n",
        "test_images, _ = next(iter(test_loader))\n",
        "batch_size = test_images.size(0)\n",
        "\n",
        "# Aplanar las imágenes\n",
        "test_images_flatten = test_images.view(batch_size, -1)\n",
        "\n",
        "# Poner modelo en modo evaluación y en CPU\n",
        "model.eval()\n",
        "model.cpu()\n",
        "\n",
        "# Agregar ruido gaussiano controlado\n",
        "np.random.seed(0)\n",
        "noise = torch.randn_like(test_images_flatten) * 0.3\n",
        "input_noised = test_images_flatten + noise\n",
        "input_noised = torch.clamp(input_noised, 0., 1.)\n",
        "\n",
        "# Pasar las imágenes ruidosas por el modelo\n",
        "output_noised = model(input_noised)\n",
        "\n",
        "# Calcular MSE entre:\n",
        "# 1. Imagen original y con ruido\n",
        "# 2. Imagen original y reconstruida\n",
        "mse_ruido = F.mse_loss(input_noised, test_images_flatten).item()\n",
        "mse_autoencoder = F.mse_loss(output_noised, test_images_flatten).item()\n",
        "\n",
        "print(f\"MSE imagen original vs con ruido:     {mse_ruido:.6f}\")\n",
        "print(f\"MSE imagen original vs reconstruida:  {mse_autoencoder:.6f}\")\n",
        "\n",
        "# Preparar imágenes para visualización\n",
        "original = test_images.numpy()\n",
        "input_noised = input_noised.view(batch_size, 1, 28, 28).detach().numpy()\n",
        "output_noised = output_noised.view(batch_size, 1, 28, 28).detach().numpy()\n",
        "\n",
        "# Visualizar original, ruidosa y reconstruida\n",
        "fig, axes = plt.subplots(nrows=3, ncols=10, sharex=True, sharey=True, figsize=(25,6))\n",
        "titles = ['Originales', 'Con ruido', 'Reconstruidas']\n",
        "\n",
        "for row_idx, image_set in enumerate([original, input_noised, output_noised]):\n",
        "    for img, ax in zip(image_set[:10], axes[row_idx]):\n",
        "        ax.imshow(np.squeeze(img), cmap='gray')\n",
        "        ax.axis('off')\n",
        "    axes[row_idx][0].set_ylabel(titles[row_idx], fontsize=14)\n",
        "\n",
        "plt.tight_layout()\n",
        "plt.show()\n"
      ],
      "metadata": {
        "colab": {
          "base_uri": "https://localhost:8080/",
          "height": 205
        },
        "id": "XPK6dT3mjGok",
        "outputId": "dd88ab34-1b71-49d8-b2b2-b7892f713e3c"
      },
      "execution_count": null,
      "outputs": [
        {
          "output_type": "stream",
          "name": "stdout",
          "text": [
            "MSE imagen original vs con ruido:     0.045285\n",
            "MSE imagen original vs reconstruida:  0.031670\n"
          ]
        },
        {
          "output_type": "display_data",
          "data": {
            "text/plain": [
              "<Figure size 2500x600 with 30 Axes>"
            ],
            "image/png": "[encoded data removed]"
          },
          "metadata": {}
        }
      ]
    },
    {
      "cell_type": "markdown",
      "source": [
        "# 2. **Stacked Autoencoders**\n",
        "\n",
        "Los **stacked autoencoders** se construyen apilando múltiples autoencoders, donde la salida del codificador anterior alimenta al siguiente.\n",
        "\n",
        "Escribamos un ejemplo con 2 autoencoders.\n",
        "\n",
        "## Estructura del ejemplo\n",
        "\n",
        "- Primer codificador:\n",
        "  $$\n",
        "  \\mathbf{z}^{(1)} = \\sigma(\\mathbf{W}^{(1)} \\mathbf{x} + \\mathbf{b}^{(1)})\n",
        "  $$\n",
        "\n",
        "- Segundo codificador:\n",
        "  $$\n",
        "  \\mathbf{z}^{(2)} = \\sigma(\\mathbf{W}^{(2)} \\mathbf{z}^{(1)} + \\mathbf{b}^{(2)})\n",
        "  $$\n",
        "\n",
        "- Primer decodificador:\n",
        "  $$\n",
        "  \\hat{\\mathbf{z}}^{(1)} = \\sigma'(\\mathbf{W}^{(2)T} \\mathbf{z}^{(2)} + \\mathbf{b}'^{(2)})\n",
        "  $$\n",
        "\n",
        "- Segundo decodificador:\n",
        "  $$\n",
        "  \\hat{\\mathbf{x}} = \\sigma'(\\mathbf{W}^{(1)T} \\hat{\\mathbf{z}}^{(1)} + \\mathbf{b}'^{(1)})\n",
        "  $$\n",
        "\n",
        "## Entrenamiento\n",
        "- Entrenamiento capa por capa (greedy layer-wise)\n",
        "- Ajuste fino final (_fine-tuning_) de la red completa\n",
        "\n",
        "El proceso de entrenamiento tiene 2 etapas:\n",
        "\n",
        "1. Cada capa es entrenada por separado\n",
        "1. La red es entrenada completamente.\n",
        "\n",
        "## Ventajas\n",
        "- Aprendizaje de representaciones jerárquicas\n",
        "- Mejora la compresión y la generalización\n",
        "\n"
      ],
      "metadata": {
        "id": "nVYXhsPrLBrV"
      }
    },
    {
      "cell_type": "code",
      "source": [
        "import torch\n",
        "from torch import nn, optim, functional, utils\n",
        "\n",
        "from torch.nn import BCELoss, init\n",
        "from torch.utils.data.dataloader import DataLoader\n",
        "import torchvision\n",
        "from torchvision import datasets, utils\n",
        "import torchvision.transforms as transforms\n",
        "from torchvision.datasets import MNIST\n",
        "\n",
        "import time, os\n",
        "\n",
        "def get_mnist_loader(batch_size=32, num_train_samples = 6000, num_test_samples = 1000, normalize=True):\n",
        "    \"\"\"\n",
        "\n",
        "    :return: train_loader, test_loader\n",
        "    \"\"\"\n",
        "\n",
        "    if normalize:\n",
        "        transform = transforms.Compose([\n",
        "            transforms.ToTensor(),\n",
        "            transforms.Normalize((0.5,), (0.5,))\n",
        "        ])\n",
        "    else:\n",
        "        transform = transforms.ToTensor()\n",
        "\n",
        "    train_dataset = MNIST(root='../data',\n",
        "                          train=True,\n",
        "                          transform=transform,\n",
        "                          download=True)\n",
        "    test_dataset = MNIST(root='../data',\n",
        "                         train=False,\n",
        "                         transform=transform,\n",
        "                         download=True)\n",
        "\n",
        "    # Seleccionar los índices usando un generador\n",
        "    g = torch.Generator().manual_seed(0)\n",
        "    train_indices = torch.randperm(len(train_dataset), generator=g)[:num_train_samples]\n",
        "    test_indices = torch.randperm(len(test_dataset), generator=g)[:num_test_samples]\n",
        "\n",
        "    # Crear un subsampler dependiendo de los índices\n",
        "    train_subset_sampler = torch.utils.data.SubsetRandomSampler(train_indices)\n",
        "    test_subset_sampler = torch.utils.data.SubsetRandomSampler(test_indices)\n",
        "\n",
        "    train_loader = torch.utils.data.DataLoader(dataset=train_dataset,\n",
        "                                               batch_size=batch_size,\n",
        "                                               sampler = train_subset_sampler)\n",
        "    test_loader = torch.utils.data.DataLoader(dataset=test_dataset,\n",
        "                                              batch_size=batch_size,\n",
        "                                              sampler = test_subset_sampler)\n",
        "    return train_loader, test_loader"
      ],
      "metadata": {
        "id": "8163o-y3SLfw"
      },
      "execution_count": null,
      "outputs": []
    },
    {
      "cell_type": "markdown",
      "source": [
        "## Proceso para escribir nuestro Stacked Autoencoder\n",
        "\n",
        "Primero, debemos definir la capa `AutoEncoderLayer`.\n",
        "\n",
        "La idea fundamental es usarla como bloque de construcción dentro de nuestro `SAE`."
      ],
      "metadata": {
        "id": "8GimciNoQI73"
      }
    },
    {
      "cell_type": "code",
      "source": [
        "class AutoEncoderLayer(nn.Module):\n",
        "    \"\"\"\n",
        "    Redes connectadas líneales para el StackAutoencoder.\n",
        "    El módulo, por cada autoencoder, puede ser entrenado cuando is_training_self == True\n",
        "    \"\"\"\n",
        "    def __init__(self, input_dim=None, hidden_dim=None, SelfTraining=False):\n",
        "        super(AutoEncoderLayer, self).__init__()\n",
        "        if input_dim is None or hidden_dim is None:\n",
        "            raise ValueError(\"Agrega dimensiones correctas!\")\n",
        "        self.in_features = input_dim\n",
        "        self.out_features = hidden_dim\n",
        "\n",
        "        # Hacer pre-entrenamiento capa por capa si es true, o entrenar toda la red.\n",
        "        self.is_training_self = SelfTraining\n",
        "\n",
        "        # Encoder\n",
        "        self.encoder = nn.Sequential(\n",
        "            nn.Linear(self.in_features, self.out_features, bias=True),\n",
        "            nn.Sigmoid()\n",
        "        )\n",
        "\n",
        "        # Decoder\n",
        "        self.decoder = nn.Sequential(\n",
        "            nn.Linear(self.out_features, self.in_features, bias=True),\n",
        "            nn.Sigmoid()\n",
        "        )\n",
        "\n",
        "        # Inicialización de pesos\n",
        "        #self._initialize_weights()\n",
        "\n",
        "    def forward(self, x):\n",
        "        out = self.encoder(x)\n",
        "\n",
        "        # Si la red no está en training mode, retornar solamente la codificación del input.\n",
        "        if self.is_training_self:\n",
        "            return self.decoder(out)\n",
        "        else:\n",
        "            return out\n",
        "\n",
        "    def lock_grad(self):\n",
        "        for param in self.parameters():\n",
        "            param.requires_grad = False\n",
        "\n",
        "    def acquire_grad(self):\n",
        "        for param in self.parameters():\n",
        "            param.requires_grad = True\n",
        "\n",
        "    @property\n",
        "    def input_dim(self):\n",
        "        return self.in_features\n",
        "\n",
        "    @property\n",
        "    def output_dim(self):\n",
        "        return self.out_features\n",
        "\n",
        "    @property\n",
        "    def is_training_layer(self):\n",
        "        return self.is_training_self\n",
        "\n",
        "    @is_training_layer.setter\n",
        "    def is_training_layer(self, other: bool):\n",
        "        self.is_training_self = other"
      ],
      "metadata": {
        "id": "TNjUD_jNLDN3"
      },
      "execution_count": null,
      "outputs": []
    },
    {
      "cell_type": "markdown",
      "source": [
        "## Construir el StackedAutoEncoder\n",
        "\n",
        "Conectamos cada `AutoEncoderLayer` y agregamos la capa de clasificación"
      ],
      "metadata": {
        "id": "CxT2upS1Aee6"
      }
    },
    {
      "cell_type": "code",
      "source": [
        "class StackedAutoEncoderClassifier(nn.Module):\n",
        "    \"\"\"\n",
        "    Stack the trained autoencoder layers and add a classification layer at the end\n",
        "    \"\"\"\n",
        "\n",
        "    def __init__(self, autoencoder_list=None, num_classes=10):\n",
        "        super(StackedAutoEncoderClassifier, self).__init__()\n",
        "\n",
        "        # Utilizamos solamente la capa de codificación de cada AutoEncoder\n",
        "        self.encoder_layers = nn.ModuleList([autoencoder.encoder for autoencoder in autoencoder_list])\n",
        "        self.num_classes = num_classes\n",
        "\n",
        "        # La capa de clasificación toma la última salida del encoder y mapea a número de clases\n",
        "        self.classification_layer = nn.Linear(autoencoder_list[-1].out_features, num_classes)\n",
        "\n",
        "    def forward(self, x):\n",
        "        encoded_representation = x\n",
        "        for layer in self.encoder_layers:\n",
        "            encoded_representation = layer(encoded_representation)\n",
        "\n",
        "        # Classification layer\n",
        "        output = self.classification_layer(encoded_representation)\n",
        "        return output\n"
      ],
      "metadata": {
        "id": "dw1r8BdBpO5f"
      },
      "execution_count": null,
      "outputs": []
    },
    {
      "cell_type": "markdown",
      "source": [
        "## El entrenamiento de cada capa\n",
        "\n",
        "Fíjense cómo se congelan las capas anteriores a `layer` y solamente obtenemos el paso hacia adelante."
      ],
      "metadata": {
        "id": "1UQL0TzMRxc3"
      }
    },
    {
      "cell_type": "code",
      "source": [
        "def train_layer(layers_list=None, layer=None, epochs=None, validate=True, batch_size = 128):\n",
        "    \"\"\"\n",
        "    Entrenamiento greedy capa-por-capa: Si entrenamos la capa i, congelamos las capas hasta i-1\n",
        "    :param layers_list:\n",
        "    :param layer:\n",
        "    :param epoch:\n",
        "    :return:\n",
        "    \"\"\"\n",
        "    if torch.cuda.is_available():\n",
        "        for model in layers_list:\n",
        "            model.cuda()\n",
        "\n",
        "    train_loader, test_loader = get_mnist_loader(batch_size=batch_size)\n",
        "    optimizer = optim.SGD(layers_list[layer].parameters(), lr=0.1)\n",
        "    criterion = torch.nn.MSELoss()\n",
        "\n",
        "    # Entrenamiento\n",
        "    for epoch_index in range(epochs):\n",
        "        sum_loss = 0.\n",
        "\n",
        "        # Congelamos todos los pesos HASTA la capa i\n",
        "        # Capa 0 no tiene capa previa\n",
        "        if layer != 0:\n",
        "            for index in range(layer):\n",
        "                # Congelamos los pesos de la capa\n",
        "                layers_list[index].lock_grad()\n",
        "\n",
        "                # Asignamos la salida de la capa congelada\n",
        "                layers_list[index].is_training_layer = False\n",
        "\n",
        "        for batch_index, (train_data, _) in enumerate(train_loader):\n",
        "            if torch.cuda.is_available():\n",
        "                train_data = train_data.cuda()\n",
        "            out = train_data.view(train_data.size(0), -1)\n",
        "\n",
        "            # Aplicamos el paso hacia adelante hasta la capa i-1\n",
        "            if layer != 0:\n",
        "                for l in range(layer):\n",
        "                    out = layers_list[l](out)\n",
        "\n",
        "            # Entrenamos la capa i\n",
        "            pred = layers_list[layer](out)\n",
        "\n",
        "            optimizer.zero_grad()\n",
        "            loss = criterion(pred, out)\n",
        "            sum_loss += loss\n",
        "            loss.backward()\n",
        "            optimizer.step()\n",
        "            #if (batch_index + 1) % 20 == 0:\n",
        "        print(\"Capa de entrenamiento: {}, Época: {}/{}, Iter: {}/{}, L(theta): {:.4f}\".format(\n",
        "            layer, (epoch_index + 1), epochs, (batch_index + 1), len(train_loader), loss))\n",
        "\n",
        "        if validate:\n",
        "            pass"
      ],
      "metadata": {
        "id": "pvZYBFsGRsmg"
      },
      "execution_count": null,
      "outputs": []
    },
    {
      "cell_type": "markdown",
      "source": [
        "## Entrenamiento de toda la red\n",
        "\n",
        "Ahora podemos descongelar los parámetros de la red"
      ],
      "metadata": {
        "id": "fzOYc3BWx1WY"
      }
    },
    {
      "cell_type": "code",
      "source": [
        "def train_classifier(model=None, epochs=20, fine_tuning = False, batch_size = 128):\n",
        "\n",
        "    print(\">> Comenzando entrenamiento del modelo\")\n",
        "    if torch.cuda.is_available():\n",
        "        model.cuda()\n",
        "\n",
        "    # Si queremos hacer fine-tuning, descongelamos los pesos de las capas\n",
        "    if fine_tuning:\n",
        "      for param in model.parameters():\n",
        "          param.requires_grad = True\n",
        "      training_phase = 'Fine-Tuning'\n",
        "    else:\n",
        "      training_phase = 'Classifier'\n",
        "\n",
        "    train_loader, test_loader = get_mnist_loader(batch_size=batch_size)\n",
        "    optimizer = optim.SGD(model.parameters(), lr=1)\n",
        "    criterion = nn.CrossEntropyLoss()\n",
        "\n",
        "    # Modelo en modalidad entrenamiento\n",
        "    model.train()\n",
        "\n",
        "    # Entrenamiento\n",
        "    for epoch_index in range(epochs):\n",
        "        sum_loss = 0.\n",
        "        for batch_index, (train_data, train_labels) in enumerate(train_loader):\n",
        "            if torch.cuda.is_available():\n",
        "                train_data, train_labels = train_data.cuda(), train_labels.cuda()\n",
        "            x = train_data.view(train_data.size(0), -1)\n",
        "\n",
        "            predicted_labels = model(x)\n",
        "\n",
        "            optimizer.zero_grad()\n",
        "            loss = criterion(predicted_labels, train_labels)\n",
        "            sum_loss += loss\n",
        "            loss.backward()\n",
        "            optimizer.step()\n",
        "\n",
        "        print(\"Entrenamiento {}, Época: {}/{}, Iter: {}/{}, L(theta): {:.4f}\".format(training_phase, (epoch_index + 1), epochs, (batch_index + 1), len(train_loader), loss))\n",
        "\n",
        "    print(\"<< Finalizado entrenamiento de todo el modelo\")\n",
        "    print(\"Calculando accuracy del test set\")\n",
        "\n",
        "    # Colocar modelo en fase de evaluación\n",
        "    model.eval()\n",
        "\n",
        "    # Calcular accuracy en el test set\n",
        "    total_correct = 0\n",
        "    total_samples = 0\n",
        "    with torch.no_grad():\n",
        "        for batch_data in test_loader:\n",
        "            images, labels = batch_data\n",
        "            images = images.view(images.size(0), -1)\n",
        "            if torch.cuda.is_available():\n",
        "              images, labels = images.cuda(), labels.cuda()\n",
        "            outputs = model(images)\n",
        "            # Obtenemos el valor máximo\n",
        "            _, predicted_labels = torch.max(outputs.data, 1)\n",
        "            # Contamos predicciones correctas\n",
        "            total_correct += (predicted_labels == labels).sum().item()\n",
        "            total_samples += labels.size(0)\n",
        "\n",
        "\n",
        "    # Calculamos el accuracy del test set\n",
        "    accuracy = total_correct / total_samples\n",
        "    print('Accuracy en el test set: {:.6f}'.format(accuracy))\n",
        "    return model, accuracy\n"
      ],
      "metadata": {
        "id": "LaK2zTZd2Z5Z"
      },
      "execution_count": null,
      "outputs": []
    },
    {
      "cell_type": "markdown",
      "source": [
        "## Entrenamiento\n",
        "\n",
        "Los hiperparámetros por defecto de las épocas ahora se dividen en:\n",
        "\n",
        "1. Épocas por capa\n",
        "1. Épocas del clasificador\n",
        "1. Épocas de Fine-tuning"
      ],
      "metadata": {
        "id": "bkccSfRJx4ah"
      }
    },
    {
      "cell_type": "code",
      "source": [
        "num_layer_wise_epochs = 10\n",
        "num_classifier_epochs = 10\n",
        "num_finetuning_epochs = 20\n",
        "batch_size = 128"
      ],
      "metadata": {
        "id": "zm44Cap4T7oS"
      },
      "execution_count": null,
      "outputs": []
    },
    {
      "cell_type": "markdown",
      "source": [
        "### Entrenando los AutoEncoders"
      ],
      "metadata": {
        "id": "y3Tb__cy1JQu"
      }
    },
    {
      "cell_type": "code",
      "source": [
        "input_dim = 784\n",
        "# Definimos nuestros AutoEncoders\n",
        "# Podemos modificar el número de AutoEncoders y sus respectivas capas\n",
        "encoder_1 = AutoEncoderLayer(input_dim = input_dim, hidden_dim = 256, SelfTraining=True)\n",
        "encoder_2 = AutoEncoderLayer(input_dim = 256, hidden_dim = 64, SelfTraining=True)\n",
        "encoder_3 = AutoEncoderLayer(input_dim = 64, hidden_dim = 32, SelfTraining=True)\n",
        "\n",
        "encoders_list = [encoder_1, encoder_2, encoder_3]\n",
        "num_layers = len(encoders_list)\n",
        "\n",
        "\n",
        "# Pre-train cada capa\n",
        "for level in range(num_layers):\n",
        "   train_layer(layers_list=encoders_list, layer=level, epochs=num_layer_wise_epochs, validate=True, batch_size = batch_size)"
      ],
      "metadata": {
        "colab": {
          "base_uri": "https://localhost:8080/"
        },
        "id": "rBSiWxtS1Jim",
        "outputId": "98f514e9-55e3-44dc-8af4-d82b04924691"
      },
      "execution_count": null,
      "outputs": [
        {
          "output_type": "stream",
          "name": "stdout",
          "text": [
            "Capa de entrenamiento: 0, Época: 1/10, Iter: 47/47, L(theta): 1.7479\n",
            "Capa de entrenamiento: 0, Época: 2/10, Iter: 47/47, L(theta): 1.5275\n",
            "Capa de entrenamiento: 0, Época: 3/10, Iter: 47/47, L(theta): 1.3270\n",
            "Capa de entrenamiento: 0, Época: 4/10, Iter: 47/47, L(theta): 1.1918\n",
            "Capa de entrenamiento: 0, Época: 5/10, Iter: 47/47, L(theta): 1.1290\n",
            "Capa de entrenamiento: 0, Época: 6/10, Iter: 47/47, L(theta): 1.0939\n",
            "Capa de entrenamiento: 0, Época: 7/10, Iter: 47/47, L(theta): 1.0561\n",
            "Capa de entrenamiento: 0, Época: 8/10, Iter: 47/47, L(theta): 1.0338\n",
            "Capa de entrenamiento: 0, Época: 9/10, Iter: 47/47, L(theta): 1.0189\n",
            "Capa de entrenamiento: 0, Época: 10/10, Iter: 47/47, L(theta): 1.0096\n",
            "Capa de entrenamiento: 1, Época: 1/10, Iter: 47/47, L(theta): 0.1803\n",
            "Capa de entrenamiento: 1, Época: 2/10, Iter: 47/47, L(theta): 0.1628\n",
            "Capa de entrenamiento: 1, Época: 3/10, Iter: 47/47, L(theta): 0.1465\n",
            "Capa de entrenamiento: 1, Época: 4/10, Iter: 47/47, L(theta): 0.1286\n",
            "Capa de entrenamiento: 1, Época: 5/10, Iter: 47/47, L(theta): 0.1112\n",
            "Capa de entrenamiento: 1, Época: 6/10, Iter: 47/47, L(theta): 0.0950\n",
            "Capa de entrenamiento: 1, Época: 7/10, Iter: 47/47, L(theta): 0.0813\n",
            "Capa de entrenamiento: 1, Época: 8/10, Iter: 47/47, L(theta): 0.0699\n",
            "Capa de entrenamiento: 1, Época: 9/10, Iter: 47/47, L(theta): 0.0593\n",
            "Capa de entrenamiento: 1, Época: 10/10, Iter: 47/47, L(theta): 0.0515\n",
            "Capa de entrenamiento: 2, Época: 1/10, Iter: 47/47, L(theta): 0.1049\n",
            "Capa de entrenamiento: 2, Época: 2/10, Iter: 47/47, L(theta): 0.0871\n",
            "Capa de entrenamiento: 2, Época: 3/10, Iter: 47/47, L(theta): 0.0717\n",
            "Capa de entrenamiento: 2, Época: 4/10, Iter: 47/47, L(theta): 0.0581\n",
            "Capa de entrenamiento: 2, Época: 5/10, Iter: 47/47, L(theta): 0.0471\n",
            "Capa de entrenamiento: 2, Época: 6/10, Iter: 47/47, L(theta): 0.0380\n",
            "Capa de entrenamiento: 2, Época: 7/10, Iter: 47/47, L(theta): 0.0303\n",
            "Capa de entrenamiento: 2, Época: 8/10, Iter: 47/47, L(theta): 0.0245\n",
            "Capa de entrenamiento: 2, Época: 9/10, Iter: 47/47, L(theta): 0.0197\n",
            "Capa de entrenamiento: 2, Época: 10/10, Iter: 47/47, L(theta): 0.0161\n"
          ]
        }
      ]
    },
    {
      "cell_type": "code",
      "source": [
        "# Modelo de StackedAutoEncoder\n",
        "SAE_model = StackedAutoEncoderClassifier(autoencoder_list=encoders_list, num_classes = 10)\n",
        "# Print the model\n",
        "print(SAE_model)"
      ],
      "metadata": {
        "colab": {
          "base_uri": "https://localhost:8080/"
        },
        "id": "JZ1LxBk_1X_2",
        "outputId": "1f24241f-29a8-4999-cc70-fe2932b391be"
      },
      "execution_count": null,
      "outputs": [
        {
          "output_type": "stream",
          "name": "stdout",
          "text": [
            "StackedAutoEncoderClassifier(\n",
            "  (encoder_layers): ModuleList(\n",
            "    (0): Sequential(\n",
            "      (0): Linear(in_features=784, out_features=256, bias=True)\n",
            "      (1): Sigmoid()\n",
            "    )\n",
            "    (1): Sequential(\n",
            "      (0): Linear(in_features=256, out_features=64, bias=True)\n",
            "      (1): Sigmoid()\n",
            "    )\n",
            "    (2): Sequential(\n",
            "      (0): Linear(in_features=64, out_features=32, bias=True)\n",
            "      (1): Sigmoid()\n",
            "    )\n",
            "  )\n",
            "  (classification_layer): Linear(in_features=32, out_features=10, bias=True)\n",
            ")\n"
          ]
        }
      ]
    },
    {
      "cell_type": "markdown",
      "source": [
        "### Entrenamiento sin fine-tuning"
      ],
      "metadata": {
        "id": "6X1STs-11cP7"
      }
    },
    {
      "cell_type": "code",
      "source": [
        "# Entrenamos el clasificador sin fine tuning\n",
        "train_classifier(model=SAE_model, epochs=num_classifier_epochs, fine_tuning = False, batch_size = batch_size)"
      ],
      "metadata": {
        "colab": {
          "base_uri": "https://localhost:8080/"
        },
        "id": "yuzqUFum1cYK",
        "outputId": "d43c6720-edfb-4f7a-ebc3-52324092ecd3"
      },
      "execution_count": null,
      "outputs": [
        {
          "output_type": "stream",
          "name": "stdout",
          "text": [
            ">> Comenzando entrenamiento del modelo\n",
            "Entrenamiento Classifier, Época: 1/10, Iter: 47/47, L(theta): 2.2991\n",
            "Entrenamiento Classifier, Época: 2/10, Iter: 47/47, L(theta): 2.3054\n",
            "Entrenamiento Classifier, Época: 3/10, Iter: 47/47, L(theta): 2.3017\n",
            "Entrenamiento Classifier, Época: 4/10, Iter: 47/47, L(theta): 2.3022\n",
            "Entrenamiento Classifier, Época: 5/10, Iter: 47/47, L(theta): 2.3074\n",
            "Entrenamiento Classifier, Época: 6/10, Iter: 47/47, L(theta): 2.2998\n",
            "Entrenamiento Classifier, Época: 7/10, Iter: 47/47, L(theta): 2.2926\n",
            "Entrenamiento Classifier, Época: 8/10, Iter: 47/47, L(theta): 2.2937\n",
            "Entrenamiento Classifier, Época: 9/10, Iter: 47/47, L(theta): 2.2053\n",
            "Entrenamiento Classifier, Época: 10/10, Iter: 47/47, L(theta): 1.9302\n",
            "<< Finalizado entrenamiento de todo el modelo\n",
            "Calculando accuracy del test set\n",
            "Accuracy en el test set: 0.232000\n"
          ]
        },
        {
          "output_type": "execute_result",
          "data": {
            "text/plain": [
              "(StackedAutoEncoderClassifier(\n",
              "   (encoder_layers): ModuleList(\n",
              "     (0): Sequential(\n",
              "       (0): Linear(in_features=784, out_features=256, bias=True)\n",
              "       (1): Sigmoid()\n",
              "     )\n",
              "     (1): Sequential(\n",
              "       (0): Linear(in_features=256, out_features=64, bias=True)\n",
              "       (1): Sigmoid()\n",
              "     )\n",
              "     (2): Sequential(\n",
              "       (0): Linear(in_features=64, out_features=32, bias=True)\n",
              "       (1): Sigmoid()\n",
              "     )\n",
              "   )\n",
              "   (classification_layer): Linear(in_features=32, out_features=10, bias=True)\n",
              " ),\n",
              " 0.232)"
            ]
          },
          "metadata": {},
          "execution_count": 17
        }
      ]
    },
    {
      "cell_type": "markdown",
      "source": [
        "### Entrenamos el modelo con fine-tuning"
      ],
      "metadata": {
        "id": "xR3po_GZ1ixS"
      }
    },
    {
      "cell_type": "code",
      "source": [
        "# Train the whole model and perform fine-tuning\n",
        "train_classifier(model=SAE_model, epochs=num_finetuning_epochs, fine_tuning = True, batch_size = batch_size)"
      ],
      "metadata": {
        "id": "M6N2XhTqT_-X",
        "colab": {
          "base_uri": "https://localhost:8080/"
        },
        "outputId": "f2ed1e38-ad34-4c00-b567-e2c4a927b6a7"
      },
      "execution_count": null,
      "outputs": [
        {
          "output_type": "stream",
          "name": "stdout",
          "text": [
            ">> Comenzando entrenamiento del modelo\n",
            "Entrenamiento Fine-Tuning, Época: 1/20, Iter: 47/47, L(theta): 2.3984\n",
            "Entrenamiento Fine-Tuning, Época: 2/20, Iter: 47/47, L(theta): 2.2174\n",
            "Entrenamiento Fine-Tuning, Época: 3/20, Iter: 47/47, L(theta): 1.6490\n",
            "Entrenamiento Fine-Tuning, Época: 4/20, Iter: 47/47, L(theta): 1.6226\n",
            "Entrenamiento Fine-Tuning, Época: 5/20, Iter: 47/47, L(theta): 1.6766\n",
            "Entrenamiento Fine-Tuning, Época: 6/20, Iter: 47/47, L(theta): 1.5218\n",
            "Entrenamiento Fine-Tuning, Época: 7/20, Iter: 47/47, L(theta): 1.1747\n",
            "Entrenamiento Fine-Tuning, Época: 8/20, Iter: 47/47, L(theta): 1.0559\n",
            "Entrenamiento Fine-Tuning, Época: 9/20, Iter: 47/47, L(theta): 0.9608\n",
            "Entrenamiento Fine-Tuning, Época: 10/20, Iter: 47/47, L(theta): 1.0041\n",
            "Entrenamiento Fine-Tuning, Época: 11/20, Iter: 47/47, L(theta): 0.6302\n",
            "Entrenamiento Fine-Tuning, Época: 12/20, Iter: 47/47, L(theta): 0.7466\n",
            "Entrenamiento Fine-Tuning, Época: 13/20, Iter: 47/47, L(theta): 0.7056\n",
            "Entrenamiento Fine-Tuning, Época: 14/20, Iter: 47/47, L(theta): 0.6255\n",
            "Entrenamiento Fine-Tuning, Época: 15/20, Iter: 47/47, L(theta): 0.4020\n",
            "Entrenamiento Fine-Tuning, Época: 16/20, Iter: 47/47, L(theta): 0.6212\n",
            "Entrenamiento Fine-Tuning, Época: 17/20, Iter: 47/47, L(theta): 0.3318\n",
            "Entrenamiento Fine-Tuning, Época: 18/20, Iter: 47/47, L(theta): 0.4355\n",
            "Entrenamiento Fine-Tuning, Época: 19/20, Iter: 47/47, L(theta): 0.3524\n",
            "Entrenamiento Fine-Tuning, Época: 20/20, Iter: 47/47, L(theta): 0.4182\n",
            "<< Finalizado entrenamiento de todo el modelo\n",
            "Calculando accuracy del test set\n",
            "Accuracy en el test set: 0.864000\n"
          ]
        },
        {
          "output_type": "execute_result",
          "data": {
            "text/plain": [
              "(StackedAutoEncoderClassifier(\n",
              "   (encoder_layers): ModuleList(\n",
              "     (0): Sequential(\n",
              "       (0): Linear(in_features=784, out_features=256, bias=True)\n",
              "       (1): Sigmoid()\n",
              "     )\n",
              "     (1): Sequential(\n",
              "       (0): Linear(in_features=256, out_features=64, bias=True)\n",
              "       (1): Sigmoid()\n",
              "     )\n",
              "     (2): Sequential(\n",
              "       (0): Linear(in_features=64, out_features=32, bias=True)\n",
              "       (1): Sigmoid()\n",
              "     )\n",
              "   )\n",
              "   (classification_layer): Linear(in_features=32, out_features=10, bias=True)\n",
              " ),\n",
              " 0.864)"
            ]
          },
          "metadata": {},
          "execution_count": 18
        }
      ]
    },
    {
      "cell_type": "code",
      "source": [
        "# Save the model (refer: https://pytorch.org/docs/master/notes/serialization.html)\n",
        "torch.save(SAE_model, 'models/sae_model.pt')"
      ],
      "metadata": {
        "id": "OVTzSOA_1mKS"
      },
      "execution_count": null,
      "outputs": []
    },
    {
      "cell_type": "markdown",
      "source": [
        "# Fine-Tuning"
      ],
      "metadata": {
        "id": "lEBVYHy-1mD_"
      }
    },
    {
      "cell_type": "markdown",
      "source": [
        "**Fine-tuning** (ajuste fino) es una técnica de aprendizaje profundo que consiste en **ajustar una red neuronal previamente entrenada** (por ejemplo, en una tarea o dataset grande) para mejorar su rendimiento en una **nueva tarea o dataset relacionado**.\n",
        "\n",
        "En lugar de entrenar un modelo desde cero, se aprovechan los **pesos preentrenados** como una buena inicialización y se continúa el entrenamiento sobre un nuevo conjunto de datos, generalmente más pequeño.\n",
        "\n",
        "## Motivación\n",
        "\n",
        "- Reducir el tiempo de entrenamiento\n",
        "- Evitar el sobreajuste en datasets pequeños\n",
        "- Transferir conocimiento aprendido en una tarea a otra relacionada\n",
        "\n",
        "## Formalización\n",
        "\n",
        "Supón que tienes un modelo entrenado con parámetros $\\theta_0$, aprendido sobre un conjunto de datos grande $\\mathcal{D}_{\\text{pretrain}}$:\n",
        "\n",
        "$$\n",
        "\\theta_0 = \\arg\\min_{\\theta} \\mathcal{L}_{\\text{pretrain}}(\\mathcal{D}_{\\text{pretrain}}, \\theta)\n",
        "$$\n",
        "\n",
        "Luego, en lugar de entrenar desde cero, inicias con $\\theta_0$ y haces un nuevo entrenamiento sobre un conjunto más específico $\\mathcal{D}_{\\text{target}}$:\n",
        "\n",
        "$$\n",
        "\\theta^* = \\arg\\min_{\\theta} \\mathcal{L}_{\\text{target}}(\\mathcal{D}_{\\text{target}}, \\theta)\n",
        "$$\n",
        "\n",
        "donde:\n",
        "\n",
        "- $\\mathcal{L}_{\\text{target}}$ puede ser distinta a $\\mathcal{L}_{\\text{pretrain}}$\n",
        "- En muchos casos, solo una parte de los parámetros se ajusta, mientras otros se congelan\n",
        "\n",
        "## Estrategias de Fine-Tuning\n",
        "\n",
        "1. **Congelar capas base y entrenar solo las finales**:\n",
        "   - Ideal cuando el nuevo dataset es pequeño\n",
        "   - Solo se actualizan algunos parámetros $\\theta_{\\text{fine}} \\subset \\theta$\n",
        "\n",
        "2. **Entrenar toda la red con tasa de aprendizaje baja**:\n",
        "   - Útil si el nuevo dataset es grande y similar al original\n",
        "   - Se evita destruir el conocimiento previamente aprendido\n",
        "\n",
        "3. **Descongelar gradualmente**:\n",
        "   - Se entrena primero solo la cabeza (top layers), luego se descongelan capas intermedias\n",
        "\n",
        "## Ejemplo típico de uso\n",
        "\n",
        "- Usar un modelo como `ResNet` o `BERT` preentrenado\n",
        "- Reemplazar la capa de salida final\n",
        "- Entrenar solo esa capa por unas pocas épocas\n",
        "- Luego ajustar toda la red con una tasa de aprendizaje pequeña\n",
        "\n",
        "\n",
        "## Ventajas\n",
        "\n",
        "- Rápida convergencia\n",
        "- Buen rendimiento incluso con pocos datos\n",
        "- Aprovecha representaciones generales aprendidas\n",
        "\n",
        "## Riesgos\n",
        "\n",
        "- Puede llevar a **catastrophic forgetting** si se entrena agresivamente sobre un nuevo dominio muy distinto\n",
        "- Si el dataset nuevo es muy diferente al preentrenamiento, fine-tuning puede ser inefectivo sin más adaptación\n",
        "\n"
      ],
      "metadata": {
        "id": "EYza72i13SQk"
      }
    },
    {
      "cell_type": "code",
      "source": [
        "import torch\n",
        "import torch.nn as nn\n",
        "import torch.optim as optim\n",
        "from torchvision.models import resnet18, ResNet18_Weights\n",
        "from torchvision import datasets, transforms\n",
        "from torch.utils.data import DataLoader\n",
        "from tqdm import tqdm"
      ],
      "metadata": {
        "id": "c9q7aCoFRQ9z"
      },
      "execution_count": null,
      "outputs": []
    },
    {
      "cell_type": "markdown",
      "source": [
        "### Viendo el modelo ResNet"
      ],
      "metadata": {
        "id": "ytsSS10hRVtt"
      }
    },
    {
      "cell_type": "code",
      "source": [
        "weights = ResNet18_Weights.DEFAULT\n",
        "model = resnet18(weights=weights)\n"
      ],
      "metadata": {
        "colab": {
          "base_uri": "https://localhost:8080/"
        },
        "id": "T_-v0bvdRSIZ",
        "outputId": "f60864e1-4edc-4d5a-b880-be889d2d5fe9"
      },
      "execution_count": null,
      "outputs": [
        {
          "output_type": "stream",
          "name": "stderr",
          "text": [
            "Downloading: \"https://download.pytorch.org/models/resnet18-f37072fd.pth\" to /root/.cache/torch/hub/checkpoints/resnet18-f37072fd.pth\n",
            "100%|██████████| 44.7M/44.7M [00:00<00:00, 144MB/s]\n"
          ]
        }
      ]
    },
    {
      "cell_type": "code",
      "source": [
        "model"
      ],
      "metadata": {
        "colab": {
          "base_uri": "https://localhost:8080/"
        },
        "id": "8e7xLwCrRYBw",
        "outputId": "a11a68ad-6249-4d7d-adc7-2f7d428e3d15"
      },
      "execution_count": null,
      "outputs": [
        {
          "output_type": "execute_result",
          "data": {
            "text/plain": [
              "ResNet(\n",
              "  (conv1): Conv2d(3, 64, kernel_size=(7, 7), stride=(2, 2), padding=(3, 3), bias=False)\n",
              "  (bn1): BatchNorm2d(64, eps=1e-05, momentum=0.1, affine=True, track_running_stats=True)\n",
              "  (relu): ReLU(inplace=True)\n",
              "  (maxpool): MaxPool2d(kernel_size=3, stride=2, padding=1, dilation=1, ceil_mode=False)\n",
              "  (layer1): Sequential(\n",
              "    (0): BasicBlock(\n",
              "      (conv1): Conv2d(64, 64, kernel_size=(3, 3), stride=(1, 1), padding=(1, 1), bias=False)\n",
              "      (bn1): BatchNorm2d(64, eps=1e-05, momentum=0.1, affine=True, track_running_stats=True)\n",
              "      (relu): ReLU(inplace=True)\n",
              "      (conv2): Conv2d(64, 64, kernel_size=(3, 3), stride=(1, 1), padding=(1, 1), bias=False)\n",
              "      (bn2): BatchNorm2d(64, eps=1e-05, momentum=0.1, affine=True, track_running_stats=True)\n",
              "    )\n",
              "    (1): BasicBlock(\n",
              "      (conv1): Conv2d(64, 64, kernel_size=(3, 3), stride=(1, 1), padding=(1, 1), bias=False)\n",
              "      (bn1): BatchNorm2d(64, eps=1e-05, momentum=0.1, affine=True, track_running_stats=True)\n",
              "      (relu): ReLU(inplace=True)\n",
              "      (conv2): Conv2d(64, 64, kernel_size=(3, 3), stride=(1, 1), padding=(1, 1), bias=False)\n",
              "      (bn2): BatchNorm2d(64, eps=1e-05, momentum=0.1, affine=True, track_running_stats=True)\n",
              "    )\n",
              "  )\n",
              "  (layer2): Sequential(\n",
              "    (0): BasicBlock(\n",
              "      (conv1): Conv2d(64, 128, kernel_size=(3, 3), stride=(2, 2), padding=(1, 1), bias=False)\n",
              "      (bn1): BatchNorm2d(128, eps=1e-05, momentum=0.1, affine=True, track_running_stats=True)\n",
              "      (relu): ReLU(inplace=True)\n",
              "      (conv2): Conv2d(128, 128, kernel_size=(3, 3), stride=(1, 1), padding=(1, 1), bias=False)\n",
              "      (bn2): BatchNorm2d(128, eps=1e-05, momentum=0.1, affine=True, track_running_stats=True)\n",
              "      (downsample): Sequential(\n",
              "        (0): Conv2d(64, 128, kernel_size=(1, 1), stride=(2, 2), bias=False)\n",
              "        (1): BatchNorm2d(128, eps=1e-05, momentum=0.1, affine=True, track_running_stats=True)\n",
              "      )\n",
              "    )\n",
              "    (1): BasicBlock(\n",
              "      (conv1): Conv2d(128, 128, kernel_size=(3, 3), stride=(1, 1), padding=(1, 1), bias=False)\n",
              "      (bn1): BatchNorm2d(128, eps=1e-05, momentum=0.1, affine=True, track_running_stats=True)\n",
              "      (relu): ReLU(inplace=True)\n",
              "      (conv2): Conv2d(128, 128, kernel_size=(3, 3), stride=(1, 1), padding=(1, 1), bias=False)\n",
              "      (bn2): BatchNorm2d(128, eps=1e-05, momentum=0.1, affine=True, track_running_stats=True)\n",
              "    )\n",
              "  )\n",
              "  (layer3): Sequential(\n",
              "    (0): BasicBlock(\n",
              "      (conv1): Conv2d(128, 256, kernel_size=(3, 3), stride=(2, 2), padding=(1, 1), bias=False)\n",
              "      (bn1): BatchNorm2d(256, eps=1e-05, momentum=0.1, affine=True, track_running_stats=True)\n",
              "      (relu): ReLU(inplace=True)\n",
              "      (conv2): Conv2d(256, 256, kernel_size=(3, 3), stride=(1, 1), padding=(1, 1), bias=False)\n",
              "      (bn2): BatchNorm2d(256, eps=1e-05, momentum=0.1, affine=True, track_running_stats=True)\n",
              "      (downsample): Sequential(\n",
              "        (0): Conv2d(128, 256, kernel_size=(1, 1), stride=(2, 2), bias=False)\n",
              "        (1): BatchNorm2d(256, eps=1e-05, momentum=0.1, affine=True, track_running_stats=True)\n",
              "      )\n",
              "    )\n",
              "    (1): BasicBlock(\n",
              "      (conv1): Conv2d(256, 256, kernel_size=(3, 3), stride=(1, 1), padding=(1, 1), bias=False)\n",
              "      (bn1): BatchNorm2d(256, eps=1e-05, momentum=0.1, affine=True, track_running_stats=True)\n",
              "      (relu): ReLU(inplace=True)\n",
              "      (conv2): Conv2d(256, 256, kernel_size=(3, 3), stride=(1, 1), padding=(1, 1), bias=False)\n",
              "      (bn2): BatchNorm2d(256, eps=1e-05, momentum=0.1, affine=True, track_running_stats=True)\n",
              "    )\n",
              "  )\n",
              "  (layer4): Sequential(\n",
              "    (0): BasicBlock(\n",
              "      (conv1): Conv2d(256, 512, kernel_size=(3, 3), stride=(2, 2), padding=(1, 1), bias=False)\n",
              "      (bn1): BatchNorm2d(512, eps=1e-05, momentum=0.1, affine=True, track_running_stats=True)\n",
              "      (relu): ReLU(inplace=True)\n",
              "      (conv2): Conv2d(512, 512, kernel_size=(3, 3), stride=(1, 1), padding=(1, 1), bias=False)\n",
              "      (bn2): BatchNorm2d(512, eps=1e-05, momentum=0.1, affine=True, track_running_stats=True)\n",
              "      (downsample): Sequential(\n",
              "        (0): Conv2d(256, 512, kernel_size=(1, 1), stride=(2, 2), bias=False)\n",
              "        (1): BatchNorm2d(512, eps=1e-05, momentum=0.1, affine=True, track_running_stats=True)\n",
              "      )\n",
              "    )\n",
              "    (1): BasicBlock(\n",
              "      (conv1): Conv2d(512, 512, kernel_size=(3, 3), stride=(1, 1), padding=(1, 1), bias=False)\n",
              "      (bn1): BatchNorm2d(512, eps=1e-05, momentum=0.1, affine=True, track_running_stats=True)\n",
              "      (relu): ReLU(inplace=True)\n",
              "      (conv2): Conv2d(512, 512, kernel_size=(3, 3), stride=(1, 1), padding=(1, 1), bias=False)\n",
              "      (bn2): BatchNorm2d(512, eps=1e-05, momentum=0.1, affine=True, track_running_stats=True)\n",
              "    )\n",
              "  )\n",
              "  (avgpool): AdaptiveAvgPool2d(output_size=(1, 1))\n",
              "  (fc): Linear(in_features=512, out_features=1000, bias=True)\n",
              ")"
            ]
          },
          "metadata": {},
          "execution_count": 15
        }
      ]
    },
    {
      "cell_type": "code",
      "source": [
        "\n",
        "\n",
        "device = torch.device(\"cuda\" if torch.cuda.is_available() else \"cpu\")\n",
        "\n",
        "# 1. Preprocesamiento para replicar la entrada de ResNet\n",
        "transform = transforms.Compose([\n",
        "    transforms.Resize(224),\n",
        "    transforms.Grayscale(num_output_channels=3),\n",
        "    transforms.ToTensor(),\n",
        "    transforms.Normalize((0.5,), (0.5,))\n",
        "])\n",
        "\n",
        "train_loader = DataLoader(\n",
        "    datasets.MNIST(root='./data', train=True, download=True, transform=transform),\n",
        "    batch_size=64, shuffle=True\n",
        ")\n",
        "test_loader = DataLoader(\n",
        "    datasets.MNIST(root='./data', train=False, download=True, transform=transform),\n",
        "    batch_size=64, shuffle=False\n",
        ")\n",
        "\n",
        "# Cargar con pesos preentrenados de ImageNet\n",
        "weights = ResNet18_Weights.DEFAULT\n",
        "model = resnet18(weights=weights)\n",
        "\n",
        "# Congelar capas\n",
        "for param in model.parameters():\n",
        "    param.requires_grad = False\n",
        "\n",
        "# Reemplazar la cabecera de clasificación\n",
        "model.fc = nn.Linear(model.fc.in_features, 10)\n",
        "model = model.to(device)\n",
        "\n",
        "# Solo son entrenables los parámetros de la cabecera\n",
        "optimizer = optim.Adam(model.fc.parameters(), lr=1e-3)\n",
        "criterion = nn.CrossEntropyLoss()\n",
        "\n",
        "model.train()\n",
        "for epoch in range(3):\n",
        "    print(f\"Época {epoch}\")\n",
        "    running_loss = 0.0\n",
        "    for images, labels in tqdm(train_loader):\n",
        "        images, labels = images.to(device), labels.to(device)\n",
        "        optimizer.zero_grad()\n",
        "        outputs = model(images)\n",
        "        loss = criterion(outputs, labels)\n",
        "        loss.backward()\n",
        "        optimizer.step()\n",
        "        running_loss += loss.item()\n",
        "    print(f\"[Congelado] Época {epoch+1} - L(Theta): {running_loss/len(train_loader):.4f}\""
      ],
      "metadata": {
        "colab": {
          "base_uri": "https://localhost:8080/"
        },
        "id": "r4A3Eh0hptaW",
        "outputId": "cb4e3c69-0e2b-423e-a220-b01c86dcaaa4"
      },
      "execution_count": null,
      "outputs": [
        {
          "output_type": "stream",
          "name": "stderr",
          "text": [
            "100%|██████████| 938/938 [02:36<00:00,  6.00it/s]\n"
          ]
        },
        {
          "output_type": "stream",
          "name": "stdout",
          "text": [
            "[Congelado] Época 1 - L(Theta): 0.3906\n"
          ]
        },
        {
          "output_type": "stream",
          "name": "stderr",
          "text": [
            "100%|██████████| 938/938 [02:31<00:00,  6.18it/s]\n"
          ]
        },
        {
          "output_type": "stream",
          "name": "stdout",
          "text": [
            "[Congelado] Época 2 - L(Theta): 0.1702\n"
          ]
        },
        {
          "output_type": "stream",
          "name": "stderr",
          "text": [
            "100%|██████████| 938/938 [02:31<00:00,  6.20it/s]\n"
          ]
        },
        {
          "output_type": "stream",
          "name": "stdout",
          "text": [
            "[Congelado] Época 3 - L(Theta): 0.1403\n",
            "✅ Accuracy (backbone congelado): 96.18%\n"
          ]
        }
      ]
    },
    {
      "cell_type": "code",
      "source": [
        "model.eval()\n",
        "correct = total = 0\n",
        "with torch.no_grad():\n",
        "    for images, labels in test_loader:\n",
        "        images, labels = images.to(device), labels.to(device)\n",
        "        outputs = model(images)\n",
        "        _, preds = torch.max(outputs, 1)\n",
        "        correct += (preds == labels).sum().item()\n",
        "        total += labels.size(0)\n",
        "\n",
        "print(f\"Accuracy (backbone congelado): {100 * correct / total:.2f}%\")"
      ],
      "metadata": {
        "colab": {
          "base_uri": "https://localhost:8080/"
        },
        "id": "xXr21Hu8_BDB",
        "outputId": "103e7003-f448-4ab0-87c0-dafc6dd12413"
      },
      "execution_count": null,
      "outputs": [
        {
          "output_type": "stream",
          "name": "stdout",
          "text": [
            "Accuracy (backbone congelado): 96.18%\n"
          ]
        }
      ]
    },
    {
      "cell_type": "markdown",
      "source": [
        "# Transfer Learning (Aprendizaje por Transferencia)\n",
        "\n",
        "**Transfer learning** es una técnica de aprendizaje automático en la que un modelo entrenado previamente sobre una tarea **se reutiliza** parcial o totalmente para otra tarea **relacionada**. En lugar de entrenar un modelo desde cero, se **aprovecha el conocimiento aprendido** en una tarea base y se adapta al nuevo problema.\n",
        "\n",
        "## Ejemplos\n",
        "\n",
        "- Se entrena una red profunda (por ejemplo, ResNet, BERT) en un gran dataset genérico como **ImageNet** o **Wikipedia**.\n",
        "- Luego, se reutiliza ese modelo como punto de partida para una tarea diferente, como:\n",
        "  - Clasificación de dígitos manuscritos (MNIST)\n",
        "  - Clasificación médica de imágenes de rayos X\n",
        "  - Análisis de sentimientos en tweets\n",
        "\n",
        "## Fundamento Matemático\n",
        "\n",
        "Supongamos:\n",
        "\n",
        "- $\\mathcal{D}_S$: conjunto de datos origen (source), con tarea $\\mathcal{T}_S$\n",
        "- $\\mathcal{D}_T$: conjunto de datos destino (target), con tarea $\\mathcal{T}_T$\n",
        "\n",
        "El objetivo es aprender un modelo $f_T$ para la tarea $\\mathcal{T}_T$, utilizando el conocimiento aprendido en $\\mathcal{T}_S$, donde $\\mathcal{T}_S \\neq \\mathcal{T}_T$ pero **comparten representación o características comunes**.\n",
        "\n",
        "## Estrategias comunes\n",
        "\n",
        "### 1. **Feature Extraction**\n",
        "- Se congela la red base (por ejemplo, todas las capas convolucionales de ResNet).\n",
        "- Se reemplaza y entrena solo la capa de salida.\n",
        "- Útil cuando el nuevo conjunto de datos es pequeño.\n",
        "\n",
        "### 2. **Fine-Tuning**\n",
        "- Se inicializa con un modelo preentrenado.\n",
        "- Se entrena **todo o parte del modelo** en el nuevo conjunto de datos, generalmente con una tasa de aprendizaje baja.\n",
        "- Más flexible, requiere más datos y cuidado para evitar sobreajuste.\n",
        "\n",
        "## Ventajas del Transfer Learning\n",
        "\n",
        "- **Rápida convergencia**: el modelo ya \"sabe\" detectar patrones útiles.\n",
        "- **Mejor rendimiento con pocos datos**: útil en contextos con datasets pequeños.\n",
        "- **Reducción de costos computacionales**: evita entrenar modelos desde cero.\n",
        "\n",
        "## Limitaciones\n",
        "\n",
        "- Si la tarea destino es muy diferente, el conocimiento transferido puede **no ser útil** o incluso dañar el rendimiento (**negative transfer**).\n",
        "- Requiere cuidado al elegir qué capas congelar o afinar.\n",
        "\n",
        "## Ejemplos reales\n",
        "\n",
        "- Usar un **modelo de lenguaje BERT** preentrenado para análisis de sentimientos.\n",
        "- Usar **ResNet18 entrenado en ImageNet** para clasificar imágenes médicas o industriales.\n",
        "- Usar una red entrenada en **predicción de series temporales financieras** para tareas similares en otro mercado.\n",
        "\n",
        "## Resumen\n",
        "\n",
        "| Concepto         | Explicación breve                            |\n",
        "|------------------|----------------------------------------------|\n",
        "| Transfer Learning| Reutilizar un modelo preentrenado            |\n",
        "| Feature Extraction | Congelar red base, entrenar solo el clasificador |\n",
        "| Fine-Tuning      | Afinar todo el modelo con tasas pequeñas     |\n"
      ],
      "metadata": {
        "id": "k69X9wCx5dCF"
      }
    },
    {
      "cell_type": "code",
      "source": [
        "from transformers import ViTImageProcessor, ViTForImageClassification\n",
        "from PIL import Image\n",
        "import requests\n",
        "\n",
        "url = 'http://images.cocodataset.org/val2017/000000039769.jpg'\n",
        "image = Image.open(requests.get(url, stream=True).raw)\n",
        "\n",
        "processor = ViTImageProcessor.from_pretrained('google/vit-base-patch16-224')\n",
        "model = ViTForImageClassification.from_pretrained('google/vit-base-patch16-224')\n",
        "\n",
        "inputs = processor(images=image, return_tensors=\"pt\")\n",
        "outputs = model(**inputs)\n",
        "logits = outputs.logits\n",
        "# model predicts one of the 1000 ImageNet classes\n",
        "predicted_class_idx = logits.argmax(-1).item()\n",
        "print(\"Predicted class:\", model.config.id2label[predicted_class_idx])\n"
      ],
      "metadata": {
        "id": "svfAaLwMQp-7"
      },
      "execution_count": null,
      "outputs": []
    }
  ]
}
