{
  "nbformat": 4,
  "nbformat_minor": 0,
  "metadata": {
    "colab": {
      "provenance": [],
      "include_colab_link": true
    },
    "kernelspec": {
      "name": "python3",
      "display_name": "Python 3"
    },
    "language_info": {
      "name": "python"
    }
  },
  "cells": [
    {
      "cell_type": "markdown",
      "metadata": {
        "id": "view-in-github",
        "colab_type": "text"
      },
      "source": [
        "<a href=\"https://colab.research.google.com/github/Rcontre360/deep-learning-ucv-2025/blob/main/tarea2/notebooks/10_5_Convolution_For_MNIST.ipynb\" target=\"_parent\"><img src=\"https://colab.research.google.com/assets/colab-badge.svg\" alt=\"Open In Colab\"/></a>"
      ]
    },
    {
      "cell_type": "markdown",
      "source": [
        "# **Notebook 10.5: Convolution for MNIST**\n",
        "\n",
        "This notebook builds a proper network for 2D convolution.  It works with the MNIST dataset (figure 15.15a), which was the original classic dataset for classifying images.  The network will take a 28x28 grayscale image and classify it into one of 10 classes representing a digit.\n",
        "\n",
        "The code is adapted from https://nextjournal.com/gkoehler/pytorch-mnist\n",
        "\n",
        "Work through the cells below, running each cell in turn. In various places you will see the words \"TODO\". Follow the instructions at these places and make predictions about what is going to happen or write code to complete the functions.\n",
        "\n",
        "Contact me at udlbookmail@gmail.com if you find any mistakes or have any suggestions.\n"
      ],
      "metadata": {
        "id": "t9vk9Elugvmi"
      }
    },
    {
      "cell_type": "code",
      "source": [
        "import torch\n",
        "import torchvision\n",
        "import torch.nn as nn\n",
        "import torch.nn.functional as F\n",
        "import torch.optim as optim\n",
        "import matplotlib.pyplot as plt\n",
        "import random"
      ],
      "metadata": {
        "id": "YrXWAH7sUWvU"
      },
      "execution_count": 16,
      "outputs": []
    },
    {
      "cell_type": "code",
      "source": [
        "# Run this once to load the train and test data straight into a dataloader class\n",
        "# that will provide the batches\n",
        "\n",
        "# (It may complain that some files are missing because the files seem to have been\n",
        "# reorganized on the underlying website, but it still seems to work). If everything is working\n",
        "# properly, then the whole notebook should run to the end without further problems\n",
        "# even before you make changes.\n",
        "batch_size_train = 64\n",
        "batch_size_test = 1000\n",
        "\n",
        "# TODO Change this directory to point towards an existing directory\n",
        "myDir = '/files/'\n",
        "\n",
        "train_loader = torch.utils.data.DataLoader(\n",
        "  torchvision.datasets.MNIST(myDir, train=True, download=True,\n",
        "                             transform=torchvision.transforms.Compose([\n",
        "                               torchvision.transforms.ToTensor(),\n",
        "                               torchvision.transforms.Normalize(\n",
        "                                 (0.1307,), (0.3081,))\n",
        "                             ])),\n",
        "  batch_size=batch_size_train, shuffle=True)\n",
        "\n",
        "test_loader = torch.utils.data.DataLoader(\n",
        "  torchvision.datasets.MNIST(myDir, train=False, download=True,\n",
        "                             transform=torchvision.transforms.Compose([\n",
        "                               torchvision.transforms.ToTensor(),\n",
        "                               torchvision.transforms.Normalize(\n",
        "                                 (0.1307,), (0.3081,))\n",
        "                             ])),\n",
        "  batch_size=batch_size_test, shuffle=True)"
      ],
      "metadata": {
        "id": "wScBGXXFVadm"
      },
      "execution_count": 17,
      "outputs": []
    },
    {
      "cell_type": "code",
      "source": [
        "# Let's draw some of the training data\n",
        "examples = enumerate(test_loader)\n",
        "batch_idx, (example_data, example_targets) = next(examples)\n",
        "\n",
        "fig = plt.figure()\n",
        "for i in range(6):\n",
        "  plt.subplot(2,3,i+1)\n",
        "  plt.tight_layout()\n",
        "  plt.imshow(example_data[i][0], cmap='gray', interpolation='none')\n",
        "  plt.title(\"Ground Truth: {}\".format(example_targets[i]))\n",
        "  plt.xticks([])\n",
        "  plt.yticks([])\n",
        "plt.show()"
      ],
      "metadata": {
        "id": "8bKADvLHbiV5",
        "outputId": "6d7d7f7d-0222-4afc-a032-9ceba78bc613",
        "colab": {
          "base_uri": "https://localhost:8080/",
          "height": 438
        }
      },
      "execution_count": 18,
      "outputs": [
        {
          "output_type": "display_data",
          "data": {
            "text/plain": [
              "<Figure size 640x480 with 6 Axes>"
            ],
            "image/png": "[encoded data removed]"
          },
          "metadata": {}
        }
      ]
    },
    {
      "cell_type": "markdown",
      "source": [
        "Define the network.  This is a more typical way to define a network than the sequential structure.  We define a class for the network, and define the parameters in the constructor.  Then we use a function called forward to actually run the network.  It's easy to see how you might use residual connections in this format."
      ],
      "metadata": {
        "id": "_sFvRDGrl4qe"
      }
    },
    {
      "cell_type": "code",
      "source": [
        "from os import X_OK\n",
        "# TODO Change this class to implement\n",
        "# 1. A valid convolution with kernel size 5, 1 input channel and 10 output channels\n",
        "# 2. A max pooling operation over a 2x2 area\n",
        "# 3. A Relu\n",
        "# 4. A valid convolution with kernel size 5, 10 input channels and 20 output channels\n",
        "# 5. A 2D Dropout layer\n",
        "# 6. A max pooling operation over a 2x2 area\n",
        "# 7. A relu\n",
        "# 8. A flattening operation\n",
        "# 9. A fully connected layer mapping from (whatever dimensions we are at-- find out using .shape) to 50\n",
        "# 10. A ReLU\n",
        "# 11. A fully connected layer mapping from 50 to 10 dimensions\n",
        "# 12. A softmax function.\n",
        "\n",
        "# Replace this class which implements a minimal network (which still does okay)\n",
        "class Net(nn.Module):\n",
        "    def __init__(self, img_width,img_height):\n",
        "        super(Net, self).__init__()\n",
        "        # Valid convolution, 1 channel in, 2 channels out, stride 1, kernel size = 3\n",
        "        self.net = nn.Sequential(\n",
        "          nn.Conv2d(1, 10, kernel_size=5),\n",
        "          nn.MaxPool2d(kernel_size=2, stride=2),\n",
        "          nn.ReLU(),\n",
        "          nn.Conv2d(10, 20, kernel_size=5),\n",
        "          nn.MaxPool2d(kernel_size=2, stride=2),\n",
        "          nn.ReLU(),\n",
        "          nn.Flatten(),\n",
        "          # rafael: vi como es el calculo. Igual imprimi el valor antes del flatten para obtenerlo\n",
        "          nn.Linear(320,50),\n",
        "          nn.ReLU(),\n",
        "          nn.Linear(50,10),\n",
        "          nn.Softmax()\n",
        "        )\n",
        "        print(20 * img_width * img_height // 4)\n",
        "\n",
        "    def forward(self, x):\n",
        "        return self.net(x)\n",
        "\n"
      ],
      "metadata": {
        "id": "EQkvw2KOPVl7"
      },
      "execution_count": 48,
      "outputs": []
    },
    {
      "cell_type": "code",
      "source": [
        "# He initialization of weights\n",
        "def weights_init(layer_in):\n",
        "  if isinstance(layer_in, nn.Linear):\n",
        "    nn.init.kaiming_uniform_(layer_in.weight)\n",
        "    layer_in.bias.data.fill_(0.0)"
      ],
      "metadata": {
        "id": "qWZtkCZcU_dg"
      },
      "execution_count": 49,
      "outputs": []
    },
    {
      "cell_type": "code",
      "source": [
        "# Create network\n",
        "model = Net(28,28)\n",
        "# Initialize model weights\n",
        "model.apply(weights_init)\n",
        "# Define optimizer\n",
        "optimizer = optim.SGD(model.parameters(), lr=0.01, momentum=0.5)"
      ],
      "metadata": {
        "id": "FslroPJJffrh",
        "outputId": "477f4793-4ad7-48af-cb2a-59ea8b1c9e56",
        "colab": {
          "base_uri": "https://localhost:8080/"
        }
      },
      "execution_count": 50,
      "outputs": [
        {
          "output_type": "stream",
          "name": "stdout",
          "text": [
            "3920\n"
          ]
        }
      ]
    },
    {
      "cell_type": "code",
      "source": [
        "# Main training routine\n",
        "def train(epoch):\n",
        "  model.train()\n",
        "  # Get each\n",
        "  for batch_idx, (data, target) in enumerate(train_loader):\n",
        "    optimizer.zero_grad()\n",
        "    output = model(data)\n",
        "    loss = F.nll_loss(output, target)\n",
        "    loss.backward()\n",
        "    optimizer.step()\n",
        "    # Store results\n",
        "    if batch_idx % 10 == 0:\n",
        "      print('Train Epoch: {} [{}/{}]\\tLoss: {:.6f}'.format(\n",
        "        epoch, batch_idx * len(data), len(train_loader.dataset), loss.item()))"
      ],
      "metadata": {
        "id": "xKQd9PzkQ766"
      },
      "execution_count": 51,
      "outputs": []
    },
    {
      "cell_type": "code",
      "source": [
        "# Run on test data\n",
        "def test():\n",
        "  model.eval()\n",
        "  test_loss = 0\n",
        "  correct = 0\n",
        "  with torch.no_grad():\n",
        "    for data, target in test_loader:\n",
        "      output = model(data)\n",
        "      test_loss += F.nll_loss(output, target, size_average=False).item()\n",
        "      pred = output.data.max(1, keepdim=True)[1]\n",
        "      correct += pred.eq(target.data.view_as(pred)).sum()\n",
        "  test_loss /= len(test_loader.dataset)\n",
        "  print('\\nTest set: Avg. loss: {:.4f}, Accuracy: {}/{} ({:.0f}%)\\n'.format(\n",
        "    test_loss, correct, len(test_loader.dataset),\n",
        "    100. * correct / len(test_loader.dataset)))"
      ],
      "metadata": {
        "id": "Byn-f7qWRLxX"
      },
      "execution_count": 52,
      "outputs": []
    },
    {
      "cell_type": "code",
      "source": [
        "# Get initial performance\n",
        "test()\n",
        "# Train for three epochs\n",
        "n_epochs = 3\n",
        "for epoch in range(1, n_epochs + 1):\n",
        "  train(epoch)\n",
        "  test()"
      ],
      "metadata": {
        "id": "YgLaex1pfhqz",
        "outputId": "1cc18e5a-75d8-434c-b9fc-6a0ec424afe7",
        "colab": {
          "base_uri": "https://localhost:8080/"
        }
      },
      "execution_count": 53,
      "outputs": [
        {
          "output_type": "stream",
          "name": "stderr",
          "text": [
            "/usr/local/lib/python3.11/dist-packages/torch/nn/modules/module.py:1739: UserWarning: Implicit dimension choice for softmax has been deprecated. Change the call to include dim=X as an argument.\n",
            "  return self._call_impl(*args, **kwargs)\n",
            "/usr/local/lib/python3.11/dist-packages/torch/nn/_reduction.py:51: UserWarning: size_average and reduce args will be deprecated, please use reduction='sum' instead.\n",
            "  warnings.warn(warning.format(ret))\n"
          ]
        },
        {
          "output_type": "stream",
          "name": "stdout",
          "text": [
            "\n",
            "Test set: Avg. loss: -0.1059, Accuracy: 1390/10000 (14%)\n",
            "\n",
            "Train Epoch: 1 [0/60000]\tLoss: -0.110785\n",
            "Train Epoch: 1 [640/60000]\tLoss: -0.119723\n",
            "Train Epoch: 1 [1280/60000]\tLoss: -0.121328\n",
            "Train Epoch: 1 [1920/60000]\tLoss: -0.125736\n",
            "Train Epoch: 1 [2560/60000]\tLoss: -0.152794\n",
            "Train Epoch: 1 [3200/60000]\tLoss: -0.177347\n",
            "Train Epoch: 1 [3840/60000]\tLoss: -0.154101\n",
            "Train Epoch: 1 [4480/60000]\tLoss: -0.156035\n",
            "Train Epoch: 1 [5120/60000]\tLoss: -0.198893\n",
            "Train Epoch: 1 [5760/60000]\tLoss: -0.265720\n",
            "Train Epoch: 1 [6400/60000]\tLoss: -0.359646\n",
            "Train Epoch: 1 [7040/60000]\tLoss: -0.381515\n",
            "Train Epoch: 1 [7680/60000]\tLoss: -0.458078\n",
            "Train Epoch: 1 [8320/60000]\tLoss: -0.378218\n",
            "Train Epoch: 1 [8960/60000]\tLoss: -0.541817\n",
            "Train Epoch: 1 [9600/60000]\tLoss: -0.432930\n",
            "Train Epoch: 1 [10240/60000]\tLoss: -0.488936\n",
            "Train Epoch: 1 [10880/60000]\tLoss: -0.533120\n",
            "Train Epoch: 1 [11520/60000]\tLoss: -0.604684\n",
            "Train Epoch: 1 [12160/60000]\tLoss: -0.622054\n",
            "Train Epoch: 1 [12800/60000]\tLoss: -0.532291\n",
            "Train Epoch: 1 [13440/60000]\tLoss: -0.681000\n",
            "Train Epoch: 1 [14080/60000]\tLoss: -0.710017\n",
            "Train Epoch: 1 [14720/60000]\tLoss: -0.715219\n",
            "Train Epoch: 1 [15360/60000]\tLoss: -0.646564\n",
            "Train Epoch: 1 [16000/60000]\tLoss: -0.833801\n",
            "Train Epoch: 1 [16640/60000]\tLoss: -0.676986\n",
            "Train Epoch: 1 [17280/60000]\tLoss: -0.772224\n",
            "Train Epoch: 1 [17920/60000]\tLoss: -0.809162\n",
            "Train Epoch: 1 [18560/60000]\tLoss: -0.664481\n",
            "Train Epoch: 1 [19200/60000]\tLoss: -0.755926\n",
            "Train Epoch: 1 [19840/60000]\tLoss: -0.720298\n",
            "Train Epoch: 1 [20480/60000]\tLoss: -0.691712\n",
            "Train Epoch: 1 [21120/60000]\tLoss: -0.713313\n",
            "Train Epoch: 1 [21760/60000]\tLoss: -0.754157\n",
            "Train Epoch: 1 [22400/60000]\tLoss: -0.695469\n",
            "Train Epoch: 1 [23040/60000]\tLoss: -0.684208\n",
            "Train Epoch: 1 [23680/60000]\tLoss: -0.694543\n",
            "Train Epoch: 1 [24320/60000]\tLoss: -0.682559\n",
            "Train Epoch: 1 [24960/60000]\tLoss: -0.698005\n",
            "Train Epoch: 1 [25600/60000]\tLoss: -0.717577\n",
            "Train Epoch: 1 [26240/60000]\tLoss: -0.696118\n",
            "Train Epoch: 1 [26880/60000]\tLoss: -0.645781\n",
            "Train Epoch: 1 [27520/60000]\tLoss: -0.705202\n",
            "Train Epoch: 1 [28160/60000]\tLoss: -0.821802\n",
            "Train Epoch: 1 [28800/60000]\tLoss: -0.729567\n",
            "Train Epoch: 1 [29440/60000]\tLoss: -0.709594\n",
            "Train Epoch: 1 [30080/60000]\tLoss: -0.837075\n",
            "Train Epoch: 1 [30720/60000]\tLoss: -0.704813\n",
            "Train Epoch: 1 [31360/60000]\tLoss: -0.776624\n",
            "Train Epoch: 1 [32000/60000]\tLoss: -0.794732\n",
            "Train Epoch: 1 [32640/60000]\tLoss: -0.663555\n",
            "Train Epoch: 1 [33280/60000]\tLoss: -0.728567\n",
            "Train Epoch: 1 [33920/60000]\tLoss: -0.749157\n",
            "Train Epoch: 1 [34560/60000]\tLoss: -0.777278\n",
            "Train Epoch: 1 [35200/60000]\tLoss: -0.695089\n",
            "Train Epoch: 1 [35840/60000]\tLoss: -0.777012\n",
            "Train Epoch: 1 [36480/60000]\tLoss: -0.780551\n",
            "Train Epoch: 1 [37120/60000]\tLoss: -0.815902\n",
            "Train Epoch: 1 [37760/60000]\tLoss: -0.744594\n",
            "Train Epoch: 1 [38400/60000]\tLoss: -0.697371\n",
            "Train Epoch: 1 [39040/60000]\tLoss: -0.753449\n",
            "Train Epoch: 1 [39680/60000]\tLoss: -0.720593\n",
            "Train Epoch: 1 [40320/60000]\tLoss: -0.660341\n",
            "Train Epoch: 1 [40960/60000]\tLoss: -0.731749\n",
            "Train Epoch: 1 [41600/60000]\tLoss: -0.663521\n",
            "Train Epoch: 1 [42240/60000]\tLoss: -0.792090\n",
            "Train Epoch: 1 [42880/60000]\tLoss: -0.744970\n",
            "Train Epoch: 1 [43520/60000]\tLoss: -0.749111\n",
            "Train Epoch: 1 [44160/60000]\tLoss: -0.857031\n",
            "Train Epoch: 1 [44800/60000]\tLoss: -0.801257\n",
            "Train Epoch: 1 [45440/60000]\tLoss: -0.711119\n",
            "Train Epoch: 1 [46080/60000]\tLoss: -0.784601\n",
            "Train Epoch: 1 [46720/60000]\tLoss: -0.742511\n",
            "Train Epoch: 1 [47360/60000]\tLoss: -0.721126\n",
            "Train Epoch: 1 [48000/60000]\tLoss: -0.742775\n",
            "Train Epoch: 1 [48640/60000]\tLoss: -0.759778\n",
            "Train Epoch: 1 [49280/60000]\tLoss: -0.619333\n",
            "Train Epoch: 1 [49920/60000]\tLoss: -0.760424\n",
            "Train Epoch: 1 [50560/60000]\tLoss: -0.746383\n",
            "Train Epoch: 1 [51200/60000]\tLoss: -0.742806\n",
            "Train Epoch: 1 [51840/60000]\tLoss: -0.705102\n",
            "Train Epoch: 1 [52480/60000]\tLoss: -0.863211\n",
            "Train Epoch: 1 [53120/60000]\tLoss: -0.767376\n",
            "Train Epoch: 1 [53760/60000]\tLoss: -0.876999\n",
            "Train Epoch: 1 [54400/60000]\tLoss: -0.690039\n",
            "Train Epoch: 1 [55040/60000]\tLoss: -0.704471\n",
            "Train Epoch: 1 [55680/60000]\tLoss: -0.837297\n",
            "Train Epoch: 1 [56320/60000]\tLoss: -0.767484\n",
            "Train Epoch: 1 [56960/60000]\tLoss: -0.684459\n",
            "Train Epoch: 1 [57600/60000]\tLoss: -0.743767\n",
            "Train Epoch: 1 [58240/60000]\tLoss: -0.792041\n",
            "Train Epoch: 1 [58880/60000]\tLoss: -0.764737\n",
            "Train Epoch: 1 [59520/60000]\tLoss: -0.799370\n",
            "\n",
            "Test set: Avg. loss: -0.7667, Accuracy: 7746/10000 (77%)\n",
            "\n",
            "Train Epoch: 2 [0/60000]\tLoss: -0.759156\n",
            "Train Epoch: 2 [640/60000]\tLoss: -0.743538\n",
            "Train Epoch: 2 [1280/60000]\tLoss: -0.842844\n",
            "Train Epoch: 2 [1920/60000]\tLoss: -0.881415\n",
            "Train Epoch: 2 [2560/60000]\tLoss: -0.744448\n",
            "Train Epoch: 2 [3200/60000]\tLoss: -0.825855\n",
            "Train Epoch: 2 [3840/60000]\tLoss: -0.702256\n",
            "Train Epoch: 2 [4480/60000]\tLoss: -0.658044\n",
            "Train Epoch: 2 [5120/60000]\tLoss: -0.820235\n",
            "Train Epoch: 2 [5760/60000]\tLoss: -0.870557\n",
            "Train Epoch: 2 [6400/60000]\tLoss: -0.614679\n",
            "Train Epoch: 2 [7040/60000]\tLoss: -0.813203\n",
            "Train Epoch: 2 [7680/60000]\tLoss: -0.772304\n",
            "Train Epoch: 2 [8320/60000]\tLoss: -0.824961\n",
            "Train Epoch: 2 [8960/60000]\tLoss: -0.757104\n",
            "Train Epoch: 2 [9600/60000]\tLoss: -0.721279\n",
            "Train Epoch: 2 [10240/60000]\tLoss: -0.752333\n",
            "Train Epoch: 2 [10880/60000]\tLoss: -0.717854\n",
            "Train Epoch: 2 [11520/60000]\tLoss: -0.756196\n",
            "Train Epoch: 2 [12160/60000]\tLoss: -0.821419\n",
            "Train Epoch: 2 [12800/60000]\tLoss: -0.786791\n",
            "Train Epoch: 2 [13440/60000]\tLoss: -0.766951\n",
            "Train Epoch: 2 [14080/60000]\tLoss: -0.751001\n",
            "Train Epoch: 2 [14720/60000]\tLoss: -0.756825\n",
            "Train Epoch: 2 [15360/60000]\tLoss: -0.681563\n",
            "Train Epoch: 2 [16000/60000]\tLoss: -0.748962\n",
            "Train Epoch: 2 [16640/60000]\tLoss: -0.772885\n",
            "Train Epoch: 2 [17280/60000]\tLoss: -0.810150\n",
            "Train Epoch: 2 [17920/60000]\tLoss: -0.715842\n",
            "Train Epoch: 2 [18560/60000]\tLoss: -0.847934\n",
            "Train Epoch: 2 [19200/60000]\tLoss: -0.733807\n",
            "Train Epoch: 2 [19840/60000]\tLoss: -0.840007\n",
            "Train Epoch: 2 [20480/60000]\tLoss: -0.746442\n",
            "Train Epoch: 2 [21120/60000]\tLoss: -0.673436\n",
            "Train Epoch: 2 [21760/60000]\tLoss: -0.754656\n",
            "Train Epoch: 2 [22400/60000]\tLoss: -0.705081\n",
            "Train Epoch: 2 [23040/60000]\tLoss: -0.702466\n",
            "Train Epoch: 2 [23680/60000]\tLoss: -0.766668\n",
            "Train Epoch: 2 [24320/60000]\tLoss: -0.795424\n",
            "Train Epoch: 2 [24960/60000]\tLoss: -0.629481\n",
            "Train Epoch: 2 [25600/60000]\tLoss: -0.728771\n",
            "Train Epoch: 2 [26240/60000]\tLoss: -0.720747\n",
            "Train Epoch: 2 [26880/60000]\tLoss: -0.791480\n",
            "Train Epoch: 2 [27520/60000]\tLoss: -0.771763\n",
            "Train Epoch: 2 [28160/60000]\tLoss: -0.799791\n",
            "Train Epoch: 2 [28800/60000]\tLoss: -0.782501\n",
            "Train Epoch: 2 [29440/60000]\tLoss: -0.832590\n",
            "Train Epoch: 2 [30080/60000]\tLoss: -0.770655\n",
            "Train Epoch: 2 [30720/60000]\tLoss: -0.679670\n",
            "Train Epoch: 2 [31360/60000]\tLoss: -0.802874\n",
            "Train Epoch: 2 [32000/60000]\tLoss: -0.798165\n",
            "Train Epoch: 2 [32640/60000]\tLoss: -0.745633\n",
            "Train Epoch: 2 [33280/60000]\tLoss: -0.676615\n",
            "Train Epoch: 2 [33920/60000]\tLoss: -0.716642\n",
            "Train Epoch: 2 [34560/60000]\tLoss: -0.670746\n",
            "Train Epoch: 2 [35200/60000]\tLoss: -0.691740\n",
            "Train Epoch: 2 [35840/60000]\tLoss: -0.847356\n",
            "Train Epoch: 2 [36480/60000]\tLoss: -0.751555\n",
            "Train Epoch: 2 [37120/60000]\tLoss: -0.720230\n",
            "Train Epoch: 2 [37760/60000]\tLoss: -0.837111\n",
            "Train Epoch: 2 [38400/60000]\tLoss: -0.780919\n",
            "Train Epoch: 2 [39040/60000]\tLoss: -0.732626\n",
            "Train Epoch: 2 [39680/60000]\tLoss: -0.800963\n",
            "Train Epoch: 2 [40320/60000]\tLoss: -0.806815\n",
            "Train Epoch: 2 [40960/60000]\tLoss: -0.793297\n",
            "Train Epoch: 2 [41600/60000]\tLoss: -0.810122\n",
            "Train Epoch: 2 [42240/60000]\tLoss: -0.745185\n",
            "Train Epoch: 2 [42880/60000]\tLoss: -0.790193\n",
            "Train Epoch: 2 [43520/60000]\tLoss: -0.812456\n",
            "Train Epoch: 2 [44160/60000]\tLoss: -0.908525\n",
            "Train Epoch: 2 [44800/60000]\tLoss: -0.859064\n",
            "Train Epoch: 2 [45440/60000]\tLoss: -0.755594\n",
            "Train Epoch: 2 [46080/60000]\tLoss: -0.782376\n",
            "Train Epoch: 2 [46720/60000]\tLoss: -0.786898\n",
            "Train Epoch: 2 [47360/60000]\tLoss: -0.739984\n",
            "Train Epoch: 2 [48000/60000]\tLoss: -0.789512\n",
            "Train Epoch: 2 [48640/60000]\tLoss: -0.781621\n",
            "Train Epoch: 2 [49280/60000]\tLoss: -0.775464\n",
            "Train Epoch: 2 [49920/60000]\tLoss: -0.634550\n",
            "Train Epoch: 2 [50560/60000]\tLoss: -0.773713\n",
            "Train Epoch: 2 [51200/60000]\tLoss: -0.860959\n",
            "Train Epoch: 2 [51840/60000]\tLoss: -0.887756\n",
            "Train Epoch: 2 [52480/60000]\tLoss: -0.762969\n",
            "Train Epoch: 2 [53120/60000]\tLoss: -0.745563\n",
            "Train Epoch: 2 [53760/60000]\tLoss: -0.769775\n",
            "Train Epoch: 2 [54400/60000]\tLoss: -0.824250\n",
            "Train Epoch: 2 [55040/60000]\tLoss: -0.778798\n",
            "Train Epoch: 2 [55680/60000]\tLoss: -0.766889\n",
            "Train Epoch: 2 [56320/60000]\tLoss: -0.797834\n",
            "Train Epoch: 2 [56960/60000]\tLoss: -0.805021\n",
            "Train Epoch: 2 [57600/60000]\tLoss: -0.770797\n",
            "Train Epoch: 2 [58240/60000]\tLoss: -0.703541\n",
            "Train Epoch: 2 [58880/60000]\tLoss: -0.769255\n",
            "Train Epoch: 2 [59520/60000]\tLoss: -0.798106\n",
            "\n",
            "Test set: Avg. loss: -0.7730, Accuracy: 7776/10000 (78%)\n",
            "\n",
            "Train Epoch: 3 [0/60000]\tLoss: -0.821715\n",
            "Train Epoch: 3 [640/60000]\tLoss: -0.689540\n",
            "Train Epoch: 3 [1280/60000]\tLoss: -0.820974\n",
            "Train Epoch: 3 [1920/60000]\tLoss: -0.805951\n",
            "Train Epoch: 3 [2560/60000]\tLoss: -0.816435\n",
            "Train Epoch: 3 [3200/60000]\tLoss: -0.827137\n",
            "Train Epoch: 3 [3840/60000]\tLoss: -0.706184\n",
            "Train Epoch: 3 [4480/60000]\tLoss: -0.757293\n",
            "Train Epoch: 3 [5120/60000]\tLoss: -0.730912\n",
            "Train Epoch: 3 [5760/60000]\tLoss: -0.718203\n",
            "Train Epoch: 3 [6400/60000]\tLoss: -0.760511\n",
            "Train Epoch: 3 [7040/60000]\tLoss: -0.688194\n",
            "Train Epoch: 3 [7680/60000]\tLoss: -0.731948\n",
            "Train Epoch: 3 [8320/60000]\tLoss: -0.760434\n",
            "Train Epoch: 3 [8960/60000]\tLoss: -0.726077\n",
            "Train Epoch: 3 [9600/60000]\tLoss: -0.904185\n",
            "Train Epoch: 3 [10240/60000]\tLoss: -0.766255\n",
            "Train Epoch: 3 [10880/60000]\tLoss: -0.762366\n",
            "Train Epoch: 3 [11520/60000]\tLoss: -0.772924\n",
            "Train Epoch: 3 [12160/60000]\tLoss: -0.784932\n",
            "Train Epoch: 3 [12800/60000]\tLoss: -0.789250\n",
            "Train Epoch: 3 [13440/60000]\tLoss: -0.791786\n",
            "Train Epoch: 3 [14080/60000]\tLoss: -0.715802\n",
            "Train Epoch: 3 [14720/60000]\tLoss: -0.706609\n",
            "Train Epoch: 3 [15360/60000]\tLoss: -0.813183\n",
            "Train Epoch: 3 [16000/60000]\tLoss: -0.795721\n",
            "Train Epoch: 3 [16640/60000]\tLoss: -0.836498\n",
            "Train Epoch: 3 [17280/60000]\tLoss: -0.859050\n",
            "Train Epoch: 3 [17920/60000]\tLoss: -0.794966\n",
            "Train Epoch: 3 [18560/60000]\tLoss: -0.787116\n",
            "Train Epoch: 3 [19200/60000]\tLoss: -0.762869\n",
            "Train Epoch: 3 [19840/60000]\tLoss: -0.830807\n",
            "Train Epoch: 3 [20480/60000]\tLoss: -0.808031\n",
            "Train Epoch: 3 [21120/60000]\tLoss: -0.774371\n",
            "Train Epoch: 3 [21760/60000]\tLoss: -0.713549\n",
            "Train Epoch: 3 [22400/60000]\tLoss: -0.852697\n",
            "Train Epoch: 3 [23040/60000]\tLoss: -0.696444\n",
            "Train Epoch: 3 [23680/60000]\tLoss: -0.750094\n",
            "Train Epoch: 3 [24320/60000]\tLoss: -0.808166\n",
            "Train Epoch: 3 [24960/60000]\tLoss: -0.797828\n",
            "Train Epoch: 3 [25600/60000]\tLoss: -0.689288\n",
            "Train Epoch: 3 [26240/60000]\tLoss: -0.728898\n",
            "Train Epoch: 3 [26880/60000]\tLoss: -0.723097\n",
            "Train Epoch: 3 [27520/60000]\tLoss: -0.830122\n",
            "Train Epoch: 3 [28160/60000]\tLoss: -0.724798\n",
            "Train Epoch: 3 [28800/60000]\tLoss: -0.801946\n",
            "Train Epoch: 3 [29440/60000]\tLoss: -0.783184\n",
            "Train Epoch: 3 [30080/60000]\tLoss: -0.858456\n",
            "Train Epoch: 3 [30720/60000]\tLoss: -0.755138\n",
            "Train Epoch: 3 [31360/60000]\tLoss: -0.746201\n",
            "Train Epoch: 3 [32000/60000]\tLoss: -0.647116\n",
            "Train Epoch: 3 [32640/60000]\tLoss: -0.747404\n",
            "Train Epoch: 3 [33280/60000]\tLoss: -0.796436\n",
            "Train Epoch: 3 [33920/60000]\tLoss: -0.762650\n",
            "Train Epoch: 3 [34560/60000]\tLoss: -0.730687\n",
            "Train Epoch: 3 [35200/60000]\tLoss: -0.678763\n",
            "Train Epoch: 3 [35840/60000]\tLoss: -0.759209\n",
            "Train Epoch: 3 [36480/60000]\tLoss: -0.755148\n",
            "Train Epoch: 3 [37120/60000]\tLoss: -0.751683\n",
            "Train Epoch: 3 [37760/60000]\tLoss: -0.773636\n",
            "Train Epoch: 3 [38400/60000]\tLoss: -0.789310\n",
            "Train Epoch: 3 [39040/60000]\tLoss: -0.718668\n",
            "Train Epoch: 3 [39680/60000]\tLoss: -0.863097\n",
            "Train Epoch: 3 [40320/60000]\tLoss: -0.735637\n",
            "Train Epoch: 3 [40960/60000]\tLoss: -0.698763\n",
            "Train Epoch: 3 [41600/60000]\tLoss: -0.721784\n",
            "Train Epoch: 3 [42240/60000]\tLoss: -0.877395\n",
            "Train Epoch: 3 [42880/60000]\tLoss: -0.778401\n",
            "Train Epoch: 3 [43520/60000]\tLoss: -0.835357\n",
            "Train Epoch: 3 [44160/60000]\tLoss: -0.796749\n",
            "Train Epoch: 3 [44800/60000]\tLoss: -0.796154\n",
            "Train Epoch: 3 [45440/60000]\tLoss: -0.817728\n",
            "Train Epoch: 3 [46080/60000]\tLoss: -0.871663\n",
            "Train Epoch: 3 [46720/60000]\tLoss: -0.794042\n",
            "Train Epoch: 3 [47360/60000]\tLoss: -0.665626\n",
            "Train Epoch: 3 [48000/60000]\tLoss: -0.724895\n",
            "Train Epoch: 3 [48640/60000]\tLoss: -0.838024\n",
            "Train Epoch: 3 [49280/60000]\tLoss: -0.691979\n",
            "Train Epoch: 3 [49920/60000]\tLoss: -0.761097\n",
            "Train Epoch: 3 [50560/60000]\tLoss: -0.791710\n",
            "Train Epoch: 3 [51200/60000]\tLoss: -0.782173\n",
            "Train Epoch: 3 [51840/60000]\tLoss: -0.781443\n",
            "Train Epoch: 3 [52480/60000]\tLoss: -0.836429\n",
            "Train Epoch: 3 [53120/60000]\tLoss: -0.819695\n",
            "Train Epoch: 3 [53760/60000]\tLoss: -0.829968\n",
            "Train Epoch: 3 [54400/60000]\tLoss: -0.761981\n",
            "Train Epoch: 3 [55040/60000]\tLoss: -0.808348\n",
            "Train Epoch: 3 [55680/60000]\tLoss: -0.806320\n",
            "Train Epoch: 3 [56320/60000]\tLoss: -0.787553\n",
            "Train Epoch: 3 [56960/60000]\tLoss: -0.757063\n",
            "Train Epoch: 3 [57600/60000]\tLoss: -0.781956\n",
            "Train Epoch: 3 [58240/60000]\tLoss: -0.815500\n",
            "Train Epoch: 3 [58880/60000]\tLoss: -0.801062\n",
            "Train Epoch: 3 [59520/60000]\tLoss: -0.738588\n",
            "\n",
            "Test set: Avg. loss: -0.7831, Accuracy: 7867/10000 (79%)\n",
            "\n"
          ]
        }
      ]
    },
    {
      "cell_type": "code",
      "source": [
        "# Run network on data we got before and show predictions\n",
        "output = model(example_data)\n",
        "\n",
        "fig = plt.figure()\n",
        "for i in range(10):\n",
        "  plt.subplot(5,5,i+1)\n",
        "  plt.tight_layout()\n",
        "  plt.imshow(example_data[i][0], cmap='gray', interpolation='none')\n",
        "  plt.title(\"Prediction: {}\".format(\n",
        "    output.data.max(1, keepdim=True)[1][i].item()))\n",
        "  plt.xticks([])\n",
        "  plt.yticks([])\n",
        "plt.show()"
      ],
      "metadata": {
        "id": "o7fRUAy9Se1B",
        "outputId": "e189311d-82b2-4ac5-a6d3-514cc3529dcf",
        "colab": {
          "base_uri": "https://localhost:8080/",
          "height": 207
        }
      },
      "execution_count": 54,
      "outputs": [
        {
          "output_type": "display_data",
          "data": {
            "text/plain": [
              "<Figure size 640x480 with 10 Axes>"
            ],
            "image/png": "[encoded data removed]"
          },
          "metadata": {}
        }
      ]
    },
    {
      "cell_type": "code",
      "source": [],
      "metadata": {
        "id": "3-nzcqgycigq"
      },
      "execution_count": null,
      "outputs": []
    }
  ]
}