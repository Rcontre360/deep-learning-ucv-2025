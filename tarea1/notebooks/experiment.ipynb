{
 "cells": [
  {
   "cell_type": "code",
   "execution_count": 1,
   "id": "8de53f77-0d33-4215-b1c1-738c0fc83d01",
   "metadata": {},
   "outputs": [
    {
     "name": "stdout",
     "output_type": "stream",
     "text": [
      "Collecting rafael-nn\n",
      "  Downloading rafael_nn-0.1.0-py3-none-any.whl.metadata (250 bytes)\n",
      "Requirement already satisfied: numpy in /home/rafael/Desktop/ucv/DL/venv/lib/python3.12/site-packages (from rafael-nn) (2.3.0)\n",
      "Downloading rafael_nn-0.1.0-py3-none-any.whl (2.4 kB)\n",
      "Installing collected packages: rafael-nn\n",
      "Successfully installed rafael-nn-0.1.0\n"
     ]
    }
   ],
   "source": [
    "!pip install rafael-nn"
   ]
  },
  {
   "cell_type": "code",
   "execution_count": 4,
   "id": "27165c92-0b55-4300-a6ac-418e2709a2af",
   "metadata": {},
   "outputs": [],
   "source": [
    "from rafael_nn import acfn"
   ]
  },
  {
   "cell_type": "code",
   "execution_count": 5,
   "id": "6ad8fc21-1379-4b9f-94a4-a03667ae796e",
   "metadata": {},
   "outputs": [
    {
     "data": {
      "text/plain": [
       "rafael_nn.acfn.ReLU"
      ]
     },
     "execution_count": 5,
     "metadata": {},
     "output_type": "execute_result"
    }
   ],
   "source": [
    "acfn.ReLU"
   ]
  },
  {
   "cell_type": "code",
   "execution_count": null,
   "id": "0fcf667b-6322-4a33-b529-519abf6ca0dd",
   "metadata": {},
   "outputs": [],
   "source": []
  }
 ],
 "metadata": {
  "kernelspec": {
   "display_name": "Python 3 (ipykernel)",
   "language": "python",
   "name": "python3"
  },
  "language_info": {
   "codemirror_mode": {
    "name": "ipython",
    "version": 3
   },
   "file_extension": ".py",
   "mimetype": "text/x-python",
   "name": "python",
   "nbconvert_exporter": "python",
   "pygments_lexer": "ipython3",
   "version": "3.12.3"
  },
  "widgets": {
   "application/vnd.jupyter.widget-state+json": {
    "state": {},
    "version_major": 2,
    "version_minor": 0
   }
  }
 },
 "nbformat": 4,
 "nbformat_minor": 5
}
