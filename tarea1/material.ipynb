{
  "nbformat": 4,
  "nbformat_minor": 0,
  "metadata": {
    "colab": {
      "provenance": [],
      "gpuType": "T4"
    },
    "kernelspec": {
      "name": "python3",
      "display_name": "Python 3"
    },
    "language_info": {
      "name": "python"
    },
    "accelerator": "GPU"
  },
  "cells": [
    {
      "cell_type": "markdown",
      "source": [
        "<div><center><img src=\"https://ml.ucv.ai/logo.png\\\" width=150\"/> </center></div>"
      ],
      "metadata": {
        "id": "UFPpHEn9Xb76"
      }
    },
    {
      "cell_type": "markdown",
      "source": [
        "# Tarea 1 - Material suplementario\n",
        "\n",
        "## Tópicos en Inteligencia Artificial\n",
        "\n",
        "\n",
        "* Alumno: RAFAEL CONTRERAS\n",
        "* Cédula: 30391915\n",
        "----\n"
      ],
      "metadata": {
        "id": "qnTdfHZmFKnG"
      }
    },
    {
      "cell_type": "markdown",
      "source": [
        "Justificar **todas** sus respuestas.\n",
        "\n",
        "Si utilizó una referencia, coloque link (de ser online) o nombre de trabajo, autor/es y página (de ser una referencia escrita de libro o paper).\n",
        "- De ser para la sección teórica, debe reescribir o parafrasear con sus propias palabras la sección que desea usar y porqué la usó en la pregunta.\n",
        "- De ser para la sección práctica, comente lo más posible el código usado de un tercero.\n",
        "\n"
      ],
      "metadata": {
        "id": "GLpYR4CdGYS5"
      }
    },
    {
      "cell_type": "markdown",
      "source": [
        "# Preguntas teóricas"
      ],
      "metadata": {
        "id": "TonAg7L5Fkno"
      }
    },
    {
      "cell_type": "markdown",
      "source": [
        "## 1.1\n",
        "\n",
        "Considere el siguiente código escrito en PyTorch"
      ],
      "metadata": {
        "id": "iaTpKiM7ITW5"
      }
    },
    {
      "cell_type": "code",
      "source": [
        "import torch\n",
        "import torch.nn as nn\n",
        "\n",
        "\n",
        "class ModeloSimple(nn.Module):\n",
        "    def __init__(\n",
        "        self,\n",
        "        input,\n",
        "        hidden,\n",
        "        out,\n",
        "        actfn = nn.ReLU\n",
        "    ):\n",
        "        super(ModeloSimple, self).__init__()\n",
        "        self.fc1 = nn.Linear(\n",
        "            in_features=input,\n",
        "            out_features=hidden\n",
        "        )\n",
        "        self.actfn = actfn\n",
        "        self.fc2 = nn.Linear(\n",
        "            in_features=hidden,\n",
        "            out_features=out\n",
        "        )\n",
        "\n",
        "    def forward(self, x):\n",
        "        x = self.fc1(x)\n",
        "        x = self.actfn(x)\n",
        "        x = self.fc2(x)\n",
        "        return x"
      ],
      "metadata": {
        "id": "i68DAOEb9tAf"
      },
      "execution_count": null,
      "outputs": []
    },
    {
      "cell_type": "markdown",
      "source": [
        "Modifique el código y substituya las variables y, w, y z por las variables de entrada, salida y capas ocultas. Además, agregue la opción de usar como función de activación además de la presentada la tangente hiperbólica."
      ],
      "metadata": {
        "id": "WuI8YBvjE0Sl"
      }
    },
    {
      "cell_type": "markdown",
      "source": [
        "## 1.2\n",
        "\n",
        "Supongamos que modificamos la función de activación $f_i$ en las neuronas de la capa oculta de una red neuronal a la siguiente expresión:\n",
        "\n",
        "$$f_i(x, y) = a_i x + b_i y + c_i \\text{ con } i \\in \\{1,2, 3\\}$$\n",
        "\n",
        "La estructura de la red tiene 2 capas de entrada 1 capa oculta con 3 neuronas y 1 salida.\n",
        "\n",
        "1. Escriba el diagrama de la red.\n",
        "1. Qué particularidad tiene la función resultante?"
      ],
      "metadata": {
        "id": "9C3UeQT2Jh3O"
      }
    },
    {
      "cell_type": "markdown",
      "source": [
        "### 1.2.a Respuesta\n"
      ],
      "metadata": {
        "id": "rUcxV28cJnV1"
      }
    },
    {
      "cell_type": "markdown",
      "source": [
        "![image.png](data:image/png;base64,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)"
      ],
      "metadata": {
        "id": "kSrQ3julK_0d"
      }
    },
    {
      "cell_type": "markdown",
      "source": [
        "### 1.2.b Respuesta"
      ],
      "metadata": {
        "id": "oGJVVJ6KI2DV"
      }
    },
    {
      "cell_type": "markdown",
      "source": [
        "La funcion resultante de la red neuronal es una funcion lineal. Sin \"codos\". Esto es debido a que la funcion de activacion nueva es lineal."
      ],
      "metadata": {
        "id": "f3YEqPK8LDZy"
      }
    },
    {
      "cell_type": "markdown",
      "source": [
        "## Pregunta 2 de evaluaciones\n",
        "\n",
        "Considere la siguiente superficie $$\n",
        "f(x, y)=\\frac{\\sin \\left(0.8 \\left(x^2+y^2\\right)\\right)}{\\left(x^2+y^2\\right)^{0.9}}\n",
        "$$"
      ],
      "metadata": {
        "id": "LfAFk15pEH4O"
      }
    },
    {
      "cell_type": "code",
      "source": [
        "import matplotlib.pyplot as plt\n",
        "import torch\n",
        "import matplotlib.cm as cm\n",
        "import copy\n",
        "import time"
      ],
      "metadata": {
        "id": "MRhlqwC_G6RQ"
      },
      "execution_count": null,
      "outputs": []
    },
    {
      "cell_type": "markdown",
      "source": [
        "### Implemente la función usando `torch.sin` disponible en [PyTorch - Sin](https://pytorch.org/docs/stable/generated/torch.sin.html)\n",
        "\n",
        "\n"
      ],
      "metadata": {
        "id": "lr6k3kpQE88b"
      }
    },
    {
      "cell_type": "code",
      "source": [
        "def f(x, y):\n",
        "    return torch.sin(0.8 * (x*x + y*y)) / (x*x + y*y) ** 0.9"
      ],
      "metadata": {
        "id": "J2GPuIgPE8ei"
      },
      "execution_count": null,
      "outputs": []
    },
    {
      "cell_type": "markdown",
      "source": [
        "### Parámetros de generación de datos"
      ],
      "metadata": {
        "id": "_K_hpNHJFb1S"
      }
    },
    {
      "cell_type": "code",
      "source": [
        "ruido = 0\n",
        "mesh_dim = 40"
      ],
      "metadata": {
        "id": "eeHkTBnUE63w"
      },
      "execution_count": null,
      "outputs": []
    },
    {
      "cell_type": "markdown",
      "source": [
        "### Funciones para generar los datos"
      ],
      "metadata": {
        "id": "Gyyl4uLaFgLy"
      }
    },
    {
      "cell_type": "code",
      "source": [
        "def datos(ruido, mesh_dim):\n",
        "  t = torch.linspace(-3, 3, mesh_dim)\n",
        "  x, y = torch.meshgrid(t, t)\n",
        "  z = f(x, y)\n",
        "  z_noisy = z + ruido * torch.randn(mesh_dim, mesh_dim)\n",
        "\n",
        "  return x, y, z, z_noisy\n",
        "\n",
        "def dataset(x, y, z, z_noisy):\n",
        "  x_train = torch.vstack([x.ravel(), y.ravel()]).T\n",
        "  y_train = z_noisy.ravel()\n",
        "  y_test = z.ravel()\n",
        "\n",
        "  return x_train, y_train, y_test\n",
        "\n",
        "def plot_surface(x, y, z_noisy):\n",
        "  fig = plt.figure()\n",
        "  ax = plt.axes(projection='3d')\n",
        "  ax.plot_surface(x, y, z_noisy,cmap='viridis', edgecolor='none')\n",
        "  ax.set_title('Superficie')\n",
        "  plt.show()\n"
      ],
      "metadata": {
        "id": "J9oPS3I5Ffyg"
      },
      "execution_count": null,
      "outputs": []
    },
    {
      "cell_type": "code",
      "source": [
        "x, y, z, z_ruido = datos(ruido, mesh_dim)"
      ],
      "metadata": {
        "id": "ErOS6pwcGlef"
      },
      "execution_count": null,
      "outputs": []
    },
    {
      "cell_type": "code",
      "source": [
        "plot_surface(x, y, z_ruido)"
      ],
      "metadata": {
        "id": "_s0pyGjYGrIi"
      },
      "execution_count": null,
      "outputs": []
    },
    {
      "cell_type": "code",
      "source": [
        "x_train, y_train, y_test = dataset(x, y, z, z_ruido)"
      ],
      "metadata": {
        "id": "EFUXwPxRGpcZ"
      },
      "execution_count": null,
      "outputs": []
    },
    {
      "cell_type": "markdown",
      "source": [
        "### Definiendo el modelo"
      ],
      "metadata": {
        "id": "vWwsm_nKGhmB"
      }
    },
    {
      "cell_type": "markdown",
      "source": [
        "La siguiente clase intenta definir una arquitectura de red neuronal que debe aproximar a $f(x, y)$. Identifique las dimensiones (entrada, salida) de la red sin importar la arquitectura."
      ],
      "metadata": {
        "id": "mXsr5k67IhVc"
      }
    },
    {
      "cell_type": "markdown",
      "source": [
        "Respuesta:"
      ],
      "metadata": {
        "id": "82IsWsM6L11w"
      }
    },
    {
      "cell_type": "markdown",
      "source": [
        "Se provee la estructura principal de la clase debe crear la arquitectura en el método `__init__` de tal manera de que tenga 3 capas lineales con dimensiones de entrada `neuronas_l1`, `neuronas_l2` y `neuronas_l3`. La función de activación debe ser la `ReLU` para todas las capas."
      ],
      "metadata": {
        "id": "jWbDBDhUL3RC"
      }
    },
    {
      "cell_type": "code",
      "source": [
        "import torch.nn as nn\n",
        "import torch.nn.functional as F\n",
        "from torch.utils.data import TensorDataset, DataLoader"
      ],
      "metadata": {
        "id": "jesmq179Inm-"
      },
      "execution_count": null,
      "outputs": []
    },
    {
      "cell_type": "code",
      "source": [
        "class Net3L(nn.Module):\n",
        "    def __init__(self, neuronas_l1=10, neuronas_l2=10, neuronas_l3=10):\n",
        "        super(Net3L, self).__init__()\n",
        "        ##############################################\n",
        "        #         Agregue red neuronal acá           #\n",
        "        ##############################################\n",
        "        self.linear_relu_stack = nn.Sequential(\n",
        "            nn.Linear(2,neuronas_l1),\n",
        "            nn.ReLU(),\n",
        "            nn.Linear(neuronas_l1,neuronas_l2),\n",
        "            nn.ReLU(),\n",
        "            nn.Linear(neuronas_l2,neuronas_l3),\n",
        "            nn.ReLU(),\n",
        "            nn.Linear(neuronas_l3,1)\n",
        "        )\n",
        "        ##############################################\n",
        "    def forward(self, x):\n",
        "        return self.linear_relu_stack(x)\n",
        "\n",
        "    def fit(self, x_train, y_train, optimizer, batch_size, n_epochs_max):\n",
        "        # Crear el TensorDataset\n",
        "        train_data = TensorDataset(x_train, y_train)\n",
        "\n",
        "        # Crear el Data Loader\n",
        "        train_loader = DataLoader(\n",
        "            dataset=train_data, # 3\n",
        "            batch_size=batch_size,\n",
        "            shuffle= True # 4\n",
        "        )\n",
        "\n",
        "        # Creando el loop de entrenamiento\n",
        "        loss_list = []\n",
        "        for n_epochs in range(n_epochs_max):\n",
        "            for x_batch, y_batch in train_loader:\n",
        "                def closure():\n",
        "                    optimizer.zero_grad()\n",
        "                    output = self.forward(x_batch)\n",
        "                    loss = nn.MSELoss()(output.squeeze(-1), y_batch)\n",
        "                    loss.backward()\n",
        "                    return loss\n",
        "                loss = optimizer.step(closure)\n",
        "            loss_list.append(loss.item())\n",
        "        return loss_list\n",
        "\n",
        "    def evaluate(self, x_test, y_test):\n",
        "      y_pred = self(x_test).squeeze(-1)\n",
        "      return (nn.MSELoss()(y_pred, y_test)).item()"
      ],
      "metadata": {
        "id": "JUF5UMo8Igu9"
      },
      "execution_count": null,
      "outputs": []
    },
    {
      "cell_type": "markdown",
      "source": [
        "### Entrenamiento\n",
        "\n",
        "Modifique la entrada para que la capa lineal 1 tenga 60 neuronas, la 2 30 neuronas y la 3 20 neuronas."
      ],
      "metadata": {
        "id": "RspphIQUJ3Gb"
      }
    },
    {
      "cell_type": "code",
      "source": [
        "net = Net3L(60, 30, 20)"
      ],
      "metadata": {
        "id": "kTzxASAQJnMr"
      },
      "execution_count": null,
      "outputs": []
    },
    {
      "cell_type": "markdown",
      "source": [
        "Modifique los valores en None"
      ],
      "metadata": {
        "id": "a_r23VsUKGkl"
      }
    },
    {
      "cell_type": "code",
      "source": [
        "loss_list = net.fit(\n",
        "    x_train, y_train,\n",
        "    torch.optim.LBFGS(net.parameters(), lr=1, max_iter=1, line_search_fn='strong_wolfe'),\n",
        "    1600, 2000\n",
        ")"
      ],
      "metadata": {
        "id": "UZPCtuaSKGqr"
      },
      "execution_count": null,
      "outputs": []
    },
    {
      "cell_type": "markdown",
      "source": [
        "### Evaluación\n",
        "\n",
        "Explique detalladamente la funcionalidad del siguiente gráfico y de nombre a los ejes"
      ],
      "metadata": {
        "id": "C7XphXM0JqXU"
      }
    },
    {
      "cell_type": "markdown",
      "source": [
        "En cada epoch, luego de procesar los batches durante el poch se guarda la perdida de ese ultimo batch. Esto se guarda en \"loss_list\" y esta lista se lo que graficamos."
      ],
      "metadata": {
        "id": "uayms9_ZXLtP"
      }
    },
    {
      "cell_type": "code",
      "source": [
        "plt.figure()\n",
        "plt.xlabel('Perdida')\n",
        "plt.ylabel('N epoch')\n",
        "plt.plot(loss_list)\n",
        "plt.show()"
      ],
      "metadata": {
        "id": "gITebCjMJoOr"
      },
      "execution_count": null,
      "outputs": []
    },
    {
      "cell_type": "markdown",
      "source": [
        "### Predicción"
      ],
      "metadata": {
        "id": "l2st05UeKUc8"
      }
    },
    {
      "cell_type": "code",
      "source": [
        "y_pred = net(x_train).detach().squeeze(-1)"
      ],
      "metadata": {
        "id": "O0xiJ8pAKUsC"
      },
      "execution_count": null,
      "outputs": []
    },
    {
      "cell_type": "code",
      "source": [
        "def plot_result(x, y, z1, z2):\n",
        "  fig, ax = plt.subplots(1, 2, figsize=(10, 10), subplot_kw={'projection': '3d'})\n",
        "  #\n",
        "  ax[0].plot_trisurf(x, y, z1, vmin=y_train.min(), cmap=cm.viridis)\n",
        "  ax[0].set_xlabel('x')\n",
        "  ax[0].set_ylabel('y')\n",
        "  ax[0].set_zlabel('z')\n",
        "  ax[0].set_title('Superficie')\n",
        "  #\n",
        "  ax[1].plot_trisurf(x, y, (z1-z2)**2, vmin=0, cmap=cm.viridis)\n",
        "  ax[1].set_xlabel('x')\n",
        "  ax[1].set_ylabel('y')\n",
        "  ax[1].set_zlabel('z')\n",
        "  ax[1].set_title('Residuales cuadrados')\n",
        "  plt.show()"
      ],
      "metadata": {
        "id": "CXwarDrpKjta"
      },
      "execution_count": null,
      "outputs": []
    },
    {
      "cell_type": "markdown",
      "source": [
        "Modifique la llamada de la siguiente función de tal manera que el primer gráfico muestre la superficie luego de la predicción y la segunda superfice la diferencia cuadrática entre predicciones y valores reales"
      ],
      "metadata": {
        "id": "HwQNUt1eLB1P"
      }
    },
    {
      "cell_type": "code",
      "source": [
        "plot_result(x_train[:, 0], x_train[:, 1], y_pred, y_train)"
      ],
      "metadata": {
        "id": "j0ZeVPVDK8_e"
      },
      "execution_count": null,
      "outputs": []
    },
    {
      "cell_type": "markdown",
      "source": [
        "Finalmente, modifique el código para obtener el  error de entrenamiento y el error de prueba. Compare los valores."
      ],
      "metadata": {
        "id": "AmVDoDgFLO__"
      }
    },
    {
      "cell_type": "code",
      "source": [
        "print('Error entrenamiento:', net.evaluate(x_train, y_pred))\n",
        "print('Error de prueba:', net.evaluate(x_train, y_test))"
      ],
      "metadata": {
        "id": "gXW1vwvPKh0q"
      },
      "execution_count": null,
      "outputs": []
    },
    {
      "cell_type": "markdown",
      "source": [
        "### Analizando distintos optimizers"
      ],
      "metadata": {
        "id": "L_7_tTeOMokA"
      }
    },
    {
      "cell_type": "markdown",
      "source": [
        "El siguiente segmento de código tarda alrededor de 5 minutos por cada ejecución. Su objetivo es investigar las diferencias entre los 3 optimizadores utilizados y responder las siguientes preguntas:\n",
        "\n",
        "1. Cuál es el impacto del parámetro `ruido` en el proceso de optimización?\n",
        "1. Cómo se diferencia el método del descenso del gradiente con el descenso estocástico y las versiones aceleradas?\n",
        "1. Cómo impacta la dimensión de la red neuronal en el rendimiento del optimizador?\n",
        "1. Intente analizar la diferencia entre épocas y el tiempo de convergencia de los algoritmos."
      ],
      "metadata": {
        "id": "pqBe0QkxM5J9"
      }
    },
    {
      "cell_type": "markdown",
      "source": [
        "NOTA: se modifico el codigo para ser ejecutado como una funcion, cuyos parametros son los expuestos en los puntos arriba."
      ],
      "metadata": {
        "id": "k2d3iSY3rpLY"
      }
    },
    {
      "cell_type": "code",
      "source": [
        "def train_with_args(n_epochs, ruido, net):\n",
        "  x, y, z, z_ruido = datos(ruido, mesh_dim)\n",
        "  x_train, y_train, y_test = dataset(x, y, z, z_ruido)\n",
        "\n",
        "  # Crear la red con numero de neuronas idéntico para cada capa\n",
        "  net = Net3L(net[0], net[1], net[2])\n",
        "\n",
        "  # Creamos una copia de la red de tal manera de que compartan la misma inicialización\n",
        "  net_list = [copy.deepcopy(net) for i in range(5)]\n",
        "\n",
        "  # Modifique a conveniencia el número de épocas para responder sus preguntas.\n",
        "  optim1 = torch.optim.SGD(params=net_list[0].parameters(), lr=0.05)\n",
        "  optim2 = torch.optim.SGD(params=net_list[1].parameters(), lr=0.1)\n",
        "  optim3 = torch.optim.SGD(params=net_list[2].parameters(), lr=0.1, momentum=0.9, nesterov= True)\n",
        "  optim4 = torch.optim.Adam(params=net_list[3].parameters())\n",
        "  optim5 = torch.optim.LBFGS(params=net_list[4].parameters(), lr=1, max_iter=1, line_search_fn='strong_wolfe')\n",
        "\n",
        "  optimizer_list = [optim1, optim2, optim3, optim4, optim5]\n",
        "  batch_sizes_list = [1600, 40, 400, 400, 1600]\n",
        "  times_list = []\n",
        "  loss_meta_list = []\n",
        "  eval_list = []\n",
        "\n",
        "  for i, optimizer in enumerate(optimizer_list):\n",
        "      t0 = time.time()\n",
        "      loss_list = net_list[i].fit(x_train, y_train, optimizer= optimizer, batch_size= batch_sizes_list[i], n_epochs_max= n_epochs)\n",
        "      t1 = time.time()\n",
        "      times_list.append(t1-t0)\n",
        "      loss_meta_list.append(loss_list)\n",
        "      eval_list.append(net_list[i].evaluate(x_train, y_test))\n",
        "\n",
        "  return times_list, eval_list, loss_meta_list\n",
        "\n",
        "def plot_from_run(current_run):\n",
        "  names = [\"SGD (lr=0.05)\", \"SGD (lr=0.1)\", \"SGD (Nesterov)\", \"Adam\", \"LBFGS\"]\n",
        "\n",
        "  # Create a figure with three subplots (columns) in one row\n",
        "  # Adjust figsize to accommodate three plots comfortably\n",
        "  fig, axes = plt.subplots(1, 3, figsize=(22, 7)) # Increased width for 3 plots\n",
        "\n",
        "  # Plot 1: Evaluation Loss (axes[0])\n",
        "  axes[0].bar(names, current_run['eval'], color='skyblue')\n",
        "  axes[0].set_xlabel(\"Optimizer\")\n",
        "  axes[0].set_ylabel(\"Evaluation Loss (MSE)\")\n",
        "  axes[0].set_title(\"Effectiveness of Different Optimizers (Evaluation Loss)\")\n",
        "  axes[0].tick_params(axis='x', rotation=45, horizontalalignment=\"right\")\n",
        "  axes[0].set_yscale('log') # Keep log scale for evaluation loss if values vary greatly\n",
        "\n",
        "  # Plot 2: Training Loss over Epochs (axes[1])\n",
        "  colors = plt.cm.get_cmap('tab10', len(current_run['loss'])) # Get a colormap for different lines\n",
        "\n",
        "  for i, loss_history in enumerate(current_run['loss']):\n",
        "      axes[1].plot(loss_history, label=names[i], color=colors(i))\n",
        "\n",
        "  axes[1].set_xlabel(\"Epoch\")\n",
        "  axes[1].set_ylabel(\"Training Loss (MSE)\")\n",
        "  axes[1].set_title(\"Training Loss Over Epochs for Different Optimizers\")\n",
        "  axes[1].legend()\n",
        "  axes[1].set_yscale('log') # Often helpful for loss plots to see early changes\n",
        "\n",
        "  # Plot 3: Training Time for Each Optimizer (axes[2])\n",
        "  axes[2].bar(names, current_run['times'], color='lightcoral')\n",
        "  axes[2].set_xlabel(\"Optimizer\")\n",
        "  axes[2].set_ylabel(\"Training Time (seconds)\")\n",
        "  axes[2].set_title(\"Training Time for Different Optimizers\")\n",
        "  axes[2].tick_params(axis='x', rotation=45, horizontalalignment=\"right\")\n",
        "\n",
        "  plt.tight_layout() # Adjusts subplot parameters for a tight layout\n",
        "  plt.show()\n"
      ],
      "metadata": {
        "id": "JDp2ZMjHKh3B"
      },
      "execution_count": 37,
      "outputs": []
    },
    {
      "cell_type": "code",
      "source": [
        "# arreglo donde guardaremos el resultado de cada corrida\n",
        "plots = []"
      ],
      "metadata": {
        "id": "R_e25X1lyewz"
      },
      "execution_count": null,
      "outputs": []
    },
    {
      "cell_type": "code",
      "source": [
        "times1, eval1, loss_meta1 = train_with_args(500, 0, [50,50,50])\n",
        "plots.append({\n",
        "    \"times\":times1,\n",
        "    \"eval\":eval1,\n",
        "    \"loss\":loss_meta1\n",
        "})"
      ],
      "metadata": {
        "id": "MRbd1mGPr_WK"
      },
      "execution_count": 29,
      "outputs": []
    },
    {
      "cell_type": "code",
      "source": [
        "times1, eval1, loss_meta1 = train_with_args(500, 0.01, [50,50,50])\n",
        "plots.append({\n",
        "    \"times\":times1,\n",
        "    \"eval\":eval1,\n",
        "    \"loss\":loss_meta1\n",
        "})"
      ],
      "metadata": {
        "id": "poyLq2xhupOr"
      },
      "execution_count": 30,
      "outputs": []
    },
    {
      "cell_type": "code",
      "source": [
        "times1, eval1, loss_meta1 = train_with_args(500, 0.1, [50,50,50])\n",
        "plots.append({\n",
        "    \"times\":times1,\n",
        "    \"eval\":eval1,\n",
        "    \"loss\":loss_meta1\n",
        "})"
      ],
      "metadata": {
        "id": "gr7rZWeqvPrO"
      },
      "execution_count": 31,
      "outputs": []
    },
    {
      "cell_type": "code",
      "source": [
        "times1, eval1, loss_meta1 = train_with_args(500, 0.5, [50,50,50])\n",
        "plots.append({\n",
        "    \"times\":times1,\n",
        "    \"eval\":eval1,\n",
        "    \"loss\":loss_meta1\n",
        "})"
      ],
      "metadata": {
        "id": "MR32c-DuupwC"
      },
      "execution_count": 32,
      "outputs": []
    },
    {
      "cell_type": "code",
      "source": [
        "plot_from_run(plots[0])\n",
        "plot_from_run(plots[1])\n",
        "plot_from_run(plots[2])\n",
        "plot_from_run(plots[3])"
      ],
      "metadata": {
        "id": "6RMgcZqVvZdu",
        "outputId": "4b0eac2d-7d93-4f83-abd5-a04c17c31d95",
        "colab": {
          "base_uri": "https://localhost:8080/",
          "height": 193
        }
      },
      "execution_count": 35,
      "outputs": [
        {
          "output_type": "error",
          "ename": "IndexError",
          "evalue": "list index out of range",
          "traceback": [
            "\u001b[0;31m---------------------------------------------------------------------------\u001b[0m",
            "\u001b[0;31mIndexError\u001b[0m                                Traceback (most recent call last)",
            "\u001b[0;32m/tmp/ipython-input-35-4069764546.py\u001b[0m in \u001b[0;36m<cell line: 0>\u001b[0;34m()\u001b[0m\n\u001b[0;32m----> 1\u001b[0;31m \u001b[0mplot_from_run\u001b[0m\u001b[0;34m(\u001b[0m\u001b[0mplots\u001b[0m\u001b[0;34m[\u001b[0m\u001b[0;36m0\u001b[0m\u001b[0;34m]\u001b[0m\u001b[0;34m)\u001b[0m\u001b[0;34m\u001b[0m\u001b[0;34m\u001b[0m\u001b[0m\n\u001b[0m\u001b[1;32m      2\u001b[0m \u001b[0mplot_from_run\u001b[0m\u001b[0;34m(\u001b[0m\u001b[0mplots\u001b[0m\u001b[0;34m[\u001b[0m\u001b[0;36m1\u001b[0m\u001b[0;34m]\u001b[0m\u001b[0;34m)\u001b[0m\u001b[0;34m\u001b[0m\u001b[0;34m\u001b[0m\u001b[0m\n\u001b[1;32m      3\u001b[0m \u001b[0mplot_from_run\u001b[0m\u001b[0;34m(\u001b[0m\u001b[0mplots\u001b[0m\u001b[0;34m[\u001b[0m\u001b[0;36m2\u001b[0m\u001b[0;34m]\u001b[0m\u001b[0;34m)\u001b[0m\u001b[0;34m\u001b[0m\u001b[0;34m\u001b[0m\u001b[0m\n\u001b[1;32m      4\u001b[0m \u001b[0mplot_from_run\u001b[0m\u001b[0;34m(\u001b[0m\u001b[0mplots\u001b[0m\u001b[0;34m[\u001b[0m\u001b[0;36m3\u001b[0m\u001b[0;34m]\u001b[0m\u001b[0;34m)\u001b[0m\u001b[0;34m\u001b[0m\u001b[0;34m\u001b[0m\u001b[0m\n",
            "\u001b[0;31mIndexError\u001b[0m: list index out of range"
          ]
        }
      ]
    },
    {
      "cell_type": "code",
      "source": [],
      "metadata": {
        "id": "y679FKeJuqBb"
      },
      "execution_count": 33,
      "outputs": []
    },
    {
      "cell_type": "code",
      "source": [],
      "metadata": {
        "id": "LT6jotAmsZmY"
      },
      "execution_count": null,
      "outputs": []
    },
    {
      "cell_type": "markdown",
      "source": [],
      "metadata": {
        "id": "b1-s7H4dr5hm"
      }
    }
  ]
}