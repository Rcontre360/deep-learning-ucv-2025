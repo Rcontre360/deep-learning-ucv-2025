{
  "cells": [
    {
      "cell_type": "markdown",
      "source": [
        "#Tarea 2: Arquitecturas modernas de Redes Neuronales profundas - CNN & UNETs\n",
        "----\n",
        "\n",
        "Estudiante: Rafael Contreras\n",
        "\n",
        "CI: 30391915"
      ],
      "metadata": {
        "id": "l83bqeqPWxy3"
      },
      "id": "l83bqeqPWxy3"
    },
    {
      "cell_type": "markdown",
      "source": [
        "## 1. Introduccion"
      ],
      "metadata": {
        "id": "O_9k22WlW8jz"
      },
      "id": "O_9k22WlW8jz"
    },
    {
      "cell_type": "markdown",
      "source": [
        "### Notebooks libro UDL\n",
        "\n",
        "\n",
        "Anexados notebooks del libro del libro UDL"
      ],
      "metadata": {
        "id": "nCkELJiuXmPt"
      },
      "id": "nCkELJiuXmPt"
    },
    {
      "cell_type": "markdown",
      "source": [
        "### Integrar la pregunta en la seccion Evaluacion\n",
        "\n",
        "Notebooks 7.2 y 7.3.\n",
        "Verifique que los resultados obtenidos son los mismos a los del notebook."
      ],
      "metadata": {
        "id": "IsihFNIeXr-L"
      },
      "id": "IsihFNIeXr-L"
    },
    {
      "cell_type": "markdown",
      "source": [
        "### Informe sobre preguntas practicas"
      ],
      "metadata": {
        "id": "4clnXopuYB4M"
      },
      "id": "4clnXopuYB4M"
    },
    {
      "cell_type": "markdown",
      "source": [
        "link al informe"
      ],
      "metadata": {
        "id": "VfBL-ZKNYRM2"
      },
      "id": "VfBL-ZKNYRM2"
    },
    {
      "cell_type": "markdown",
      "source": [
        "### Explicacion de notebooks"
      ],
      "metadata": {
        "id": "yJ2dL4ADBEzW"
      },
      "id": "yJ2dL4ADBEzW"
    },
    {
      "cell_type": "markdown",
      "source": [
        "#### [Notebook 10.1 - 1D convolution](https://github.com/Rcontre360/deep-learning-ucv-2025/blob/main/tarea2/notebooks/10_1_1D_Convolution.ipynb)\n",
        "\n"
      ],
      "metadata": {
        "id": "uMW_rSaEZQt7"
      },
      "id": "uMW_rSaEZQt7"
    },
    {
      "cell_type": "markdown",
      "source": [],
      "metadata": {
        "id": "Qzvc_1Ie0ILq"
      },
      "id": "Qzvc_1Ie0ILq"
    },
    {
      "cell_type": "markdown",
      "source": [
        "#### [Notebook 10.2 - Convolution for MNIST-1D](https://github.com/Rcontre360/deep-learning-ucv-2025/blob/main/tarea2/notebooks/10_2_Convolution_for_MNIST_1D.ipynb)\n"
      ],
      "metadata": {
        "id": "tJ0XFD-F15EG"
      },
      "id": "tJ0XFD-F15EG"
    },
    {
      "cell_type": "markdown",
      "source": [],
      "metadata": {
        "id": "9E8GrJ7L5VEi"
      },
      "id": "9E8GrJ7L5VEi"
    },
    {
      "cell_type": "markdown",
      "source": [
        "#### [Notebook 10.3 - 2D convolution](https://github.com/Rcontre360/deep-learning-ucv-2025/blob/main/tarea2/notebooks/10_3_2D_Convolution.ipynb)"
      ],
      "metadata": {
        "id": "qVXH3Jdv5Tq3"
      },
      "id": "qVXH3Jdv5Tq3"
    },
    {
      "cell_type": "markdown",
      "source": [],
      "metadata": {
        "id": "X3iROdFM5ZLM"
      },
      "id": "X3iROdFM5ZLM"
    },
    {
      "cell_type": "markdown",
      "source": [
        "#### [Notebook 10.4 - Downsampling & upsampling](https://github.com/Rcontre360/deep-learning-ucv-2025/blob/main/tarea2/notebooks/10_4_Downsampling_and_Upsampling.ipynb)"
      ],
      "metadata": {
        "id": "IDgDwJrG8ScD"
      },
      "id": "IDgDwJrG8ScD"
    },
    {
      "cell_type": "markdown",
      "source": [],
      "metadata": {
        "id": "O-2cGSNy8Yhg"
      },
      "id": "O-2cGSNy8Yhg"
    },
    {
      "cell_type": "markdown",
      "source": [
        "#### [Notebook 10.5 - Convolution for MNIST](https://github.com/Rcontre360/deep-learning-ucv-2025/blob/main/tarea2/notebooks/10_5_Convolution_For_MNIST.ipynb)"
      ],
      "metadata": {
        "id": "DSp_FP2m9Mdl"
      },
      "id": "DSp_FP2m9Mdl"
    },
    {
      "cell_type": "markdown",
      "source": [],
      "metadata": {
        "id": "hwk2A_B39STQ"
      },
      "id": "hwk2A_B39STQ"
    },
    {
      "cell_type": "markdown",
      "source": [
        "### 1. Experimento"
      ],
      "metadata": {
        "id": "N3JL7RV0A0Cy"
      },
      "id": "N3JL7RV0A0Cy"
    },
    {
      "cell_type": "markdown",
      "source": [],
      "metadata": {
        "id": "xkjhLj_dBQ4E"
      },
      "id": "xkjhLj_dBQ4E"
    },
    {
      "cell_type": "code",
      "source": [
        "import torch\n",
        "import torchvision\n",
        "import torch.nn as nn\n",
        "import torch.nn.functional as F\n",
        "import torch.optim as optim\n",
        "import matplotlib.pyplot as plt\n",
        "import random"
      ],
      "metadata": {
        "id": "AIjRu_ADGivn"
      },
      "id": "AIjRu_ADGivn",
      "execution_count": 231,
      "outputs": []
    },
    {
      "cell_type": "code",
      "source": [
        "import kagglehub\n",
        "\n",
        "# Download latest version\n",
        "path = kagglehub.dataset_download(\"martininf1n1ty/mnist100\")  + '/mnist_compressed.npz'\n",
        "print(path)"
      ],
      "metadata": {
        "colab": {
          "base_uri": "https://localhost:8080/"
        },
        "id": "4TlUTHXXGh32",
        "outputId": "266551b9-7f95-41cd-d107-bb40afb266bd"
      },
      "id": "4TlUTHXXGh32",
      "execution_count": 232,
      "outputs": [
        {
          "output_type": "stream",
          "name": "stdout",
          "text": [
            "/home/rafael/.cache/kagglehub/datasets/martininf1n1ty/mnist100/versions/1/mnist_compressed.npz\n"
          ]
        }
      ]
    },
    {
      "cell_type": "code",
      "source": [
        "img_size = 128\n",
        "\n",
        "class NPZTrainDataset(Dataset):\n",
        "    def __init__(self, npz_file, transform=None):\n",
        "        data = np.load(npz_file)\n",
        "\n",
        "        self.images = data['train_images']\n",
        "        self.labels = data['train_labels']\n",
        "        self.transform = transform or transforms.ToPILImage()\n",
        "\n",
        "    def __len__(self):\n",
        "        return len(self.images)\n",
        "\n",
        "    def __getitem__(self, idx):\n",
        "        image = self.images[idx]\n",
        "        label = self.labels[idx]\n",
        "\n",
        "        if len(image.shape) == 2:\n",
        "            image = np.stack([image] * 3, axis=-1)\n",
        "        image = self.transform(image)\n",
        "\n",
        "        return image, label"
      ],
      "metadata": {
        "id": "nBArzL-fHAJu"
      },
      "id": "nBArzL-fHAJu",
      "execution_count": 233,
      "outputs": []
    },
    {
      "cell_type": "code",
      "source": [
        "train_transforms = transforms.Compose([\n",
        "    transforms.ToPILImage(),\n",
        "    transforms.Grayscale(num_output_channels=1),\n",
        "    transforms.Resize((img_size, img_size)),\n",
        "    transforms.ToTensor(),\n",
        "])"
      ],
      "metadata": {
        "id": "ZzAPucEgHHuj"
      },
      "id": "ZzAPucEgHHuj",
      "execution_count": 234,
      "outputs": []
    },
    {
      "cell_type": "code",
      "source": [
        "dataset = NPZTrainDataset(path,train_transforms)\n",
        "\n",
        "dataset_size = len(dataset)\n",
        "train_size = int(0.8 * dataset_size)\n",
        "test_size = dataset_size - train_size\n",
        "\n",
        "train_dataset, test_dataset = torch.utils.data.random_split(dataset, [train_size, test_size])\n",
        "\n",
        "batch_size_train = 64\n",
        "batch_size_test = 1000\n",
        "\n",
        "train_loader = DataLoader(train_dataset, batch_size=batch_size_train, shuffle=True)\n",
        "test_loader = DataLoader(test_dataset, batch_size=batch_size_test, shuffle=True)"
      ],
      "metadata": {
        "id": "flzbA6e4HL78"
      },
      "id": "flzbA6e4HL78",
      "execution_count": 235,
      "outputs": []
    },
    {
      "cell_type": "code",
      "source": [
        "import matplotlib.pyplot as plt\n",
        "\n",
        "dataset = MNIST100Dataset(path)\n",
        "\n",
        "fig = plt.figure(figsize=(12, 4))\n",
        "for i in range(3):\n",
        "    plt.subplot(1, 3, i+1)\n",
        "    plt.tight_layout()\n",
        "\n",
        "    image, label = dataset[i]\n",
        "\n",
        "    if hasattr(image, 'numpy'):\n",
        "        image = image.numpy()\n",
        "\n",
        "    if len(image.shape) == 3:\n",
        "        if image.shape[0] == 3:\n",
        "            image = image.transpose(1, 2, 0)\n",
        "        if image.shape[2] == 3:\n",
        "            image = image.mean(axis=2)\n",
        "\n",
        "    plt.imshow(image, cmap='gray', interpolation='none')\n",
        "    plt.title(\"Label: {}\".format(label))\n",
        "    plt.xticks([])\n",
        "    plt.yticks([])\n",
        "\n",
        "plt.show()"
      ],
      "metadata": {
        "colab": {
          "base_uri": "https://localhost:8080/",
          "height": 232
        },
        "id": "rDtFN9-HHddQ",
        "outputId": "3c81c803-8d66-4d31-b3ab-4f73bf882708"
      },
      "id": "rDtFN9-HHddQ",
      "execution_count": 236,
      "outputs": [
        {
          "output_type": "display_data",
          "data": {
            "text/plain": [
              "<Figure size 1200x400 with 3 Axes>"
            ],
            "image/png": "[encoded data removed]"
          },
          "metadata": {}
        }
      ]
    },
    {
      "cell_type": "code",
      "source": [
        "# Main training routine\n",
        "def train(epoch,model,optimizer):\n",
        "  model.train()\n",
        "  # Get each\n",
        "  for batch_idx, (data, target) in enumerate(train_loader):\n",
        "    optimizer.zero_grad()\n",
        "    output = model(data)\n",
        "    loss = F.nll_loss(output, target)\n",
        "    loss.backward()\n",
        "    optimizer.step()\n",
        "    # Store results\n",
        "    if batch_idx % 10 == 0:\n",
        "      print('Train Epoch: {} [{}/{}]\\tLoss: {:.6f}'.format(\n",
        "        epoch, batch_idx * len(data), len(train_loader.dataset), loss.item()))\n",
        "\n",
        "# Run on test data\n",
        "def test(model):\n",
        "  model.eval()\n",
        "  test_loss = 0\n",
        "  correct = 0\n",
        "  with torch.no_grad():\n",
        "    for data, target in test_loader:\n",
        "      output = model(data)\n",
        "      test_loss += F.nll_loss(output, target, size_average=False).item()\n",
        "      pred = output.data.max(1, keepdim=True)[1]\n",
        "      correct += pred.eq(target.data.view_as(pred)).sum()\n",
        "  test_loss /= len(test_loader.dataset)\n",
        "  print('\\nTest set: Avg. loss: {:.4f}, Accuracy: {}/{} ({:.0f}%)\\n'.format(\n",
        "    test_loss, correct, len(test_loader.dataset),\n",
        "    100. * correct / len(test_loader.dataset)))"
      ],
      "metadata": {
        "id": "-017lIxfHipL"
      },
      "id": "-017lIxfHipL",
      "execution_count": 237,
      "outputs": []
    },
    {
      "cell_type": "code",
      "source": [
        "class MNIST100Model(nn.Module):\n",
        "    def __init__(self, img_width,img_height):\n",
        "        super(MNIST100Model, self).__init__()\n",
        "        self.net = nn.Sequential(\n",
        "          nn.Conv2d(1, 10, kernel_size=5),\n",
        "          nn.MaxPool2d(kernel_size=2, stride=2),\n",
        "          #nn.ReLU(),\n",
        "          #nn.Conv2d(10, 20, kernel_size=5),\n",
        "          #nn.MaxPool2d(kernel_size=2, stride=2),\n",
        "          nn.ReLU(),\n",
        "          nn.Flatten(),\n",
        "          #nn.Linear(16820,50),\n",
        "          nn.Linear(38440,50),\n",
        "          nn.ReLU(),\n",
        "          nn.Linear(50,100),\n",
        "          nn.LogSoftmax(dim=1)\n",
        "        )\n",
        "\n",
        "    def forward(self, x):\n",
        "        return self.net(x)"
      ],
      "metadata": {
        "id": "p6VlgJb5Jjqn"
      },
      "id": "p6VlgJb5Jjqn",
      "execution_count": 258,
      "outputs": []
    },
    {
      "cell_type": "code",
      "source": [
        "model = MNIST100Model(img_size,img_size)\n",
        "optimizer = optim.SGD(model.parameters(), lr=0.01, momentum=0.5)"
      ],
      "metadata": {
        "id": "I7HHU0aOHtwZ"
      },
      "id": "I7HHU0aOHtwZ",
      "execution_count": 259,
      "outputs": []
    },
    {
      "cell_type": "code",
      "source": [
        "n_epochs = 1\n",
        "for epoch in range(1, n_epochs + 1):\n",
        "  train(epoch,model,optimizer)\n",
        "  test(model)"
      ],
      "metadata": {
        "colab": {
          "base_uri": "https://localhost:8080/"
        },
        "id": "SVqTMBjQHn7W",
        "outputId": "c76900a0-78a9-4910-bb35-7af75a6d840b"
      },
      "id": "SVqTMBjQHn7W",
      "execution_count": 261,
      "outputs": [
        {
          "output_type": "stream",
          "name": "stdout",
          "text": [
            "Train Epoch: 1 [0/48000]\tLoss: 4.457054\n",
            "Train Epoch: 1 [640/48000]\tLoss: 4.193460\n",
            "Train Epoch: 1 [1280/48000]\tLoss: 4.223724\n",
            "Train Epoch: 1 [1920/48000]\tLoss: 3.952425\n",
            "Train Epoch: 1 [2560/48000]\tLoss: 3.747913\n",
            "Train Epoch: 1 [3200/48000]\tLoss: 3.618632\n",
            "Train Epoch: 1 [3840/48000]\tLoss: 3.640051\n",
            "Train Epoch: 1 [4480/48000]\tLoss: 3.208614\n",
            "Train Epoch: 1 [5120/48000]\tLoss: 3.067148\n",
            "Train Epoch: 1 [5760/48000]\tLoss: 2.918452\n",
            "Train Epoch: 1 [6400/48000]\tLoss: 2.614570\n",
            "Train Epoch: 1 [7040/48000]\tLoss: 2.475577\n",
            "Train Epoch: 1 [7680/48000]\tLoss: 2.057777\n",
            "Train Epoch: 1 [8320/48000]\tLoss: 2.267986\n",
            "Train Epoch: 1 [8960/48000]\tLoss: 1.907769\n",
            "Train Epoch: 1 [9600/48000]\tLoss: 1.793280\n",
            "Train Epoch: 1 [10240/48000]\tLoss: 2.211762\n",
            "Train Epoch: 1 [10880/48000]\tLoss: 1.809850\n",
            "Train Epoch: 1 [11520/48000]\tLoss: 1.682117\n",
            "Train Epoch: 1 [12160/48000]\tLoss: 1.724403\n",
            "Train Epoch: 1 [12800/48000]\tLoss: 1.777557\n",
            "Train Epoch: 1 [13440/48000]\tLoss: 1.744638\n",
            "Train Epoch: 1 [14080/48000]\tLoss: 1.801176\n",
            "Train Epoch: 1 [14720/48000]\tLoss: 1.303235\n",
            "Train Epoch: 1 [15360/48000]\tLoss: 1.367993\n",
            "Train Epoch: 1 [16000/48000]\tLoss: 1.279661\n",
            "Train Epoch: 1 [16640/48000]\tLoss: 1.103058\n",
            "Train Epoch: 1 [17280/48000]\tLoss: 1.390996\n",
            "Train Epoch: 1 [17920/48000]\tLoss: 1.268529\n",
            "Train Epoch: 1 [18560/48000]\tLoss: 1.004302\n",
            "Train Epoch: 1 [19200/48000]\tLoss: 1.310478\n",
            "Train Epoch: 1 [19840/48000]\tLoss: 1.316414\n",
            "Train Epoch: 1 [20480/48000]\tLoss: 1.213889\n",
            "Train Epoch: 1 [21120/48000]\tLoss: 0.891024\n",
            "Train Epoch: 1 [21760/48000]\tLoss: 1.446826\n",
            "Train Epoch: 1 [22400/48000]\tLoss: 1.217383\n",
            "Train Epoch: 1 [23040/48000]\tLoss: 1.249459\n",
            "Train Epoch: 1 [23680/48000]\tLoss: 0.820550\n",
            "Train Epoch: 1 [24320/48000]\tLoss: 1.167933\n",
            "Train Epoch: 1 [24960/48000]\tLoss: 1.032641\n",
            "Train Epoch: 1 [25600/48000]\tLoss: 1.222841\n",
            "Train Epoch: 1 [26240/48000]\tLoss: 0.982877\n",
            "Train Epoch: 1 [26880/48000]\tLoss: 1.320022\n",
            "Train Epoch: 1 [27520/48000]\tLoss: 1.221463\n",
            "Train Epoch: 1 [28160/48000]\tLoss: 1.149748\n",
            "Train Epoch: 1 [28800/48000]\tLoss: 1.281420\n",
            "Train Epoch: 1 [29440/48000]\tLoss: 1.134127\n",
            "Train Epoch: 1 [30080/48000]\tLoss: 0.716821\n",
            "Train Epoch: 1 [30720/48000]\tLoss: 0.844585\n",
            "Train Epoch: 1 [31360/48000]\tLoss: 0.857816\n",
            "Train Epoch: 1 [32000/48000]\tLoss: 1.104364\n",
            "Train Epoch: 1 [32640/48000]\tLoss: 1.212076\n",
            "Train Epoch: 1 [33280/48000]\tLoss: 1.220582\n",
            "Train Epoch: 1 [33920/48000]\tLoss: 1.074579\n",
            "Train Epoch: 1 [34560/48000]\tLoss: 1.390704\n",
            "Train Epoch: 1 [35200/48000]\tLoss: 0.518212\n",
            "Train Epoch: 1 [35840/48000]\tLoss: 1.031525\n",
            "Train Epoch: 1 [36480/48000]\tLoss: 1.124866\n",
            "Train Epoch: 1 [37120/48000]\tLoss: 1.040077\n",
            "Train Epoch: 1 [37760/48000]\tLoss: 1.308330\n",
            "Train Epoch: 1 [38400/48000]\tLoss: 0.940096\n",
            "Train Epoch: 1 [39040/48000]\tLoss: 1.000961\n",
            "Train Epoch: 1 [39680/48000]\tLoss: 1.115437\n",
            "Train Epoch: 1 [40320/48000]\tLoss: 0.895929\n",
            "Train Epoch: 1 [40960/48000]\tLoss: 1.090773\n",
            "Train Epoch: 1 [41600/48000]\tLoss: 0.821351\n",
            "Train Epoch: 1 [42240/48000]\tLoss: 0.658329\n",
            "Train Epoch: 1 [42880/48000]\tLoss: 0.774490\n",
            "Train Epoch: 1 [43520/48000]\tLoss: 1.267783\n",
            "Train Epoch: 1 [44160/48000]\tLoss: 0.760947\n",
            "Train Epoch: 1 [44800/48000]\tLoss: 0.676289\n",
            "Train Epoch: 1 [45440/48000]\tLoss: 0.751675\n",
            "Train Epoch: 1 [46080/48000]\tLoss: 0.900176\n",
            "Train Epoch: 1 [46720/48000]\tLoss: 0.746551\n",
            "Train Epoch: 1 [47360/48000]\tLoss: 0.824377\n",
            "SHAPE torch.Size([1000, 1, 128, 128])\n",
            "SHAPE torch.Size([1000, 1, 128, 128])\n",
            "SHAPE torch.Size([1000, 1, 128, 128])\n",
            "SHAPE torch.Size([1000, 1, 128, 128])\n",
            "SHAPE torch.Size([1000, 1, 128, 128])\n",
            "SHAPE torch.Size([1000, 1, 128, 128])\n",
            "SHAPE torch.Size([1000, 1, 128, 128])\n",
            "SHAPE torch.Size([1000, 1, 128, 128])\n",
            "SHAPE torch.Size([1000, 1, 128, 128])\n",
            "SHAPE torch.Size([1000, 1, 128, 128])\n",
            "SHAPE torch.Size([1000, 1, 128, 128])\n",
            "SHAPE torch.Size([1000, 1, 128, 128])\n",
            "\n",
            "Test set: Avg. loss: 0.8534, Accuracy: 8994/12000 (75%)\n",
            "\n"
          ]
        }
      ]
    },
    {
      "cell_type": "code",
      "source": [
        "# Run network on data we got before and show predictions\n",
        "\n",
        "examples = enumerate(test_loader)\n",
        "batch_idx, (example_data, example_targets) = next(examples)\n",
        "output = model(example_data)\n",
        "\n",
        "fig = plt.figure()\n",
        "for i in range(10):\n",
        "  plt.subplot(5,5,i+1)\n",
        "  plt.tight_layout()\n",
        "  plt.imshow(example_data[i][0], cmap='gray', interpolation='none')\n",
        "  plt.title(\"Prediction: {}\".format(\n",
        "    output.data.max(1, keepdim=True)[1][i].item()))\n",
        "  plt.xticks([])\n",
        "  plt.yticks([])\n",
        "plt.show()"
      ],
      "metadata": {
        "colab": {
          "base_uri": "https://localhost:8080/",
          "height": 207
        },
        "id": "dMjtOs91LQ3u",
        "outputId": "8efa4171-602f-418b-8dc7-340420d2ea9e"
      },
      "id": "dMjtOs91LQ3u",
      "execution_count": 262,
      "outputs": [
        {
          "output_type": "display_data",
          "data": {
            "text/plain": [
              "<Figure size 640x480 with 10 Axes>"
            ],
            "image/png": "[encoded data removed]"
          },
          "metadata": {}
        }
      ]
    },
    {
      "cell_type": "markdown",
      "source": [
        "## Evaluacion"
      ],
      "metadata": {
        "id": "wNnkca2vZbkw"
      },
      "id": "wNnkca2vZbkw"
    },
    {
      "cell_type": "markdown",
      "source": [
        "### III-A. CNN"
      ],
      "metadata": {
        "id": "18lfpQWOElHe"
      },
      "id": "18lfpQWOElHe"
    },
    {
      "cell_type": "markdown",
      "source": [
        "#### 1. Considere la siguiente matriz de entrada $X$:\n"
      ],
      "metadata": {
        "id": "WkEx42pMFkFJ"
      },
      "id": "WkEx42pMFkFJ"
    },
    {
      "cell_type": "markdown",
      "source": [
        "$$\n",
        "X = \\begin{bmatrix}\n",
        "2 & 5 & 4 & 1 \\\\\n",
        "3 & 1 & 2 & 0 \\\\\n",
        "4 & 5 & 7 & 1 \\\\\n",
        "1 & 2 & 3 & 4\n",
        "\\end{bmatrix}\n",
        "$$"
      ],
      "metadata": {
        "id": "mVXLoiGHCSvp"
      },
      "id": "mVXLoiGHCSvp"
    },
    {
      "cell_type": "markdown",
      "source": [
        "\n",
        "##### a) Calcule la salida de una convolución con un kernel $K$ de dimensión $2 \\times 2$, sin *padding* y con un *stride* de 2.\n"
      ],
      "metadata": {
        "id": "SYiHmFrVFJh5"
      },
      "id": "SYiHmFrVFJh5"
    },
    {
      "cell_type": "markdown",
      "source": [
        "\n",
        "$$\n",
        "K = \\begin{bmatrix}\n",
        "1 & 0 \\\\\n",
        "0 & 1\n",
        "\\end{bmatrix}\n",
        "$$"
      ],
      "metadata": {
        "id": "SBDtmZCAFOcT"
      },
      "id": "SBDtmZCAFOcT"
    },
    {
      "cell_type": "markdown",
      "source": [
        "RESPUESTA:\n",
        "\n",
        "$$\n",
        "\\begin{align*}\n",
        "res_{0,0} &= 2 * 1 + 5 * 0 + 3 * 0 + 1 * 1 = 3\n",
        "\\\\\n",
        "res_{0,1} &= 4 * 1 + 1 * 0 + 2 * 0 + 0 * 1 = 4\n",
        "\\\\\n",
        "res_{1,0} &= 4 * 1 + 5 * 0 + 1 * 0 + 2 * 1 = 6\n",
        "\\\\\n",
        "res_{1,1} &= 7 * 1 + 1 * 0 + 3 * 0 + 4 * 1 = 11\n",
        "\\\\\n",
        "\\end{align*}\n",
        "\\\\\\\\\n",
        "Res = \\begin{bmatrix}\n",
        "3 & 4 \\\\\n",
        "6 & 11\n",
        "\\end{bmatrix}\n",
        "$$"
      ],
      "metadata": {
        "id": "fZ8C4Y2nFQIi"
      },
      "id": "fZ8C4Y2nFQIi"
    },
    {
      "cell_type": "markdown",
      "source": [
        "##### b) Calcule la salida de una convolución con un kernel $K$ de dimensión $2 \\times 2$, con *padding* de 2 y con un *stride* de 2.\n"
      ],
      "metadata": {
        "id": "3aoU9jVuFS1g"
      },
      "id": "3aoU9jVuFS1g"
    },
    {
      "cell_type": "markdown",
      "source": [
        "$$\n",
        "K = \\begin{bmatrix}\n",
        "1 & 0 \\\\\n",
        "0 & -1\n",
        "\\end{bmatrix}\n",
        "$$"
      ],
      "metadata": {
        "id": "EHSFp06VFWYd"
      },
      "id": "EHSFp06VFWYd"
    },
    {
      "cell_type": "markdown",
      "source": [
        "Con un padding de 2 la matriz a la que le realizariamos la convolucion seria:\n",
        "\n",
        "$$\n",
        "X = \\begin{bmatrix}\n",
        "0 & 0 & 0 & 0 & 0 & 0 & 0 & 0 \\\\\n",
        "0 & 0 & 0 & 0 & 0 & 0 & 0 & 0 \\\\\n",
        "0 & 0 & 2 & 5 & 4 & 1 & 0 & 0 \\\\\n",
        "0 & 0 & 3 & 1 & 2 & 0 & 0 & 0 \\\\\n",
        "0 & 0 & 4 & 5 & 7 & 1 & 0 & 0 \\\\\n",
        "0 & 0 & 1 & 2 & 3 & 4 & 0 & 0 \\\\\n",
        "0 & 0 & 0 & 0 & 0 & 0 & 0 & 0 \\\\\n",
        "0 & 0 & 0 & 0 & 0 & 0 & 0 & 0\n",
        "\\end{bmatrix}\n",
        "$$"
      ],
      "metadata": {
        "id": "QeP-Pl9AKyXb"
      },
      "id": "QeP-Pl9AKyXb"
    },
    {
      "cell_type": "markdown",
      "source": [
        "$$\n",
        "\\begin{align*}\n",
        "\\begin{array}{ll}\n",
        "res_{0,0} &= 0 * 1 + 0 * 0 + 0 * 0 + 0 * (-1) = 0 &\n",
        "res_{0,1} &= 0 * 1 + 0 * 0 + 0 * 0 + 0 * (-1) = 0 \\\\\n",
        "res_{0,2} &= 0 * 1 + 0 * 0 + 0 * 0 + 0 * (-1) = 0 &\n",
        "res_{0,3} &= 0 * 1 + 0 * 0 + 0 * 0 + 0 * (-1) = 0 \\\\\n",
        "res_{1,0} &= 0 * 1 + 0 * 0 + 0 * 0 + 0 * (-1) = 0 &\n",
        "res_{1,1} &= 2 * 1 + 5 * 0 + 3 * 0 + 1 * (-1) = 1 \\\\\n",
        "res_{1,2} &= 4 * 1 + 1 * 0 + 2 * 0 + 0 * (-1) = 4 &\n",
        "res_{1,3} &= 0 * 1 + 0 * 0 + 0 * 0 + 0 * (-1) = 0 \\\\\n",
        "res_{2,0} &= 0 * 1 + 0 * 0 + 0 * 0 + 0 * (-1) = 0 &\n",
        "res_{2,1} &= 4 * 1 + 5 * 0 + 1 * 0 + 2 * (-1) = 2 \\\\\n",
        "res_{2,2} &= 7 * 1 + 1 * 0 + 3 * 0 + 4 * (-1) = 3 &\n",
        "res_{2,3} &= 0 * 1 + 0 * 0 + 0 * 0 + 0 * (-1) = 0 \\\\\n",
        "res_{3,0} &= 0 * 1 + 0 * 0 + 0 * 0 + 0 * (-1) = 0 &\n",
        "res_{3,1} &= 0 * 1 + 0 * 0 + 0 * 0 + 0 * (-1) = 0 \\\\\n",
        "res_{3,2} &= 0 * 1 + 0 * 0 + 0 * 0 + 0 * (-1) = 0 &\n",
        "res_{3,3} &= 0 * 1 + 0 * 0 + 0 * 0 + 0 * (-1) = 0\n",
        "\\end{array}\n",
        "\\end{align*}\n",
        "$$\n",
        "\n",
        "$$\n",
        "\\text{Res} = \\begin{bmatrix}\n",
        "0 & 0 & 0 & 0 \\\\\n",
        "0 & 1 & 4 & 0 \\\\\n",
        "0 & 2 & 3 & 0 \\\\\n",
        "0 & 0 & 0 & 0\n",
        "\\end{bmatrix}\n",
        "$$"
      ],
      "metadata": {
        "id": "hscst8AwKLwN"
      },
      "id": "hscst8AwKLwN"
    },
    {
      "cell_type": "markdown",
      "source": [
        "#### 2. ¿Cómo podemos determinar la dimensión de salida luego de aplicar la función de convolución?\n"
      ],
      "metadata": {
        "id": "vvEmbXWaFa__"
      },
      "id": "vvEmbXWaFa__"
    },
    {
      "cell_type": "markdown",
      "source": [
        "Esto dependera del kernel size, el padding, el stride y el dilation. El kernel size y el padding determinan cuantos \"cuadrantes\" tenemos disponibles para el calculo. Con cuadrante me refiero a la region que se operara con el kernel para obtener un elemento de la matriz resultante.\n",
        "\n",
        "Aumentar el padding incrementa la cantidad de cuadrantes que podemos usar. Aumentar el stride, kernel size o dilation reduce la cantidad de cuadrantes.\n",
        "\n",
        "Entonces la dimension final vendria dada (en filas y columnas) por:\n",
        "\n",
        "[Referencia](https://stackoverflow.com/questions/53580088/calculate-the-output-size-in-convolution-layer)\n",
        "\n",
        "$$\n",
        "[(matrix\\_size−kernel\\_size+2*padding)/stride]+1\n",
        "$$"
      ],
      "metadata": {
        "id": "2iC7KwzEFwab"
      },
      "id": "2iC7KwzEFwab"
    },
    {
      "cell_type": "markdown",
      "source": [
        "#### 3. ¿Qué beneficios tiene el uso de Redes Neuronales Convolucionales (CNNs) sobre las redes completamente conectadas?\n"
      ],
      "metadata": {
        "id": "0B7XX93KFwk8"
      },
      "id": "0B7XX93KFwk8"
    },
    {
      "cell_type": "markdown",
      "source": [
        "1 - Se realizan menos operaciones. \\\\\n",
        "2 - Mantienen el contexto del valor de cada pixel. Ya que la operacion de convolucion usa los vecinos de un pixel y no todos los valores de la imagen."
      ],
      "metadata": {
        "id": "yIYnItg0F0SG"
      },
      "id": "yIYnItg0F0SG"
    },
    {
      "cell_type": "markdown",
      "source": [
        "### III-B. CNN Segmentation"
      ],
      "metadata": {
        "id": "h25oK9y5qKkA"
      },
      "id": "h25oK9y5qKkA"
    },
    {
      "cell_type": "markdown",
      "source": [
        "NOTA: explicar el articulo agregado de segmentacion (redes segmentadas). Explicar metricas para evaluar segmentacion de imagenes\n",
        "?colocar 2 graficas mas que sean utiles?\n",
        "mejorar las metricas dice e iou"
      ],
      "metadata": {
        "id": "I52VQHPTqTXA"
      },
      "id": "I52VQHPTqTXA"
    },
    {
      "cell_type": "code",
      "source": [],
      "metadata": {
        "id": "1Ps4EypUFIOk"
      },
      "id": "1Ps4EypUFIOk",
      "execution_count": null,
      "outputs": []
    }
  ],
  "metadata": {
    "kernelspec": {
      "display_name": "Python 3 (ipykernel)",
      "language": "python",
      "name": "python3"
    },
    "language_info": {
      "codemirror_mode": {
        "name": "ipython",
        "version": 3
      },
      "file_extension": ".py",
      "mimetype": "text/x-python",
      "name": "python",
      "nbconvert_exporter": "python",
      "pygments_lexer": "ipython3",
      "version": "3.12.3"
    },
    "colab": {
      "provenance": []
    }
  },
  "nbformat": 4,
  "nbformat_minor": 5
}