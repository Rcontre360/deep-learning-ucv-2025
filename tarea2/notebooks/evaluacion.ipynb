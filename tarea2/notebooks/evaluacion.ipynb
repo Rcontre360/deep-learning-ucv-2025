{
  "cells": [
    {
      "cell_type": "markdown",
      "source": [
        "#Tarea 2: Arquitecturas modernas de Redes Neuronales profundas - CNN & UNETs\n",
        "----\n",
        "\n",
        "Estudiante: Rafael Contreras\n",
        "\n",
        "CI: 30391915"
      ],
      "metadata": {
        "id": "l83bqeqPWxy3"
      },
      "id": "l83bqeqPWxy3"
    },
    {
      "cell_type": "markdown",
      "source": [
        "## 1. Introduccion"
      ],
      "metadata": {
        "id": "O_9k22WlW8jz"
      },
      "id": "O_9k22WlW8jz"
    },
    {
      "cell_type": "markdown",
      "source": [
        "### Notebooks libro UDL\n",
        "\n",
        "\n",
        "Anexados notebooks del libro del libro UDL"
      ],
      "metadata": {
        "id": "nCkELJiuXmPt"
      },
      "id": "nCkELJiuXmPt"
    },
    {
      "cell_type": "markdown",
      "source": [
        "### Integrar la pregunta en la seccion Evaluacion\n",
        "\n",
        "Notebooks 7.2 y 7.3.\n",
        "Verifique que los resultados obtenidos son los mismos a los del notebook."
      ],
      "metadata": {
        "id": "IsihFNIeXr-L"
      },
      "id": "IsihFNIeXr-L"
    },
    {
      "cell_type": "markdown",
      "source": [
        "### Informe sobre preguntas practicas"
      ],
      "metadata": {
        "id": "4clnXopuYB4M"
      },
      "id": "4clnXopuYB4M"
    },
    {
      "cell_type": "markdown",
      "source": [
        "link al informe"
      ],
      "metadata": {
        "id": "VfBL-ZKNYRM2"
      },
      "id": "VfBL-ZKNYRM2"
    },
    {
      "cell_type": "markdown",
      "source": [
        "### Explicacion de notebooks"
      ],
      "metadata": {
        "id": "yJ2dL4ADBEzW"
      },
      "id": "yJ2dL4ADBEzW"
    },
    {
      "cell_type": "markdown",
      "source": [
        "#### [Notebook 10.1 - 1D convolution](https://github.com/Rcontre360/deep-learning-ucv-2025/blob/main/tarea2/notebooks/10_1_1D_Convolution.ipynb)\n",
        "\n"
      ],
      "metadata": {
        "id": "uMW_rSaEZQt7"
      },
      "id": "uMW_rSaEZQt7"
    },
    {
      "cell_type": "markdown",
      "source": [],
      "metadata": {
        "id": "Qzvc_1Ie0ILq"
      },
      "id": "Qzvc_1Ie0ILq"
    },
    {
      "cell_type": "markdown",
      "source": [
        "#### [Notebook 10.2 - Convolution for MNIST-1D](https://github.com/Rcontre360/deep-learning-ucv-2025/blob/main/tarea2/notebooks/10_2_Convolution_for_MNIST_1D.ipynb)\n"
      ],
      "metadata": {
        "id": "tJ0XFD-F15EG"
      },
      "id": "tJ0XFD-F15EG"
    },
    {
      "cell_type": "markdown",
      "source": [],
      "metadata": {
        "id": "9E8GrJ7L5VEi"
      },
      "id": "9E8GrJ7L5VEi"
    },
    {
      "cell_type": "markdown",
      "source": [
        "#### [Notebook 10.3 - 2D convolution](https://github.com/Rcontre360/deep-learning-ucv-2025/blob/main/tarea2/notebooks/10_3_2D_Convolution.ipynb)"
      ],
      "metadata": {
        "id": "qVXH3Jdv5Tq3"
      },
      "id": "qVXH3Jdv5Tq3"
    },
    {
      "cell_type": "markdown",
      "source": [],
      "metadata": {
        "id": "X3iROdFM5ZLM"
      },
      "id": "X3iROdFM5ZLM"
    },
    {
      "cell_type": "markdown",
      "source": [
        "#### [Notebook 10.4 - Downsampling & upsampling](https://github.com/Rcontre360/deep-learning-ucv-2025/blob/main/tarea2/notebooks/10_4_Downsampling_and_Upsampling.ipynb)"
      ],
      "metadata": {
        "id": "IDgDwJrG8ScD"
      },
      "id": "IDgDwJrG8ScD"
    },
    {
      "cell_type": "markdown",
      "source": [],
      "metadata": {
        "id": "O-2cGSNy8Yhg"
      },
      "id": "O-2cGSNy8Yhg"
    },
    {
      "cell_type": "markdown",
      "source": [
        "#### [Notebook 10.5 - Convolution for MNIST](https://github.com/Rcontre360/deep-learning-ucv-2025/blob/main/tarea2/notebooks/10_5_Convolution_For_MNIST.ipynb)"
      ],
      "metadata": {
        "id": "DSp_FP2m9Mdl"
      },
      "id": "DSp_FP2m9Mdl"
    },
    {
      "cell_type": "markdown",
      "source": [],
      "metadata": {
        "id": "hwk2A_B39STQ"
      },
      "id": "hwk2A_B39STQ"
    },
    {
      "cell_type": "markdown",
      "source": [
        "### 1. Experimento"
      ],
      "metadata": {
        "id": "N3JL7RV0A0Cy"
      },
      "id": "N3JL7RV0A0Cy"
    },
    {
      "cell_type": "markdown",
      "source": [],
      "metadata": {
        "id": "xkjhLj_dBQ4E"
      },
      "id": "xkjhLj_dBQ4E"
    },
    {
      "cell_type": "code",
      "source": [
        "import torch\n",
        "import torchvision\n",
        "import torch.nn as nn\n",
        "import torch.nn.functional as F\n",
        "import torch.optim as optim\n",
        "import matplotlib.pyplot as plt\n",
        "import random"
      ],
      "metadata": {
        "id": "AIjRu_ADGivn"
      },
      "id": "AIjRu_ADGivn",
      "execution_count": 231,
      "outputs": []
    },
    {
      "cell_type": "code",
      "source": [
        "import kagglehub\n",
        "\n",
        "# Download latest version\n",
        "path = kagglehub.dataset_download(\"martininf1n1ty/mnist100\")  + '/mnist_compressed.npz'\n",
        "print(path)"
      ],
      "metadata": {
        "colab": {
          "base_uri": "https://localhost:8080/"
        },
        "id": "4TlUTHXXGh32",
        "outputId": "266551b9-7f95-41cd-d107-bb40afb266bd"
      },
      "id": "4TlUTHXXGh32",
      "execution_count": 232,
      "outputs": [
        {
          "output_type": "stream",
          "name": "stdout",
          "text": [
            "/home/rafael/.cache/kagglehub/datasets/martininf1n1ty/mnist100/versions/1/mnist_compressed.npz\n"
          ]
        }
      ]
    },
    {
      "cell_type": "code",
      "source": [
        "img_size = 128\n",
        "\n",
        "class NPZTrainDataset(Dataset):\n",
        "    def __init__(self, npz_file, transform=None):\n",
        "        data = np.load(npz_file)\n",
        "\n",
        "        self.images = data['train_images']\n",
        "        self.labels = data['train_labels']\n",
        "        self.transform = transform or transforms.ToPILImage()\n",
        "\n",
        "    def __len__(self):\n",
        "        return len(self.images)\n",
        "\n",
        "    def __getitem__(self, idx):\n",
        "        image = self.images[idx]\n",
        "        label = self.labels[idx]\n",
        "\n",
        "        if len(image.shape) == 2:\n",
        "            image = np.stack([image] * 3, axis=-1)\n",
        "        image = self.transform(image)\n",
        "\n",
        "        return image, label"
      ],
      "metadata": {
        "id": "nBArzL-fHAJu"
      },
      "id": "nBArzL-fHAJu",
      "execution_count": 233,
      "outputs": []
    },
    {
      "cell_type": "code",
      "source": [
        "train_transforms = transforms.Compose([\n",
        "    transforms.ToPILImage(),\n",
        "    transforms.Grayscale(num_output_channels=1),\n",
        "    transforms.Resize((img_size, img_size)),\n",
        "    transforms.ToTensor(),\n",
        "])"
      ],
      "metadata": {
        "id": "ZzAPucEgHHuj"
      },
      "id": "ZzAPucEgHHuj",
      "execution_count": 234,
      "outputs": []
    },
    {
      "cell_type": "code",
      "source": [
        "dataset = NPZTrainDataset(path,train_transforms)\n",
        "\n",
        "dataset_size = len(dataset)\n",
        "train_size = int(0.8 * dataset_size)\n",
        "test_size = dataset_size - train_size\n",
        "\n",
        "train_dataset, test_dataset = torch.utils.data.random_split(dataset, [train_size, test_size])\n",
        "\n",
        "batch_size_train = 64\n",
        "batch_size_test = 1000\n",
        "\n",
        "train_loader = DataLoader(train_dataset, batch_size=batch_size_train, shuffle=True)\n",
        "test_loader = DataLoader(test_dataset, batch_size=batch_size_test, shuffle=True)"
      ],
      "metadata": {
        "id": "flzbA6e4HL78"
      },
      "id": "flzbA6e4HL78",
      "execution_count": 235,
      "outputs": []
    },
    {
      "cell_type": "code",
      "source": [
        "import matplotlib.pyplot as plt\n",
        "\n",
        "dataset = MNIST100Dataset(path)\n",
        "\n",
        "fig = plt.figure(figsize=(12, 4))\n",
        "for i in range(3):\n",
        "    plt.subplot(1, 3, i+1)\n",
        "    plt.tight_layout()\n",
        "\n",
        "    image, label = dataset[i]\n",
        "\n",
        "    if hasattr(image, 'numpy'):\n",
        "        image = image.numpy()\n",
        "\n",
        "    if len(image.shape) == 3:\n",
        "        if image.shape[0] == 3:\n",
        "            image = image.transpose(1, 2, 0)\n",
        "        if image.shape[2] == 3:\n",
        "            image = image.mean(axis=2)\n",
        "\n",
        "    plt.imshow(image, cmap='gray', interpolation='none')\n",
        "    plt.title(\"Label: {}\".format(label))\n",
        "    plt.xticks([])\n",
        "    plt.yticks([])\n",
        "\n",
        "plt.show()"
      ],
      "metadata": {
        "colab": {
          "base_uri": "https://localhost:8080/",
          "height": 232
        },
        "id": "rDtFN9-HHddQ",
        "outputId": "3c81c803-8d66-4d31-b3ab-4f73bf882708"
      },
      "id": "rDtFN9-HHddQ",
      "execution_count": 236,
      "outputs": [
        {
          "output_type": "display_data",
          "data": {
            "text/plain": [
              "<Figure size 1200x400 with 3 Axes>"
            ],
            "image/png": "[encoded data removed]"
          },
          "metadata": {}
        }
      ]
    },
    {
      "cell_type": "code",
      "source": [
        "# Main training routine\n",
        "def train(epoch,model,optimizer):\n",
        "  model.train()\n",
        "  # Get each\n",
        "  for batch_idx, (data, target) in enumerate(train_loader):\n",
        "    optimizer.zero_grad()\n",
        "    output = model(data)\n",
        "    loss = F.nll_loss(output, target)\n",
        "    loss.backward()\n",
        "    optimizer.step()\n",
        "    # Store results\n",
        "    if batch_idx % 10 == 0:\n",
        "      print('Train Epoch: {} [{}/{}]\\tLoss: {:.6f}'.format(\n",
        "        epoch, batch_idx * len(data), len(train_loader.dataset), loss.item()))\n",
        "\n",
        "# Run on test data\n",
        "def test(model):\n",
        "  model.eval()\n",
        "  test_loss = 0\n",
        "  correct = 0\n",
        "  with torch.no_grad():\n",
        "    for data, target in test_loader:\n",
        "      print(\"SHAPE\",data.shape)\n",
        "      output = model(data)\n",
        "      test_loss += F.nll_loss(output, target, size_average=False).item()\n",
        "      pred = output.data.max(1, keepdim=True)[1]\n",
        "      correct += pred.eq(target.data.view_as(pred)).sum()\n",
        "  test_loss /= len(test_loader.dataset)\n",
        "  print('\\nTest set: Avg. loss: {:.4f}, Accuracy: {}/{} ({:.0f}%)\\n'.format(\n",
        "    test_loss, correct, len(test_loader.dataset),\n",
        "    100. * correct / len(test_loader.dataset)))"
      ],
      "metadata": {
        "id": "-017lIxfHipL"
      },
      "id": "-017lIxfHipL",
      "execution_count": 237,
      "outputs": []
    },
    {
      "cell_type": "code",
      "source": [
        "class MNIST100Model(nn.Module):\n",
        "    def __init__(self, img_width,img_height):\n",
        "        super(MNIST100Model, self).__init__()\n",
        "        self.net = nn.Sequential(\n",
        "          nn.Conv2d(1, 10, kernel_size=5),\n",
        "          nn.MaxPool2d(kernel_size=2, stride=2),\n",
        "          nn.ReLU(),\n",
        "          nn.Conv2d(10, 20, kernel_size=5),\n",
        "          nn.MaxPool2d(kernel_size=2, stride=2),\n",
        "          nn.ReLU(),\n",
        "          nn.Flatten(),\n",
        "          nn.Linear(16820,50),\n",
        "          nn.ReLU(),\n",
        "          nn.Linear(50,100),\n",
        "          nn.LogSoftmax(dim=1)\n",
        "        )\n",
        "\n",
        "    def forward(self, x):\n",
        "        return self.net(x)"
      ],
      "metadata": {
        "id": "p6VlgJb5Jjqn"
      },
      "id": "p6VlgJb5Jjqn",
      "execution_count": 245,
      "outputs": []
    },
    {
      "cell_type": "code",
      "source": [
        "model = MNIST100Model(img_size,img_size)\n",
        "optimizer = optim.SGD(model.parameters(), lr=0.01, momentum=0.5)"
      ],
      "metadata": {
        "id": "I7HHU0aOHtwZ"
      },
      "id": "I7HHU0aOHtwZ",
      "execution_count": 246,
      "outputs": []
    },
    {
      "cell_type": "code",
      "source": [
        "\n",
        "n_epochs = 10\n",
        "for epoch in range(1, n_epochs + 1):\n",
        "  train(epoch,model,optimizer)\n",
        "  test(model)"
      ],
      "metadata": {
        "colab": {
          "base_uri": "https://localhost:8080/"
        },
        "id": "SVqTMBjQHn7W",
        "outputId": "76d1984e-094e-49a8-b358-fdb7f6843906"
      },
      "id": "SVqTMBjQHn7W",
      "execution_count": null,
      "outputs": [
        {
          "output_type": "stream",
          "name": "stdout",
          "text": [
            "Train Epoch: 1 [0/48000]\tLoss: 4.618168\n",
            "Train Epoch: 1 [640/48000]\tLoss: 4.610519\n",
            "Train Epoch: 1 [1280/48000]\tLoss: 4.603301\n",
            "Train Epoch: 1 [1920/48000]\tLoss: 4.595967\n",
            "Train Epoch: 1 [2560/48000]\tLoss: 4.587293\n",
            "Train Epoch: 1 [3200/48000]\tLoss: 4.585053\n",
            "Train Epoch: 1 [3840/48000]\tLoss: 4.601756\n"
          ]
        }
      ]
    },
    {
      "cell_type": "markdown",
      "source": [
        "## Evaluacion"
      ],
      "metadata": {
        "id": "wNnkca2vZbkw"
      },
      "id": "wNnkca2vZbkw"
    },
    {
      "cell_type": "markdown",
      "source": [
        "### III-A. CNN"
      ],
      "metadata": {
        "id": "18lfpQWOElHe"
      },
      "id": "18lfpQWOElHe"
    },
    {
      "cell_type": "markdown",
      "source": [
        "#### 1. Considere la siguiente matriz de entrada $X$:\n"
      ],
      "metadata": {
        "id": "WkEx42pMFkFJ"
      },
      "id": "WkEx42pMFkFJ"
    },
    {
      "cell_type": "markdown",
      "source": [
        "$$\n",
        "X = \\begin{bmatrix}\n",
        "2 & 5 & 4 & 1 \\\\\n",
        "3 & 1 & 2 & 0 \\\\\n",
        "4 & 5 & 7 & 1 \\\\\n",
        "1 & 2 & 3 & 4\n",
        "\\end{bmatrix}\n",
        "$$"
      ],
      "metadata": {
        "id": "mVXLoiGHCSvp"
      },
      "id": "mVXLoiGHCSvp"
    },
    {
      "cell_type": "markdown",
      "source": [
        "\n",
        "##### a) Calcule la salida de una convolución con un kernel $K$ de dimensión $2 \\times 2$, sin *padding* y con un *stride* de 2.\n"
      ],
      "metadata": {
        "id": "SYiHmFrVFJh5"
      },
      "id": "SYiHmFrVFJh5"
    },
    {
      "cell_type": "markdown",
      "source": [
        "\n",
        "$$\n",
        "K = \\begin{bmatrix}\n",
        "1 & 0 \\\\\n",
        "0 & 1\n",
        "\\end{bmatrix}\n",
        "$$"
      ],
      "metadata": {
        "id": "SBDtmZCAFOcT"
      },
      "id": "SBDtmZCAFOcT"
    },
    {
      "cell_type": "markdown",
      "source": [
        "RESPUESTA:\n",
        "\n",
        "$$\n",
        "\\begin{align*}\n",
        "res_{0,0} &= 2 * 1 + 5 * 0 + 3 * 0 + 1 * 1 = 3\n",
        "\\\\\n",
        "res_{0,1} &= 4 * 1 + 1 * 0 + 2 * 0 + 0 * 1 = 4\n",
        "\\\\\n",
        "res_{1,0} &= 4 * 1 + 5 * 0 + 1 * 0 + 2 * 1 = 6\n",
        "\\\\\n",
        "res_{1,1} &= 7 * 1 + 1 * 0 + 3 * 0 + 4 * 1 = 11\n",
        "\\\\\n",
        "\\end{align*}\n",
        "\\\\\\\\\n",
        "Res = \\begin{bmatrix}\n",
        "3 & 4 \\\\\n",
        "6 & 11\n",
        "\\end{bmatrix}\n",
        "$$"
      ],
      "metadata": {
        "id": "fZ8C4Y2nFQIi"
      },
      "id": "fZ8C4Y2nFQIi"
    },
    {
      "cell_type": "markdown",
      "source": [
        "##### b) Calcule la salida de una convolución con un kernel $K$ de dimensión $2 \\times 2$, con *padding* de 2 y con un *stride* de 2.\n"
      ],
      "metadata": {
        "id": "3aoU9jVuFS1g"
      },
      "id": "3aoU9jVuFS1g"
    },
    {
      "cell_type": "markdown",
      "source": [
        "$$\n",
        "K = \\begin{bmatrix}\n",
        "1 & 0 \\\\\n",
        "0 & -1\n",
        "\\end{bmatrix}\n",
        "$$"
      ],
      "metadata": {
        "id": "EHSFp06VFWYd"
      },
      "id": "EHSFp06VFWYd"
    },
    {
      "cell_type": "markdown",
      "source": [
        "Con un padding de 2 la matriz a la que le realizariamos la convolucion seria:\n",
        "\n",
        "$$\n",
        "X = \\begin{bmatrix}\n",
        "0 & 0 & 0 & 0 & 0 & 0 & 0 & 0 \\\\\n",
        "0 & 0 & 0 & 0 & 0 & 0 & 0 & 0 \\\\\n",
        "0 & 0 & 2 & 5 & 4 & 1 & 0 & 0 \\\\\n",
        "0 & 0 & 3 & 1 & 2 & 0 & 0 & 0 \\\\\n",
        "0 & 0 & 4 & 5 & 7 & 1 & 0 & 0 \\\\\n",
        "0 & 0 & 1 & 2 & 3 & 4 & 0 & 0 \\\\\n",
        "0 & 0 & 0 & 0 & 0 & 0 & 0 & 0 \\\\\n",
        "0 & 0 & 0 & 0 & 0 & 0 & 0 & 0\n",
        "\\end{bmatrix}\n",
        "$$"
      ],
      "metadata": {
        "id": "QeP-Pl9AKyXb"
      },
      "id": "QeP-Pl9AKyXb"
    },
    {
      "cell_type": "markdown",
      "source": [
        "$$\n",
        "\\begin{align*}\n",
        "\\begin{array}{ll}\n",
        "res_{0,0} &= 0 * 1 + 0 * 0 + 0 * 0 + 0 * (-1) = 0 &\n",
        "res_{0,1} &= 0 * 1 + 0 * 0 + 0 * 0 + 0 * (-1) = 0 \\\\\n",
        "res_{0,2} &= 0 * 1 + 0 * 0 + 0 * 0 + 0 * (-1) = 0 &\n",
        "res_{0,3} &= 0 * 1 + 0 * 0 + 0 * 0 + 0 * (-1) = 0 \\\\\n",
        "res_{1,0} &= 0 * 1 + 0 * 0 + 0 * 0 + 0 * (-1) = 0 &\n",
        "res_{1,1} &= 2 * 1 + 5 * 0 + 3 * 0 + 1 * (-1) = 1 \\\\\n",
        "res_{1,2} &= 4 * 1 + 1 * 0 + 2 * 0 + 0 * (-1) = 4 &\n",
        "res_{1,3} &= 0 * 1 + 0 * 0 + 0 * 0 + 0 * (-1) = 0 \\\\\n",
        "res_{2,0} &= 0 * 1 + 0 * 0 + 0 * 0 + 0 * (-1) = 0 &\n",
        "res_{2,1} &= 4 * 1 + 5 * 0 + 1 * 0 + 2 * (-1) = 2 \\\\\n",
        "res_{2,2} &= 7 * 1 + 1 * 0 + 3 * 0 + 4 * (-1) = 3 &\n",
        "res_{2,3} &= 0 * 1 + 0 * 0 + 0 * 0 + 0 * (-1) = 0 \\\\\n",
        "res_{3,0} &= 0 * 1 + 0 * 0 + 0 * 0 + 0 * (-1) = 0 &\n",
        "res_{3,1} &= 0 * 1 + 0 * 0 + 0 * 0 + 0 * (-1) = 0 \\\\\n",
        "res_{3,2} &= 0 * 1 + 0 * 0 + 0 * 0 + 0 * (-1) = 0 &\n",
        "res_{3,3} &= 0 * 1 + 0 * 0 + 0 * 0 + 0 * (-1) = 0\n",
        "\\end{array}\n",
        "\\end{align*}\n",
        "$$\n",
        "\n",
        "$$\n",
        "\\text{Res} = \\begin{bmatrix}\n",
        "0 & 0 & 0 & 0 \\\\\n",
        "0 & 1 & 4 & 0 \\\\\n",
        "0 & 2 & 3 & 0 \\\\\n",
        "0 & 0 & 0 & 0\n",
        "\\end{bmatrix}\n",
        "$$"
      ],
      "metadata": {
        "id": "hscst8AwKLwN"
      },
      "id": "hscst8AwKLwN"
    },
    {
      "cell_type": "markdown",
      "source": [
        "#### 2. ¿Cómo podemos determinar la dimensión de salida luego de aplicar la función de convolución?\n"
      ],
      "metadata": {
        "id": "vvEmbXWaFa__"
      },
      "id": "vvEmbXWaFa__"
    },
    {
      "cell_type": "markdown",
      "source": [
        "Esto dependera del kernel size, el padding, el stride y el dilation. El kernel size y el padding determinan cuantos \"cuadrantes\" tenemos disponibles para el calculo. Con cuadrante me refiero a la region que se operara con el kernel para obtener un elemento de la matriz resultante.\n",
        "\n",
        "Aumentar el padding incrementa la cantidad de cuadrantes que podemos usar. Aumentar el stride, kernel size o dilation reduce la cantidad de cuadrantes.\n",
        "\n",
        "Entonces la dimension final vendria dada (en filas y columnas) por:\n",
        "\n",
        "[Referencia](https://stackoverflow.com/questions/53580088/calculate-the-output-size-in-convolution-layer)\n",
        "\n",
        "$$\n",
        "[(matrix\\_size−kernel\\_size+2*padding)/stride]+1\n",
        "$$"
      ],
      "metadata": {
        "id": "2iC7KwzEFwab"
      },
      "id": "2iC7KwzEFwab"
    },
    {
      "cell_type": "markdown",
      "source": [
        "#### 3. ¿Qué beneficios tiene el uso de Redes Neuronales Convolucionales (CNNs) sobre las redes completamente conectadas?\n"
      ],
      "metadata": {
        "id": "0B7XX93KFwk8"
      },
      "id": "0B7XX93KFwk8"
    },
    {
      "cell_type": "markdown",
      "source": [
        "1 - Se realizan menos operaciones. \\\\\n",
        "2 - Mantienen el contexto del valor de cada pixel. Ya que la operacion de convolucion usa los vecinos de un pixel y no todos los valores de la imagen."
      ],
      "metadata": {
        "id": "yIYnItg0F0SG"
      },
      "id": "yIYnItg0F0SG"
    },
    {
      "cell_type": "markdown",
      "source": [
        "### III-B. CNN Segmentation"
      ],
      "metadata": {
        "id": "h25oK9y5qKkA"
      },
      "id": "h25oK9y5qKkA"
    },
    {
      "cell_type": "markdown",
      "source": [
        "NOTA: explicar el articulo agregado de segmentacion (redes segmentadas). Explicar metricas para evaluar segmentacion de imagenes\n",
        "?colocar 2 graficas mas que sean utiles?\n",
        "mejorar las metricas dice e iou"
      ],
      "metadata": {
        "id": "I52VQHPTqTXA"
      },
      "id": "I52VQHPTqTXA"
    },
    {
      "cell_type": "code",
      "source": [],
      "metadata": {
        "id": "1Ps4EypUFIOk"
      },
      "id": "1Ps4EypUFIOk",
      "execution_count": null,
      "outputs": []
    }
  ],
  "metadata": {
    "kernelspec": {
      "display_name": "Python 3 (ipykernel)",
      "language": "python",
      "name": "python3"
    },
    "language_info": {
      "codemirror_mode": {
        "name": "ipython",
        "version": 3
      },
      "file_extension": ".py",
      "mimetype": "text/x-python",
      "name": "python",
      "nbconvert_exporter": "python",
      "pygments_lexer": "ipython3",
      "version": "3.12.3"
    },
    "colab": {
      "provenance": []
    }
  },
  "nbformat": 4,
  "nbformat_minor": 5
}