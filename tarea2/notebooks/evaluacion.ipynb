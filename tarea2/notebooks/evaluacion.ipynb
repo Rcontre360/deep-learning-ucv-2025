{
  "cells": [
    {
      "cell_type": "markdown",
      "source": [
        "#Tarea 2: Arquitecturas modernas de Redes Neuronales profundas - CNN & UNETs\n",
        "----\n",
        "\n",
        "Estudiante: Rafael Contreras\n",
        "\n",
        "CI: 30391915"
      ],
      "metadata": {
        "id": "l83bqeqPWxy3"
      },
      "id": "l83bqeqPWxy3"
    },
    {
      "cell_type": "markdown",
      "source": [
        "## 1. Introduccion"
      ],
      "metadata": {
        "id": "O_9k22WlW8jz"
      },
      "id": "O_9k22WlW8jz"
    },
    {
      "cell_type": "markdown",
      "source": [
        "### Notebooks libro UDL\n",
        "\n",
        "\n",
        "Anexados notebooks del libro del libro UDL"
      ],
      "metadata": {
        "id": "nCkELJiuXmPt"
      },
      "id": "nCkELJiuXmPt"
    },
    {
      "cell_type": "markdown",
      "source": [
        "### Integrar la pregunta en la seccion Evaluacion\n",
        "\n",
        "Notebooks 7.2 y 7.3.\n",
        "Verifique que los resultados obtenidos son los mismos a los del notebook."
      ],
      "metadata": {
        "id": "IsihFNIeXr-L"
      },
      "id": "IsihFNIeXr-L"
    },
    {
      "cell_type": "markdown",
      "source": [
        "### Informe sobre preguntas practicas"
      ],
      "metadata": {
        "id": "4clnXopuYB4M"
      },
      "id": "4clnXopuYB4M"
    },
    {
      "cell_type": "markdown",
      "source": [
        "link al informe"
      ],
      "metadata": {
        "id": "VfBL-ZKNYRM2"
      },
      "id": "VfBL-ZKNYRM2"
    },
    {
      "cell_type": "markdown",
      "source": [
        "### Explicacion de notebooks"
      ],
      "metadata": {
        "id": "yJ2dL4ADBEzW"
      },
      "id": "yJ2dL4ADBEzW"
    },
    {
      "cell_type": "markdown",
      "source": [
        "#### [Notebook 10.1 - 1D convolution](https://github.com/Rcontre360/deep-learning-ucv-2025/blob/main/tarea2/notebooks/10_1_1D_Convolution.ipynb)\n",
        "\n"
      ],
      "metadata": {
        "id": "uMW_rSaEZQt7"
      },
      "id": "uMW_rSaEZQt7"
    },
    {
      "cell_type": "markdown",
      "source": [],
      "metadata": {
        "id": "Qzvc_1Ie0ILq"
      },
      "id": "Qzvc_1Ie0ILq"
    },
    {
      "cell_type": "markdown",
      "source": [
        "#### [Notebook 10.2 - Convolution for MNIST-1D](https://github.com/Rcontre360/deep-learning-ucv-2025/blob/main/tarea2/notebooks/10_2_Convolution_for_MNIST_1D.ipynb)\n"
      ],
      "metadata": {
        "id": "tJ0XFD-F15EG"
      },
      "id": "tJ0XFD-F15EG"
    },
    {
      "cell_type": "markdown",
      "source": [],
      "metadata": {
        "id": "9E8GrJ7L5VEi"
      },
      "id": "9E8GrJ7L5VEi"
    },
    {
      "cell_type": "markdown",
      "source": [
        "#### [Notebook 10.3 - 2D convolution](https://github.com/Rcontre360/deep-learning-ucv-2025/blob/main/tarea2/notebooks/10_3_2D_Convolution.ipynb)"
      ],
      "metadata": {
        "id": "qVXH3Jdv5Tq3"
      },
      "id": "qVXH3Jdv5Tq3"
    },
    {
      "cell_type": "markdown",
      "source": [],
      "metadata": {
        "id": "X3iROdFM5ZLM"
      },
      "id": "X3iROdFM5ZLM"
    },
    {
      "cell_type": "markdown",
      "source": [
        "#### [Notebook 10.4 - Downsampling & upsampling](https://github.com/Rcontre360/deep-learning-ucv-2025/blob/main/tarea2/notebooks/10_4_Downsampling_and_Upsampling.ipynb)"
      ],
      "metadata": {
        "id": "IDgDwJrG8ScD"
      },
      "id": "IDgDwJrG8ScD"
    },
    {
      "cell_type": "markdown",
      "source": [],
      "metadata": {
        "id": "O-2cGSNy8Yhg"
      },
      "id": "O-2cGSNy8Yhg"
    },
    {
      "cell_type": "markdown",
      "source": [
        "#### [Notebook 10.5 - Convolution for MNIST](https://github.com/Rcontre360/deep-learning-ucv-2025/blob/main/tarea2/notebooks/10_5_Convolution_For_MNIST.ipynb)"
      ],
      "metadata": {
        "id": "DSp_FP2m9Mdl"
      },
      "id": "DSp_FP2m9Mdl"
    },
    {
      "cell_type": "markdown",
      "source": [],
      "metadata": {
        "id": "hwk2A_B39STQ"
      },
      "id": "hwk2A_B39STQ"
    },
    {
      "cell_type": "markdown",
      "source": [
        "### 1. Experimento"
      ],
      "metadata": {
        "id": "N3JL7RV0A0Cy"
      },
      "id": "N3JL7RV0A0Cy"
    },
    {
      "cell_type": "markdown",
      "source": [],
      "metadata": {
        "id": "xkjhLj_dBQ4E"
      },
      "id": "xkjhLj_dBQ4E"
    },
    {
      "cell_type": "markdown",
      "source": [
        "## Evaluacion"
      ],
      "metadata": {
        "id": "wNnkca2vZbkw"
      },
      "id": "wNnkca2vZbkw"
    },
    {
      "cell_type": "markdown",
      "source": [
        "### III-A. CNN"
      ],
      "metadata": {
        "id": "18lfpQWOElHe"
      },
      "id": "18lfpQWOElHe"
    },
    {
      "cell_type": "markdown",
      "source": [
        "#### 1. Considere la siguiente matriz de entrada $X$:\n"
      ],
      "metadata": {
        "id": "WkEx42pMFkFJ"
      },
      "id": "WkEx42pMFkFJ"
    },
    {
      "cell_type": "markdown",
      "source": [
        "$$\n",
        "X = \\begin{bmatrix}\n",
        "2 & 5 & 4 & 1 \\\\\n",
        "3 & 1 & 2 & 0 \\\\\n",
        "4 & 5 & 7 & 1 \\\\\n",
        "1 & 2 & 3 & 4\n",
        "\\end{bmatrix}\n",
        "$$"
      ],
      "metadata": {
        "id": "mVXLoiGHCSvp"
      },
      "id": "mVXLoiGHCSvp"
    },
    {
      "cell_type": "markdown",
      "source": [
        "\n",
        "##### a) Calcule la salida de una convolución con un kernel $K$ de dimensión $2 \\times 2$, sin *padding* y con un *stride* de 2.\n"
      ],
      "metadata": {
        "id": "SYiHmFrVFJh5"
      },
      "id": "SYiHmFrVFJh5"
    },
    {
      "cell_type": "markdown",
      "source": [
        "\n",
        "$$\n",
        "K = \\begin{bmatrix}\n",
        "1 & 0 \\\\\n",
        "0 & 1\n",
        "\\end{bmatrix}\n",
        "$$"
      ],
      "metadata": {
        "id": "SBDtmZCAFOcT"
      },
      "id": "SBDtmZCAFOcT"
    },
    {
      "cell_type": "markdown",
      "source": [
        "RESPUESTA:\n",
        "\n",
        "$$\n",
        "\\begin{align*}\n",
        "res_{0,0} &= 2 * 1 + 5 * 0 + 3 * 0 + 1 * 1 = 3\n",
        "\\\\\n",
        "res_{0,1} &= 4 * 1 + 1 * 0 + 2 * 0 + 0 * 1 = 4\n",
        "\\\\\n",
        "res_{1,0} &= 4 * 1 + 5 * 0 + 1 * 0 + 2 * 1 = 6\n",
        "\\\\\n",
        "res_{1,1} &= 7 * 1 + 1 * 0 + 3 * 0 + 4 * 1 = 11\n",
        "\\\\\n",
        "\\end{align*}\n",
        "\\\\\\\\\n",
        "Res = \\begin{bmatrix}\n",
        "3 & 4 \\\\\n",
        "6 & 11\n",
        "\\end{bmatrix}\n",
        "$$"
      ],
      "metadata": {
        "id": "fZ8C4Y2nFQIi"
      },
      "id": "fZ8C4Y2nFQIi"
    },
    {
      "cell_type": "markdown",
      "source": [
        "##### b) Calcule la salida de una convolución con un kernel $K$ de dimensión $2 \\times 2$, con *padding* de 2 y con un *stride* de 2.\n"
      ],
      "metadata": {
        "id": "3aoU9jVuFS1g"
      },
      "id": "3aoU9jVuFS1g"
    },
    {
      "cell_type": "markdown",
      "source": [
        "$$\n",
        "K = \\begin{bmatrix}\n",
        "1 & 0 \\\\\n",
        "0 & -1\n",
        "\\end{bmatrix}\n",
        "$$"
      ],
      "metadata": {
        "id": "EHSFp06VFWYd"
      },
      "id": "EHSFp06VFWYd"
    },
    {
      "cell_type": "markdown",
      "source": [
        "Con un padding de 2 la matriz a la que le realizariamos la convolucion seria:\n",
        "\n",
        "$$\n",
        "X = \\begin{bmatrix}\n",
        "0 & 0 & 0 & 0 & 0 & 0 & 0 & 0 \\\\\n",
        "0 & 0 & 0 & 0 & 0 & 0 & 0 & 0 \\\\\n",
        "0 & 0 & 2 & 5 & 4 & 1 & 0 & 0 \\\\\n",
        "0 & 0 & 3 & 1 & 2 & 0 & 0 & 0 \\\\\n",
        "0 & 0 & 4 & 5 & 7 & 1 & 0 & 0 \\\\\n",
        "0 & 0 & 1 & 2 & 3 & 4 & 0 & 0 \\\\\n",
        "0 & 0 & 0 & 0 & 0 & 0 & 0 & 0 \\\\\n",
        "0 & 0 & 0 & 0 & 0 & 0 & 0 & 0\n",
        "\\end{bmatrix}\n",
        "$$"
      ],
      "metadata": {
        "id": "QeP-Pl9AKyXb"
      },
      "id": "QeP-Pl9AKyXb"
    },
    {
      "cell_type": "markdown",
      "source": [
        "$$\n",
        "\\begin{align*}\n",
        "\\begin{array}{ll}\n",
        "res_{0,0} &= 0 * 1 + 0 * 0 + 0 * 0 + 0 * (-1) = 0 &\n",
        "res_{0,1} &= 0 * 1 + 0 * 0 + 0 * 0 + 0 * (-1) = 0 \\\\\n",
        "res_{0,2} &= 0 * 1 + 0 * 0 + 0 * 0 + 0 * (-1) = 0 &\n",
        "res_{0,3} &= 0 * 1 + 0 * 0 + 0 * 0 + 0 * (-1) = 0 \\\\\n",
        "res_{1,0} &= 0 * 1 + 0 * 0 + 0 * 0 + 0 * (-1) = 0 &\n",
        "res_{1,1} &= 2 * 1 + 5 * 0 + 3 * 0 + 1 * (-1) = 1 \\\\\n",
        "res_{1,2} &= 4 * 1 + 1 * 0 + 2 * 0 + 0 * (-1) = 4 &\n",
        "res_{1,3} &= 0 * 1 + 0 * 0 + 0 * 0 + 0 * (-1) = 0 \\\\\n",
        "res_{2,0} &= 0 * 1 + 0 * 0 + 0 * 0 + 0 * (-1) = 0 &\n",
        "res_{2,1} &= 4 * 1 + 5 * 0 + 1 * 0 + 2 * (-1) = 2 \\\\\n",
        "res_{2,2} &= 7 * 1 + 1 * 0 + 3 * 0 + 4 * (-1) = 3 &\n",
        "res_{2,3} &= 0 * 1 + 0 * 0 + 0 * 0 + 0 * (-1) = 0 \\\\\n",
        "res_{3,0} &= 0 * 1 + 0 * 0 + 0 * 0 + 0 * (-1) = 0 &\n",
        "res_{3,1} &= 0 * 1 + 0 * 0 + 0 * 0 + 0 * (-1) = 0 \\\\\n",
        "res_{3,2} &= 0 * 1 + 0 * 0 + 0 * 0 + 0 * (-1) = 0 &\n",
        "res_{3,3} &= 0 * 1 + 0 * 0 + 0 * 0 + 0 * (-1) = 0\n",
        "\\end{array}\n",
        "\\end{align*}\n",
        "$$\n",
        "\n",
        "$$\n",
        "\\text{Res} = \\begin{bmatrix}\n",
        "0 & 0 & 0 & 0 \\\\\n",
        "0 & 1 & 4 & 0 \\\\\n",
        "0 & 2 & 3 & 0 \\\\\n",
        "0 & 0 & 0 & 0\n",
        "\\end{bmatrix}\n",
        "$$"
      ],
      "metadata": {
        "id": "hscst8AwKLwN"
      },
      "id": "hscst8AwKLwN"
    },
    {
      "cell_type": "markdown",
      "source": [
        "#### 2. ¿Cómo podemos determinar la dimensión de salida luego de aplicar la función de convolución?\n"
      ],
      "metadata": {
        "id": "vvEmbXWaFa__"
      },
      "id": "vvEmbXWaFa__"
    },
    {
      "cell_type": "markdown",
      "source": [
        "Esto dependera del kernel size, el padding, el stride y el dilation. El kernel size y el padding determinan cuantos \"cuadrantes\" tenemos disponibles para el calculo. Con cuadrante me refiero a la region que se operara con el kernel para obtener un elemento de la matriz resultante.\n",
        "\n",
        "Aumentar el padding incrementa la cantidad de cuadrantes que podemos usar. Aumentar el stride, kernel size o dilation reduce la cantidad de cuadrantes.\n",
        "\n",
        "Entonces la dimension final vendria dada (en filas y columnas) por:\n",
        "\n",
        "[Referencia](https://stackoverflow.com/questions/53580088/calculate-the-output-size-in-convolution-layer)\n",
        "\n",
        "$$\n",
        "[(matrix\\_size−kernel\\_size+2*padding)/stride]+1\n",
        "$$"
      ],
      "metadata": {
        "id": "2iC7KwzEFwab"
      },
      "id": "2iC7KwzEFwab"
    },
    {
      "cell_type": "markdown",
      "source": [
        "#### 3. ¿Qué beneficios tiene el uso de Redes Neuronales Convolucionales (CNNs) sobre las redes completamente conectadas?\n"
      ],
      "metadata": {
        "id": "0B7XX93KFwk8"
      },
      "id": "0B7XX93KFwk8"
    },
    {
      "cell_type": "markdown",
      "source": [
        "1 - Se realizan menos operaciones. \\\\\n",
        "2 - Mantienen el contexto del valor de cada pixel. Ya que la operacion de convolucion usa los vecinos de un pixel y no todos los valores de la imagen."
      ],
      "metadata": {
        "id": "yIYnItg0F0SG"
      },
      "id": "yIYnItg0F0SG"
    },
    {
      "cell_type": "code",
      "source": [],
      "metadata": {
        "id": "1Ps4EypUFIOk"
      },
      "id": "1Ps4EypUFIOk",
      "execution_count": null,
      "outputs": []
    }
  ],
  "metadata": {
    "kernelspec": {
      "display_name": "Python 3 (ipykernel)",
      "language": "python",
      "name": "python3"
    },
    "language_info": {
      "codemirror_mode": {
        "name": "ipython",
        "version": 3
      },
      "file_extension": ".py",
      "mimetype": "text/x-python",
      "name": "python",
      "nbconvert_exporter": "python",
      "pygments_lexer": "ipython3",
      "version": "3.12.3"
    },
    "colab": {
      "provenance": []
    }
  },
  "nbformat": 4,
  "nbformat_minor": 5
}