{
  "nbformat": 4,
  "nbformat_minor": 0,
  "metadata": {
    "colab": {
      "provenance": [],
      "include_colab_link": true
    },
    "kernelspec": {
      "name": "python3",
      "display_name": "Python 3"
    },
    "language_info": {
      "name": "python"
    }
  },
  "cells": [
    {
      "cell_type": "markdown",
      "metadata": {
        "id": "view-in-github",
        "colab_type": "text"
      },
      "source": [
        "<a href=\"https://colab.research.google.com/github/Rcontre360/deep-learning-ucv-2025/blob/main/tarea2/notebooks/10_2_Convolution_for_MNIST_1D.ipynb\" target=\"_parent\"><img src=\"https://colab.research.google.com/assets/colab-badge.svg\" alt=\"Open In Colab\"/></a>"
      ]
    },
    {
      "cell_type": "markdown",
      "source": [
        "# **Notebook 10.2: Convolution for MNIST-1D**\n",
        "\n",
        "This notebook investigates a 1D convolutional network for MNIST-1D as in figure 10.7 and 10.8a.\n",
        "\n",
        "Work through the cells below, running each cell in turn. In various places you will see the words \"TODO\". Follow the instructions at these places and make predictions about what is going to happen or write code to complete the functions.\n",
        "\n",
        "Contact me at udlbookmail@gmail.com if you find any mistakes or have any suggestions.\n",
        "\n"
      ],
      "metadata": {
        "id": "t9vk9Elugvmi"
      }
    },
    {
      "cell_type": "code",
      "source": [
        "# Run this if you're in a Colab to install MNIST 1D repository\n",
        "!pip install git+https://github.com/greydanus/mnist1d"
      ],
      "metadata": {
        "id": "D5yLObtZCi9J",
        "outputId": "3e106dbe-935d-4dad-8fe2-cb66c5e332d4",
        "colab": {
          "base_uri": "https://localhost:8080/"
        }
      },
      "execution_count": 1,
      "outputs": [
        {
          "output_type": "stream",
          "name": "stdout",
          "text": [
            "Collecting git+https://github.com/greydanus/mnist1d\n",
            "  Cloning https://github.com/greydanus/mnist1d to /tmp/pip-req-build-tar5vxn8\n",
            "  Running command git clone --filter=blob:none --quiet https://github.com/greydanus/mnist1d /tmp/pip-req-build-tar5vxn8\n",
            "  Resolved https://github.com/greydanus/mnist1d to commit 7878d96082abd200c546a07a4101fa90b30fdf7e\n",
            "  Installing build dependencies ... \u001b[?25l\u001b[?25hdone\n",
            "  Getting requirements to build wheel ... \u001b[?25l\u001b[?25hdone\n",
            "  Preparing metadata (pyproject.toml) ... \u001b[?25l\u001b[?25hdone\n",
            "Requirement already satisfied: requests in /usr/local/lib/python3.11/dist-packages (from mnist1d==0.0.2.post16) (2.32.3)\n",
            "Requirement already satisfied: numpy in /usr/local/lib/python3.11/dist-packages (from mnist1d==0.0.2.post16) (2.0.2)\n",
            "Requirement already satisfied: matplotlib in /usr/local/lib/python3.11/dist-packages (from mnist1d==0.0.2.post16) (3.10.0)\n",
            "Requirement already satisfied: scipy in /usr/local/lib/python3.11/dist-packages (from mnist1d==0.0.2.post16) (1.15.3)\n",
            "Requirement already satisfied: contourpy>=1.0.1 in /usr/local/lib/python3.11/dist-packages (from matplotlib->mnist1d==0.0.2.post16) (1.3.2)\n",
            "Requirement already satisfied: cycler>=0.10 in /usr/local/lib/python3.11/dist-packages (from matplotlib->mnist1d==0.0.2.post16) (0.12.1)\n",
            "Requirement already satisfied: fonttools>=4.22.0 in /usr/local/lib/python3.11/dist-packages (from matplotlib->mnist1d==0.0.2.post16) (4.58.5)\n",
            "Requirement already satisfied: kiwisolver>=1.3.1 in /usr/local/lib/python3.11/dist-packages (from matplotlib->mnist1d==0.0.2.post16) (1.4.8)\n",
            "Requirement already satisfied: packaging>=20.0 in /usr/local/lib/python3.11/dist-packages (from matplotlib->mnist1d==0.0.2.post16) (24.2)\n",
            "Requirement already satisfied: pillow>=8 in /usr/local/lib/python3.11/dist-packages (from matplotlib->mnist1d==0.0.2.post16) (11.2.1)\n",
            "Requirement already satisfied: pyparsing>=2.3.1 in /usr/local/lib/python3.11/dist-packages (from matplotlib->mnist1d==0.0.2.post16) (3.2.3)\n",
            "Requirement already satisfied: python-dateutil>=2.7 in /usr/local/lib/python3.11/dist-packages (from matplotlib->mnist1d==0.0.2.post16) (2.9.0.post0)\n",
            "Requirement already satisfied: charset-normalizer<4,>=2 in /usr/local/lib/python3.11/dist-packages (from requests->mnist1d==0.0.2.post16) (3.4.2)\n",
            "Requirement already satisfied: idna<4,>=2.5 in /usr/local/lib/python3.11/dist-packages (from requests->mnist1d==0.0.2.post16) (3.10)\n",
            "Requirement already satisfied: urllib3<3,>=1.21.1 in /usr/local/lib/python3.11/dist-packages (from requests->mnist1d==0.0.2.post16) (2.4.0)\n",
            "Requirement already satisfied: certifi>=2017.4.17 in /usr/local/lib/python3.11/dist-packages (from requests->mnist1d==0.0.2.post16) (2025.7.14)\n",
            "Requirement already satisfied: six>=1.5 in /usr/local/lib/python3.11/dist-packages (from python-dateutil>=2.7->matplotlib->mnist1d==0.0.2.post16) (1.17.0)\n",
            "Building wheels for collected packages: mnist1d\n",
            "  Building wheel for mnist1d (pyproject.toml) ... \u001b[?25l\u001b[?25hdone\n",
            "  Created wheel for mnist1d: filename=mnist1d-0.0.2.post16-py3-none-any.whl size=14665 sha256=c5138fb949e55258d4874d7b129393c8f092aaa8a17400814aefe1383c9cd834\n",
            "  Stored in directory: /tmp/pip-ephem-wheel-cache-unn44ari/wheels/d6/38/42/3d2112bc7d915f6195254ac85eb761d922d1b18f52817aa8e2\n",
            "Successfully built mnist1d\n",
            "Installing collected packages: mnist1d\n",
            "Successfully installed mnist1d-0.0.2.post16\n"
          ]
        }
      ]
    },
    {
      "cell_type": "code",
      "source": [
        "import numpy as np\n",
        "import os\n",
        "import torch, torch.nn as nn\n",
        "from torch.utils.data import TensorDataset, DataLoader\n",
        "from torch.optim.lr_scheduler import StepLR\n",
        "import matplotlib.pyplot as plt\n",
        "import mnist1d\n",
        "import random"
      ],
      "metadata": {
        "id": "YrXWAH7sUWvU"
      },
      "execution_count": 2,
      "outputs": []
    },
    {
      "cell_type": "code",
      "source": [
        "args = mnist1d.data.get_dataset_args()\n",
        "data = mnist1d.data.get_dataset(args, path='./mnist1d_data.pkl', download=False, regenerate=False)\n",
        "\n",
        "# The training and test input and outputs are in\n",
        "# data['x'], data['y'], data['x_test'], and data['y_test']\n",
        "print(\"Examples in training set: {}\".format(len(data['y'])))\n",
        "print(\"Examples in test set: {}\".format(len(data['y_test'])))\n",
        "print(\"Length of each example: {}\".format(data['x'].shape[-1]))"
      ],
      "metadata": {
        "id": "twI72ZCrCt5z",
        "outputId": "ec6f0b79-c2ad-457a-d8e4-806cc0e2adeb",
        "colab": {
          "base_uri": "https://localhost:8080/"
        }
      },
      "execution_count": 3,
      "outputs": [
        {
          "output_type": "stream",
          "name": "stdout",
          "text": [
            "Did or could not load data from ./mnist1d_data.pkl. Rebuilding dataset...\n",
            "Examples in training set: 4000\n",
            "Examples in test set: 1000\n",
            "Length of each example: 40\n"
          ]
        }
      ]
    },
    {
      "cell_type": "code",
      "source": [
        "# Load in the data\n",
        "train_data_x = data['x'].transpose()\n",
        "train_data_y = data['y']\n",
        "val_data_x = data['x_test'].transpose()\n",
        "val_data_y = data['y_test']\n",
        "# Print out sizes\n",
        "print(\"Train data: %d examples (columns), each of which has %d dimensions (rows)\"%((train_data_x.shape[1],train_data_x.shape[0])))\n",
        "print(\"Validation data: %d examples (columns), each of which has %d dimensions (rows)\"%((val_data_x.shape[1],val_data_x.shape[0])))"
      ],
      "metadata": {
        "id": "8bKADvLHbiV5",
        "outputId": "0ac39bd7-0d81-48e5-bf5b-203ad6f44d8e",
        "colab": {
          "base_uri": "https://localhost:8080/"
        }
      },
      "execution_count": 4,
      "outputs": [
        {
          "output_type": "stream",
          "name": "stdout",
          "text": [
            "Train data: 4000 examples (columns), each of which has 40 dimensions (rows)\n",
            "Validation data: 1000 examples (columns), each of which has 40 dimensions (rows)\n"
          ]
        }
      ]
    },
    {
      "cell_type": "markdown",
      "source": [
        "Define the network"
      ],
      "metadata": {
        "id": "_sFvRDGrl4qe"
      }
    },
    {
      "cell_type": "code",
      "source": [
        "# There are 40 input dimensions and 10 output dimensions for this data\n",
        "# The inputs correspond to the 40 offsets in the MNIST1D template.\n",
        "D_i = 40\n",
        "# The outputs correspond to the 10 digits\n",
        "D_o = 10\n",
        "\n",
        "\n",
        "# TODO Create a model with the following layers\n",
        "# 1. Convolutional layer, (input=length 40 and 1 channel, kernel size 3, stride 2, padding=\"valid\", 15 output channels )\n",
        "# 2. ReLU\n",
        "# 3. Convolutional layer, (input=length 19 and 15 channels, kernel size 3, stride 2, padding=\"valid\", 15 output channels )\n",
        "# 4. ReLU\n",
        "# 5. Convolutional layer, (input=length 9 and 15 channels, kernel size 3, stride 2, padding=\"valid\", 15 output channels)\n",
        "# 6. ReLU\n",
        "# 7. Flatten (converts 4x15) to length 60\n",
        "# 8. Linear layer (input size = 60, output size = 10)\n",
        "# References:\n",
        "# https://pytorch.org/docs/1.13/generated/torch.nn.Conv1d.html?highlight=conv1d#torch.nn.Conv1d\n",
        "# https://pytorch.org/docs/stable/generated/torch.nn.Flatten.html\n",
        "# https://pytorch.org/docs/1.13/generated/torch.nn.Linear.html?highlight=linear#torch.nn.Linear\n",
        "\n",
        "# NOTE THAT THE CONVOLUTIONAL LAYERS NEED TO TAKE THE NUMBER OF INPUT CHANNELS AS A PARAMETER\n",
        "# AND NOT THE INPUT SIZE.\n",
        "\n",
        "# Replace the following function:\n",
        "model = nn.Sequential(\n",
        "  nn.Conv1d(1, 15, kernel_size=3, stride=2, padding='valid'),\n",
        "  nn.ReLU(),\n",
        "  nn.Conv1d(15, 15, kernel_size=3, stride=2, padding='valid'),\n",
        "  nn.ReLU(),\n",
        "  nn.Conv1d(15, 15, kernel_size=3, stride=2, padding='valid'),\n",
        "  nn.ReLU(),\n",
        "  nn.Flatten(),\n",
        "  nn.Linear(60, 10)\n",
        ")\n",
        "\n",
        "\n",
        "\n"
      ],
      "metadata": {
        "id": "FslroPJJffrh"
      },
      "execution_count": 8,
      "outputs": []
    },
    {
      "cell_type": "code",
      "source": [
        "# He initialization of weights\n",
        "def weights_init(layer_in):\n",
        "  if isinstance(layer_in, nn.Linear):\n",
        "    nn.init.kaiming_uniform_(layer_in.weight)\n",
        "    layer_in.bias.data.fill_(0.0)"
      ],
      "metadata": {
        "id": "YgLaex1pfhqz"
      },
      "execution_count": 9,
      "outputs": []
    },
    {
      "cell_type": "code",
      "source": [
        "# choose cross entropy loss function (equation 5.24 in the loss notes)\n",
        "loss_function = nn.CrossEntropyLoss()\n",
        "# construct SGD optimizer and initialize learning rate and momentum\n",
        "optimizer = torch.optim.SGD(model.parameters(), lr = 0.05, momentum=0.9)\n",
        "# object that decreases learning rate by half every 20 epochs\n",
        "scheduler = StepLR(optimizer, step_size=20, gamma=0.5)\n",
        "# create 100 dummy data points and store in data loader class\n",
        "x_train = torch.tensor(train_data_x.transpose().astype('float32'))\n",
        "y_train = torch.tensor(train_data_y.astype('long')).long()\n",
        "x_val= torch.tensor(val_data_x.transpose().astype('float32'))\n",
        "y_val = torch.tensor(val_data_y.astype('long')).long()\n",
        "\n",
        "# load the data into a class that creates the batches\n",
        "data_loader = DataLoader(TensorDataset(x_train,y_train), batch_size=100, shuffle=True, worker_init_fn=np.random.seed(1))\n",
        "\n",
        "# Initialize model weights\n",
        "model.apply(weights_init)\n",
        "\n",
        "# loop over the dataset n_epoch times\n",
        "n_epoch = 100\n",
        "# store the loss and the % correct at each epoch\n",
        "losses_train = np.zeros((n_epoch))\n",
        "errors_train = np.zeros((n_epoch))\n",
        "losses_val = np.zeros((n_epoch))\n",
        "errors_val = np.zeros((n_epoch))\n",
        "\n",
        "for epoch in range(n_epoch):\n",
        "  # loop over batches\n",
        "  for i, data in enumerate(data_loader):\n",
        "    # retrieve inputs and labels for this batch\n",
        "    x_batch, y_batch = data\n",
        "    # zero the parameter gradients\n",
        "    optimizer.zero_grad()\n",
        "    # forward pass -- calculate model output\n",
        "    pred = model(x_batch[:,None,:])\n",
        "    # compute the loss\n",
        "    loss = loss_function(pred, y_batch)\n",
        "    # backward pass\n",
        "    loss.backward()\n",
        "    # SGD update\n",
        "    optimizer.step()\n",
        "\n",
        "  # Run whole dataset to get statistics -- normally wouldn't do this\n",
        "  pred_train = model(x_train[:,None,:])\n",
        "  pred_val = model(x_val[:,None,:])\n",
        "  _, predicted_train_class = torch.max(pred_train.data, 1)\n",
        "  _, predicted_val_class = torch.max(pred_val.data, 1)\n",
        "  errors_train[epoch] = 100 - 100 * (predicted_train_class == y_train).float().sum() / len(y_train)\n",
        "  errors_val[epoch]= 100 - 100 * (predicted_val_class == y_val).float().sum() / len(y_val)\n",
        "  losses_train[epoch] = loss_function(pred_train, y_train).item()\n",
        "  losses_val[epoch]= loss_function(pred_val, y_val).item()\n",
        "  print(f'Epoch {epoch:5d}, train loss {losses_train[epoch]:.6f}, train error {errors_train[epoch]:3.2f},  val loss {losses_val[epoch]:.6f}, percent error {errors_val[epoch]:3.2f}')\n",
        "\n",
        "  # tell scheduler to consider updating learning rate\n",
        "  scheduler.step()\n",
        "\n",
        "# Plot the results\n",
        "fig, ax = plt.subplots()\n",
        "ax.plot(errors_train,'r-',label='train')\n",
        "ax.plot(errors_val,'b-',label='validation')\n",
        "ax.set_ylim(0,100); ax.set_xlim(0,n_epoch)\n",
        "ax.set_xlabel('Epoch'); ax.set_ylabel('Error')\n",
        "ax.set_title('Part I: Validation Result %3.2f'%(errors_val[-1]))\n",
        "ax.legend()\n",
        "plt.show()"
      ],
      "metadata": {
        "id": "NYw8I_3mmX5c",
        "outputId": "4e9034df-6066-4af3-89a8-199731c59c1e",
        "colab": {
          "base_uri": "https://localhost:8080/",
          "height": 1000
        }
      },
      "execution_count": 10,
      "outputs": [
        {
          "output_type": "stream",
          "name": "stdout",
          "text": [
            "Epoch     0, train loss 2.127936, train error 81.07,  val loss 2.127338, percent error 80.70\n",
            "Epoch     1, train loss 1.627051, train error 65.28,  val loss 1.658944, percent error 70.30\n",
            "Epoch     2, train loss 1.387314, train error 54.70,  val loss 1.419960, percent error 58.30\n",
            "Epoch     3, train loss 1.371075, train error 56.62,  val loss 1.397687, percent error 57.90\n",
            "Epoch     4, train loss 1.206931, train error 48.67,  val loss 1.236005, percent error 50.90\n",
            "Epoch     5, train loss 1.169056, train error 48.05,  val loss 1.217159, percent error 51.10\n",
            "Epoch     6, train loss 1.033358, train error 39.40,  val loss 1.107147, percent error 44.00\n",
            "Epoch     7, train loss 0.901894, train error 34.38,  val loss 0.985303, percent error 38.60\n",
            "Epoch     8, train loss 0.781200, train error 30.72,  val loss 0.859125, percent error 34.40\n",
            "Epoch     9, train loss 0.721204, train error 28.03,  val loss 0.780090, percent error 28.80\n",
            "Epoch    10, train loss 0.761213, train error 28.85,  val loss 0.822504, percent error 31.50\n",
            "Epoch    11, train loss 0.625124, train error 23.53,  val loss 0.717982, percent error 26.30\n",
            "Epoch    12, train loss 0.621532, train error 24.30,  val loss 0.711311, percent error 27.90\n",
            "Epoch    13, train loss 0.543022, train error 20.75,  val loss 0.637542, percent error 25.10\n",
            "Epoch    14, train loss 0.495012, train error 18.07,  val loss 0.652361, percent error 24.90\n",
            "Epoch    15, train loss 0.431470, train error 15.32,  val loss 0.543762, percent error 21.20\n",
            "Epoch    16, train loss 0.444647, train error 16.03,  val loss 0.553426, percent error 20.30\n",
            "Epoch    17, train loss 0.433384, train error 15.43,  val loss 0.568951, percent error 20.80\n",
            "Epoch    18, train loss 0.361151, train error 12.45,  val loss 0.509486, percent error 18.90\n",
            "Epoch    19, train loss 0.412316, train error 14.75,  val loss 0.557222, percent error 17.80\n",
            "Epoch    20, train loss 0.269432, train error 8.90,  val loss 0.415698, percent error 14.30\n",
            "Epoch    21, train loss 0.231884, train error 7.32,  val loss 0.398072, percent error 14.50\n",
            "Epoch    22, train loss 0.229020, train error 7.43,  val loss 0.381630, percent error 13.60\n",
            "Epoch    23, train loss 0.234597, train error 7.75,  val loss 0.423241, percent error 13.90\n",
            "Epoch    24, train loss 0.217887, train error 7.15,  val loss 0.413876, percent error 14.20\n",
            "Epoch    25, train loss 0.198012, train error 6.65,  val loss 0.384470, percent error 12.80\n",
            "Epoch    26, train loss 0.234267, train error 7.68,  val loss 0.433428, percent error 14.80\n",
            "Epoch    27, train loss 0.176550, train error 5.53,  val loss 0.378982, percent error 12.80\n",
            "Epoch    28, train loss 0.167115, train error 5.10,  val loss 0.371323, percent error 12.70\n",
            "Epoch    29, train loss 0.194488, train error 6.57,  val loss 0.412939, percent error 13.90\n",
            "Epoch    30, train loss 0.161787, train error 5.05,  val loss 0.363452, percent error 12.40\n",
            "Epoch    31, train loss 0.173979, train error 5.95,  val loss 0.393205, percent error 12.80\n",
            "Epoch    32, train loss 0.151103, train error 4.68,  val loss 0.385321, percent error 12.30\n",
            "Epoch    33, train loss 0.152118, train error 4.88,  val loss 0.366591, percent error 12.40\n",
            "Epoch    34, train loss 0.129702, train error 4.10,  val loss 0.340146, percent error 11.10\n",
            "Epoch    35, train loss 0.127978, train error 4.07,  val loss 0.366365, percent error 11.70\n",
            "Epoch    36, train loss 0.144480, train error 5.12,  val loss 0.419591, percent error 13.30\n",
            "Epoch    37, train loss 0.288855, train error 10.30,  val loss 0.538042, percent error 15.40\n",
            "Epoch    38, train loss 0.137039, train error 4.45,  val loss 0.364742, percent error 12.60\n",
            "Epoch    39, train loss 0.104428, train error 3.28,  val loss 0.342877, percent error 10.20\n",
            "Epoch    40, train loss 0.098844, train error 3.00,  val loss 0.356339, percent error 11.00\n",
            "Epoch    41, train loss 0.088889, train error 2.43,  val loss 0.354606, percent error 10.80\n",
            "Epoch    42, train loss 0.088561, train error 2.50,  val loss 0.350574, percent error 10.80\n",
            "Epoch    43, train loss 0.083774, train error 2.10,  val loss 0.357463, percent error 11.00\n",
            "Epoch    44, train loss 0.083354, train error 2.12,  val loss 0.348641, percent error 10.50\n",
            "Epoch    45, train loss 0.089036, train error 2.47,  val loss 0.372567, percent error 10.70\n",
            "Epoch    46, train loss 0.075247, train error 1.82,  val loss 0.353784, percent error 10.70\n",
            "Epoch    47, train loss 0.079837, train error 2.07,  val loss 0.364780, percent error 10.80\n",
            "Epoch    48, train loss 0.079557, train error 2.32,  val loss 0.365893, percent error 11.50\n",
            "Epoch    49, train loss 0.071000, train error 1.90,  val loss 0.377573, percent error 11.40\n",
            "Epoch    50, train loss 0.076048, train error 2.15,  val loss 0.383072, percent error 11.10\n",
            "Epoch    51, train loss 0.070697, train error 1.68,  val loss 0.368886, percent error 10.80\n",
            "Epoch    52, train loss 0.065722, train error 1.55,  val loss 0.379780, percent error 11.10\n",
            "Epoch    53, train loss 0.064724, train error 1.53,  val loss 0.378803, percent error 10.90\n",
            "Epoch    54, train loss 0.062477, train error 1.40,  val loss 0.378434, percent error 11.40\n",
            "Epoch    55, train loss 0.066979, train error 1.72,  val loss 0.388283, percent error 11.40\n",
            "Epoch    56, train loss 0.063582, train error 1.43,  val loss 0.380312, percent error 10.70\n",
            "Epoch    57, train loss 0.060904, train error 1.32,  val loss 0.390992, percent error 11.30\n",
            "Epoch    58, train loss 0.064291, train error 1.65,  val loss 0.388387, percent error 10.80\n",
            "Epoch    59, train loss 0.057549, train error 1.22,  val loss 0.399259, percent error 11.60\n",
            "Epoch    60, train loss 0.051923, train error 1.10,  val loss 0.381682, percent error 11.30\n",
            "Epoch    61, train loss 0.053410, train error 1.22,  val loss 0.388538, percent error 11.00\n",
            "Epoch    62, train loss 0.052099, train error 0.95,  val loss 0.392647, percent error 11.70\n",
            "Epoch    63, train loss 0.050294, train error 1.12,  val loss 0.389599, percent error 11.10\n",
            "Epoch    64, train loss 0.049906, train error 1.05,  val loss 0.398989, percent error 11.30\n",
            "Epoch    65, train loss 0.048970, train error 0.97,  val loss 0.400993, percent error 11.20\n",
            "Epoch    66, train loss 0.047720, train error 0.93,  val loss 0.392388, percent error 11.00\n",
            "Epoch    67, train loss 0.049180, train error 1.00,  val loss 0.400676, percent error 11.10\n",
            "Epoch    68, train loss 0.049337, train error 0.95,  val loss 0.406621, percent error 11.40\n",
            "Epoch    69, train loss 0.046400, train error 0.88,  val loss 0.401150, percent error 11.10\n",
            "Epoch    70, train loss 0.046646, train error 0.95,  val loss 0.403658, percent error 11.30\n",
            "Epoch    71, train loss 0.048512, train error 0.90,  val loss 0.411837, percent error 11.60\n",
            "Epoch    72, train loss 0.044896, train error 0.82,  val loss 0.407345, percent error 11.40\n",
            "Epoch    73, train loss 0.046773, train error 0.93,  val loss 0.410516, percent error 11.50\n",
            "Epoch    74, train loss 0.044147, train error 0.75,  val loss 0.407762, percent error 11.30\n",
            "Epoch    75, train loss 0.044663, train error 0.93,  val loss 0.405016, percent error 11.20\n",
            "Epoch    76, train loss 0.043324, train error 0.68,  val loss 0.409305, percent error 11.20\n",
            "Epoch    77, train loss 0.042564, train error 0.75,  val loss 0.410113, percent error 10.80\n",
            "Epoch    78, train loss 0.041150, train error 0.75,  val loss 0.418230, percent error 11.40\n",
            "Epoch    79, train loss 0.041299, train error 0.75,  val loss 0.407484, percent error 10.50\n",
            "Epoch    80, train loss 0.040245, train error 0.78,  val loss 0.410447, percent error 11.20\n",
            "Epoch    81, train loss 0.040333, train error 0.72,  val loss 0.416048, percent error 10.90\n",
            "Epoch    82, train loss 0.039482, train error 0.68,  val loss 0.415250, percent error 11.10\n",
            "Epoch    83, train loss 0.039601, train error 0.62,  val loss 0.414184, percent error 10.80\n",
            "Epoch    84, train loss 0.039037, train error 0.60,  val loss 0.415575, percent error 10.90\n",
            "Epoch    85, train loss 0.038926, train error 0.68,  val loss 0.417972, percent error 10.90\n",
            "Epoch    86, train loss 0.038908, train error 0.65,  val loss 0.422371, percent error 11.00\n",
            "Epoch    87, train loss 0.038211, train error 0.55,  val loss 0.418720, percent error 11.00\n",
            "Epoch    88, train loss 0.038791, train error 0.55,  val loss 0.423877, percent error 11.10\n",
            "Epoch    89, train loss 0.038113, train error 0.55,  val loss 0.421434, percent error 11.10\n",
            "Epoch    90, train loss 0.037767, train error 0.50,  val loss 0.421504, percent error 11.00\n",
            "Epoch    91, train loss 0.037863, train error 0.55,  val loss 0.425458, percent error 11.10\n",
            "Epoch    92, train loss 0.037999, train error 0.53,  val loss 0.425245, percent error 11.10\n",
            "Epoch    93, train loss 0.036983, train error 0.57,  val loss 0.423569, percent error 11.10\n",
            "Epoch    94, train loss 0.036472, train error 0.55,  val loss 0.423487, percent error 11.00\n",
            "Epoch    95, train loss 0.036418, train error 0.47,  val loss 0.425243, percent error 10.80\n",
            "Epoch    96, train loss 0.036571, train error 0.55,  val loss 0.424674, percent error 10.80\n",
            "Epoch    97, train loss 0.036823, train error 0.55,  val loss 0.426512, percent error 11.10\n",
            "Epoch    98, train loss 0.036059, train error 0.57,  val loss 0.427486, percent error 10.60\n",
            "Epoch    99, train loss 0.035532, train error 0.45,  val loss 0.427749, percent error 10.80\n"
          ]
        },
        {
          "output_type": "display_data",
          "data": {
            "text/plain": [
              "<Figure size 640x480 with 1 Axes>"
            ],
            "image/png": "[encoded data removed]"
          },
          "metadata": {}
        }
      ]
    },
    {
      "cell_type": "code",
      "source": [],
      "metadata": {
        "id": "eRRF0kHUfutb"
      },
      "execution_count": null,
      "outputs": []
    }
  ]
}