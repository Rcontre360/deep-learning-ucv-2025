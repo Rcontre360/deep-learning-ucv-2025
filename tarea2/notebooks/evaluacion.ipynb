{
  "cells": [
    {
      "cell_type": "markdown",
      "metadata": {
        "id": "view-in-github",
        "colab_type": "text"
      },
      "source": [
        "<a href=\"https://colab.research.google.com/github/Rcontre360/deep-learning-ucv-2025/blob/main/tarea2/notebooks/evaluacion.ipynb\" target=\"_parent\"><img src=\"https://colab.research.google.com/assets/colab-badge.svg\" alt=\"Open In Colab\"/></a>"
      ]
    },
    {
      "cell_type": "markdown",
      "source": [
        "#Tarea 2: Arquitecturas modernas de Redes Neuronales profundas - CNN & UNETs\n",
        "----\n",
        "\n",
        "Estudiante: Rafael Contreras\n",
        "\n",
        "CI: 30391915"
      ],
      "metadata": {
        "id": "l83bqeqPWxy3"
      },
      "id": "l83bqeqPWxy3"
    },
    {
      "cell_type": "markdown",
      "source": [
        "## 1. Introduccion"
      ],
      "metadata": {
        "id": "O_9k22WlW8jz"
      },
      "id": "O_9k22WlW8jz"
    },
    {
      "cell_type": "markdown",
      "source": [
        "### Notebooks libro UDL\n",
        "\n",
        "\n",
        "Anexados notebooks del libro del libro UDL"
      ],
      "metadata": {
        "id": "nCkELJiuXmPt"
      },
      "id": "nCkELJiuXmPt"
    },
    {
      "cell_type": "markdown",
      "source": [
        "### Informe sobre preguntas practicas"
      ],
      "metadata": {
        "id": "4clnXopuYB4M"
      },
      "id": "4clnXopuYB4M"
    },
    {
      "cell_type": "markdown",
      "source": [
        "El informe se encuentra en el [repositorio](https://github.com/Rcontre360/deep-learning-ucv-2025/blob/main/tarea2/informe.pdf). Tambien se encuentra en el zip donde se entrego este documento."
      ],
      "metadata": {
        "id": "VfBL-ZKNYRM2"
      },
      "id": "VfBL-ZKNYRM2"
    },
    {
      "cell_type": "markdown",
      "source": [
        "### 1. Experimento"
      ],
      "metadata": {
        "id": "N3JL7RV0A0Cy"
      },
      "id": "N3JL7RV0A0Cy"
    },
    {
      "cell_type": "markdown",
      "source": [
        "Realizaremos un modelo de clasificacion de imagenes. Usando imagenes de [MNIST 100](https://www.kaggle.com/code/xinhuamurphywang/number-recognition-from-00-to-99/notebook), donde clasificaremos numeros escritos del 00 al 99. Escogimos este dataset porque es similar al usado en el notebook 10.5, aparte de su simplicidad.\n",
        "\n",
        "Procederemos a hacer leves modificaciones al modelo original para ver como se comporta. Intentaremos reducir el tamano del modelo y facilitar el computo."
      ],
      "metadata": {
        "id": "xkjhLj_dBQ4E"
      },
      "id": "xkjhLj_dBQ4E"
    },
    {
      "cell_type": "code",
      "source": [
        "import torch\n",
        "import torchvision\n",
        "import torch.nn as nn\n",
        "import torch.nn.functional as F\n",
        "import torch.optim as optim\n",
        "import matplotlib.pyplot as plt\n",
        "import random\n",
        "from torch.utils.data import Dataset, DataLoader\n",
        "import torchvision.transforms as transforms\n",
        "import numpy as np"
      ],
      "metadata": {
        "id": "AIjRu_ADGivn"
      },
      "id": "AIjRu_ADGivn",
      "execution_count": 93,
      "outputs": []
    },
    {
      "cell_type": "markdown",
      "source": [
        "#### Datos"
      ],
      "metadata": {
        "id": "eeE_2Cxyms5x"
      },
      "id": "eeE_2Cxyms5x"
    },
    {
      "cell_type": "markdown",
      "source": [
        "Al principio pense en descargar la data y cargarla localmente desde el notebook. Luego al ver que kaggle facilitaba la descarga de esta manera, preferi este metodo."
      ],
      "metadata": {
        "id": "b1bT96PLme6Y"
      },
      "id": "b1bT96PLme6Y"
    },
    {
      "cell_type": "code",
      "source": [
        "import kagglehub\n",
        "\n",
        "# Download latest version\n",
        "path = kagglehub.dataset_download(\"martininf1n1ty/mnist100\")  + '/mnist_compressed.npz'\n",
        "print(path)"
      ],
      "metadata": {
        "colab": {
          "base_uri": "https://localhost:8080/"
        },
        "id": "4TlUTHXXGh32",
        "outputId": "2872e7fb-955e-4067-9252-6947070c3c92"
      },
      "id": "4TlUTHXXGh32",
      "execution_count": 94,
      "outputs": [
        {
          "output_type": "stream",
          "name": "stdout",
          "text": [
            "/home/rafael/.cache/kagglehub/datasets/martininf1n1ty/mnist100/versions/1/mnist_compressed.npz\n"
          ]
        }
      ]
    },
    {
      "cell_type": "markdown",
      "source": [
        "Creamos el dataloader, este genera transformaciones que seran necesarias sobre los datos. Entre ellas tenemos el grayscale, el resize y la transformacion a un tensor."
      ],
      "metadata": {
        "id": "WLgrWkDinudC"
      },
      "id": "WLgrWkDinudC"
    },
    {
      "cell_type": "code",
      "source": [
        "img_size = 128\n",
        "\n",
        "class MNIST100Dataset(Dataset):\n",
        "    def __init__(self, npz_file):\n",
        "        train_transforms = transforms.Compose([\n",
        "            transforms.ToPILImage(),\n",
        "            transforms.Grayscale(num_output_channels=1),\n",
        "            transforms.Resize((img_size, img_size)),\n",
        "            transforms.ToTensor(),\n",
        "        ])\n",
        "        data = np.load(npz_file)\n",
        "\n",
        "        self.images = data['train_images']\n",
        "        self.labels = data['train_labels']\n",
        "        self.transform = train_transforms\n",
        "\n",
        "    def __len__(self):\n",
        "        return len(self.images)\n",
        "\n",
        "    def __getitem__(self, idx):\n",
        "        image = self.images[idx]\n",
        "        label = self.labels[idx]\n",
        "\n",
        "        if len(image.shape) == 2:\n",
        "            image = np.stack([image] * 3, axis=-1)\n",
        "        image = self.transform(image)\n",
        "        return image, label"
      ],
      "metadata": {
        "id": "nBArzL-fHAJu"
      },
      "id": "nBArzL-fHAJu",
      "execution_count": 95,
      "outputs": []
    },
    {
      "cell_type": "markdown",
      "source": [
        "Aqui dividimos la data en prueba y validacion. Reducimos el batch size y la cantidad de pruebas por batch debido a que queriamos observar el entrenamiento en mas epochs en los graficos siguientes. Ademas usaremos 1/5 del dataset para acelerar la ejecucion de este notebook."
      ],
      "metadata": {
        "id": "yD7CNpVen7Qa"
      },
      "id": "yD7CNpVen7Qa"
    },
    {
      "cell_type": "code",
      "source": [
        "dataset = MNIST100Dataset(npz_file=path)\n",
        "\n",
        "dataset_size = len(dataset)\n",
        "fraction_size = int(0.2 * dataset_size)\n",
        "unused_size = dataset_size - fraction_size\n",
        "\n",
        "fraction_dataset, _ = torch.utils.data.random_split(dataset, [fraction_size, unused_size])\n",
        "\n",
        "# Second split: divide the quarter into train and test (80/20)\n",
        "train_size = int(0.8 * fraction_size)\n",
        "test_size = fraction_size - train_size\n",
        "\n",
        "train_dataset, test_dataset = torch.utils.data.random_split(fraction_dataset, [train_size, test_size])"
      ],
      "metadata": {
        "id": "flzbA6e4HL78"
      },
      "id": "flzbA6e4HL78",
      "execution_count": 96,
      "outputs": []
    },
    {
      "cell_type": "code",
      "source": [
        "batch_size_train = 64\n",
        "batch_size_test = 1000\n",
        "\n",
        "train_loader = DataLoader(train_dataset, batch_size=batch_size_train, shuffle=True)\n",
        "test_loader = DataLoader(test_dataset, batch_size=batch_size_test, shuffle=True)"
      ],
      "metadata": {
        "id": "hdhpeI0AdiEH"
      },
      "id": "hdhpeI0AdiEH",
      "execution_count": 97,
      "outputs": []
    },
    {
      "cell_type": "markdown",
      "source": [
        "Esta seccion es para observar las imagenes. Podemos ver las 3 primeras del dataset con sus labels respectivos. Los labels van de 0 a 99."
      ],
      "metadata": {
        "id": "5Y46n-8eoKpM"
      },
      "id": "5Y46n-8eoKpM"
    },
    {
      "cell_type": "code",
      "source": [
        "import matplotlib.pyplot as plt\n",
        "\n",
        "fig = plt.figure(figsize=(12, 4))\n",
        "for i in range(3):\n",
        "    plt.subplot(1, 3, i+1)\n",
        "    plt.tight_layout()\n",
        "\n",
        "    image, label = dataset[i]\n",
        "\n",
        "    if hasattr(image, 'numpy'):\n",
        "        image = image.numpy()\n",
        "\n",
        "    # Remove the channel dimension for grayscale display\n",
        "    image = image.squeeze()\n",
        "\n",
        "    plt.imshow(image, cmap='gray', interpolation='none')\n",
        "    plt.title(\"Label: {}\".format(label))\n",
        "    plt.xticks([])\n",
        "    plt.yticks([])\n",
        "\n",
        "plt.show()"
      ],
      "metadata": {
        "colab": {
          "base_uri": "https://localhost:8080/",
          "height": 383
        },
        "id": "rDtFN9-HHddQ",
        "outputId": "13fb816a-d55f-4c5c-a493-13bad53ff6c9"
      },
      "id": "rDtFN9-HHddQ",
      "execution_count": 98,
      "outputs": [
        {
          "output_type": "display_data",
          "data": {
            "text/plain": [
              "<Figure size 1200x400 with 3 Axes>"
            ],
            "image/png": "[encoded data removed]"
          },
          "metadata": {}
        }
      ]
    },
    {
      "cell_type": "markdown",
      "source": [
        "Aqui tenemos la funcion de entrenamiento original modificada ampliamente. Antes esta recibia el epoch id, ahora ella misma ejecuta los epochs dado el argumento num_epochs. Ademas recopila el train history, este es un arreglo por cada epoch donde obtenemos la perdida promedio y la precision."
      ],
      "metadata": {
        "id": "mRrC_AlWoTQS"
      },
      "id": "mRrC_AlWoTQS"
    },
    {
      "cell_type": "code",
      "source": [
        "def train(model, optimizer, num_epochs):\n",
        "    train_history = []\n",
        "    for epoch in range(1, num_epochs + 1):\n",
        "        model.train()\n",
        "        total_loss = 0\n",
        "        correct = 0\n",
        "        for batch_idx, (data, target) in enumerate(train_loader):\n",
        "            optimizer.zero_grad()\n",
        "            output = model(data)\n",
        "            loss = F.nll_loss(output, target)\n",
        "            loss.backward()\n",
        "            optimizer.step()\n",
        "\n",
        "            total_loss += loss.item()\n",
        "\n",
        "            pred = output.argmax(dim=1, keepdim=True)\n",
        "            correct += pred.eq(target.view_as(pred)).sum().item()\n",
        "        avg_loss = total_loss / len(train_loader)\n",
        "        accuracy = 100. * correct / len(train_loader.dataset)\n",
        "        epoch_info = {\n",
        "            'epoch': epoch,\n",
        "            'avg_loss': avg_loss,\n",
        "            'accuracy': accuracy,\n",
        "        }\n",
        "\n",
        "        train_history.append(epoch_info)\n",
        "        print(f'Epoch {epoch}: Avg Loss: {avg_loss:.6f}, Accuracy: {accuracy:.2f}%')\n",
        "\n",
        "    return train_history"
      ],
      "metadata": {
        "id": "-017lIxfHipL"
      },
      "id": "-017lIxfHipL",
      "execution_count": 99,
      "outputs": []
    },
    {
      "cell_type": "markdown",
      "source": [
        "Aqui definimos la funcion de prueba. Esta usa el dataset de prueba para evaluar la perdida promedio y la precision del modelo resultante. Es bastante similar a la original del notebook con excepcion de que se le pasa como argumento el modelo."
      ],
      "metadata": {
        "id": "mJEeFahFpMqJ"
      },
      "id": "mJEeFahFpMqJ"
    },
    {
      "cell_type": "code",
      "source": [
        "# Run on test data\n",
        "def test(model):\n",
        "  model.eval()\n",
        "  test_loss = 0\n",
        "  correct = 0\n",
        "  with torch.no_grad():\n",
        "    for data, target in test_loader:\n",
        "      output = model(data)\n",
        "      test_loss += F.nll_loss(output, target, size_average=False).item()\n",
        "      pred = output.data.max(1, keepdim=True)[1]\n",
        "      correct += pred.eq(target.data.view_as(pred)).sum()\n",
        "  test_loss /= len(test_loader.dataset)\n",
        "  print('\\nTest set: Avg. loss: {:.4f}, Accuracy: {}/{} ({:.0f}%)\\n'.format(\n",
        "    test_loss, correct, len(test_loader.dataset),\n",
        "    100. * correct / len(test_loader.dataset)))"
      ],
      "metadata": {
        "id": "SuFU4ShipNG-"
      },
      "id": "SuFU4ShipNG-",
      "execution_count": 100,
      "outputs": []
    },
    {
      "cell_type": "markdown",
      "source": [
        "Esta funcion nos permite hacer un grafico del historial de entrenamiento. Por ahora esta es la grafica que mas nos interesa. Queremos observar que tan rapido aprenden nuestros modelos (numero de epochs) y comparar esto con el tamaño de los mismos."
      ],
      "metadata": {
        "id": "MISRKK0vpeir"
      },
      "id": "MISRKK0vpeir"
    },
    {
      "cell_type": "code",
      "source": [
        "def plot_training_history(training_history):\n",
        "    epochs = [info['epoch'] for info in training_history]\n",
        "    avg_losses = [info['avg_loss'] for info in training_history]\n",
        "    accuracies = [info['accuracy'] for info in training_history]\n",
        "\n",
        "    plt.figure(figsize=(12, 4))\n",
        "\n",
        "    plt.subplot(1, 2, 1)\n",
        "    plt.plot(epochs, avg_losses, 'b-', label='Training Loss')\n",
        "    plt.xlabel('Epoch')\n",
        "    plt.ylabel('Average Loss')\n",
        "    plt.title('Training Loss Over Time')\n",
        "    plt.grid(True)\n",
        "    plt.legend()\n",
        "\n",
        "    plt.subplot(1, 2, 2)\n",
        "    plt.plot(epochs, accuracies, 'r-', label='Training Accuracy')\n",
        "    plt.xlabel('Epoch')\n",
        "    plt.ylabel('Accuracy (%)')\n",
        "    plt.title('Training Accuracy Over Time')\n",
        "    plt.grid(True)\n",
        "    plt.legend()\n",
        "\n",
        "    plt.tight_layout()\n",
        "    plt.show()"
      ],
      "metadata": {
        "id": "lO4jJMM6hQRS"
      },
      "id": "lO4jJMM6hQRS",
      "execution_count": 101,
      "outputs": []
    },
    {
      "cell_type": "markdown",
      "source": [
        "Aqui definiremos una funcion para obtener la cantidad de parametros de cada modelo. Trataremos de obtener la mayor precision posible con la minima cantidad de parametros.\n",
        "\n",
        "Esta funcion la obtuvimos en esta [respuesta](https://stackoverflow.com/questions/49201236/check-the-total-number-of-parameters-in-a-pytorch-model) de stack overflow"
      ],
      "metadata": {
        "id": "WuuXU90ognXl"
      },
      "id": "WuuXU90ognXl"
    },
    {
      "cell_type": "code",
      "source": [
        "def print_trainable_params(model):\n",
        "  train_params = sum(p.numel() for p in model.parameters() if p.requires_grad)\n",
        "  print(\"num of parameters {}\".format(train_params))"
      ],
      "metadata": {
        "id": "EGFNtiftgSKA"
      },
      "id": "EGFNtiftgSKA",
      "execution_count": 102,
      "outputs": []
    },
    {
      "cell_type": "markdown",
      "source": [
        "A continuacion usaremos el modelo original del notebook con ciertas modificaciones para el incremento de clases y el cambio de las imagenes.\n",
        "\n",
        "Luego iremos iterando sobre este modelo para observar que sucede cuando aumentamos el numero de capas de convolucion. Al agregar max pooling a su vez los modelos se vuelven mas simples debido a la reduccion de parametros (por la reduccion del tamano del input). Respecto a los canales, iremos duplicando la cantidad de canales en cada capa de convolucion.\n",
        "\n",
        "Mostraremos la cantidad de parametros en cada modelo, la velocidad de entrenamiento respecto a los batches y el accuracy final del modelo entrenado."
      ],
      "metadata": {
        "id": "VmHFO_J1jsZl"
      },
      "id": "VmHFO_J1jsZl"
    },
    {
      "cell_type": "markdown",
      "source": [
        "#### Model - Original"
      ],
      "metadata": {
        "id": "TIXjayMtj7A1"
      },
      "id": "TIXjayMtj7A1"
    },
    {
      "cell_type": "markdown",
      "source": [
        "Este es el modelo original del notebook. Usa dos convoluciones simples, con 10 y 20 canales respectivamentes, max pooling y relu. Tiene un kernel size de 5. Luego aplica las redes lineales estandar para clasificar los 100 elementos posibles.\n",
        "\n",
        "Primero creamos este modelo con los tamaños de la imagen como argumento y luego creamos el optimizador. Estos seran los argumentos para la funcion de entrenamiento."
      ],
      "metadata": {
        "id": "EZGu3v5rpuVO"
      },
      "id": "EZGu3v5rpuVO"
    },
    {
      "cell_type": "code",
      "source": [
        "class ModelOriginal(nn.Module):\n",
        "    def __init__(self, img_width,img_height):\n",
        "        super(ModelOriginal, self).__init__()\n",
        "        self.net = nn.Sequential(\n",
        "          nn.Conv2d(1, 10, kernel_size=5),\n",
        "          nn.MaxPool2d(kernel_size=2, stride=2),\n",
        "          nn.ReLU(),\n",
        "          nn.Conv2d(10, 20, kernel_size=5),\n",
        "          nn.MaxPool2d(kernel_size=2, stride=2),\n",
        "          nn.ReLU(),\n",
        "          nn.Flatten(),\n",
        "          nn.Linear(16820,50),\n",
        "          nn.ReLU(),\n",
        "          nn.Linear(50,100),\n",
        "          nn.LogSoftmax(dim=1)\n",
        "        )\n",
        "\n",
        "    def forward(self, x):\n",
        "        return self.net(x)\n",
        "\n",
        "model = ModelOriginal(img_size,img_size)\n",
        "optimizer = optim.SGD(model.parameters(), lr=0.01, momentum=0.5)"
      ],
      "metadata": {
        "id": "p6VlgJb5Jjqn"
      },
      "id": "p6VlgJb5Jjqn",
      "execution_count": 103,
      "outputs": []
    },
    {
      "cell_type": "markdown",
      "source": [
        "Aqui obtenemos la cantidad de parametros entrenables del modelo. Este tiene 851.430 parametros, esto lo compararemos con las siguientes versiones. Solo hacemos 5 epochs para obtener resultados mas rapidos"
      ],
      "metadata": {
        "id": "STPBqh194LwK"
      },
      "id": "STPBqh194LwK"
    },
    {
      "cell_type": "code",
      "source": [
        "print_trainable_params(model)\n",
        "t_history = train(model,optimizer,5)"
      ],
      "metadata": {
        "colab": {
          "base_uri": "https://localhost:8080/"
        },
        "id": "fl5Y2iUAf_8D",
        "outputId": "451d3aa6-059b-4d7d-bfec-7ce99f9adc99"
      },
      "id": "fl5Y2iUAf_8D",
      "execution_count": 104,
      "outputs": [
        {
          "output_type": "stream",
          "name": "stdout",
          "text": [
            "num of parameters 851430\n",
            "Epoch 1: Avg Loss: 4.331696, Accuracy: 5.33%\n",
            "Epoch 2: Avg Loss: 2.196200, Accuracy: 39.60%\n",
            "Epoch 3: Avg Loss: 1.218231, Accuracy: 63.40%\n",
            "Epoch 4: Avg Loss: 0.912819, Accuracy: 72.52%\n",
            "Epoch 5: Avg Loss: 0.759868, Accuracy: 77.15%\n"
          ]
        }
      ]
    },
    {
      "cell_type": "markdown",
      "source": [
        "Aqui graficamos la perdida de entrenamiento por epoch y la precision por epoch. Hay que tomar en cuenta que estas metricas son exclusivamente con los datos de entrenamiento.\n",
        "\n",
        "Observamos que para ambos valores el modelo aproxima rapidamente. Llega al 90% de accuracy en el epoch 5 (seguramente si aumentabamos los epochs este seguiria incrementando). La perdida baja de 1 apenas en el epoch 2. La mayoria de la mejora en el modelo se dio en este epoch."
      ],
      "metadata": {
        "id": "mWDBOORRDTaV"
      },
      "id": "mWDBOORRDTaV"
    },
    {
      "cell_type": "code",
      "source": [
        "plot_training_history(t_history)"
      ],
      "metadata": {
        "colab": {
          "base_uri": "https://localhost:8080/",
          "height": 407
        },
        "id": "g3CZdo3QgDE2",
        "outputId": "2ec509f2-ecda-43b2-8fa4-1d63a57d544c"
      },
      "id": "g3CZdo3QgDE2",
      "execution_count": 105,
      "outputs": [
        {
          "output_type": "display_data",
          "data": {
            "text/plain": [
              "<Figure size 1200x400 with 2 Axes>"
            ],
            "image/png": "[encoded data removed]"
          },
          "metadata": {}
        }
      ]
    },
    {
      "cell_type": "markdown",
      "source": [
        "Aqui hacemos una prueba del modelo con datos de validacion. Vemos que el accuracy esta por encima del 90%."
      ],
      "metadata": {
        "id": "4xfzsn6cDwXh"
      },
      "id": "4xfzsn6cDwXh"
    },
    {
      "cell_type": "code",
      "source": [
        "test(model)"
      ],
      "metadata": {
        "colab": {
          "base_uri": "https://localhost:8080/"
        },
        "id": "sUSnCmVdky9O",
        "outputId": "19f5ede9-0cc4-4caa-a1d7-1351b979095e"
      },
      "id": "sUSnCmVdky9O",
      "execution_count": 106,
      "outputs": [
        {
          "output_type": "stream",
          "name": "stderr",
          "text": [
            "/home/rafael/Desktop/ucv/DL/venv/lib/python3.12/site-packages/torch/nn/_reduction.py:51: UserWarning: size_average and reduce args will be deprecated, please use reduction='sum' instead.\n",
            "  warnings.warn(warning.format(ret))\n"
          ]
        },
        {
          "output_type": "stream",
          "name": "stdout",
          "text": [
            "\n",
            "Test set: Avg. loss: 0.8020, Accuracy: 1822/2400 (76%)\n",
            "\n"
          ]
        }
      ]
    },
    {
      "cell_type": "markdown",
      "source": [
        "#### Model - v1"
      ],
      "metadata": {
        "id": "u6nDk4FmkCP6"
      },
      "id": "u6nDk4FmkCP6"
    },
    {
      "cell_type": "markdown",
      "source": [
        "A esta siguiente version le agregamos otra capa de convolucion. El incremento de canales vs la reduccion del ancho y altura de la imagene hace que la cantidad de parametros totales se reduzca. Esto reduce la cantidad de computo requerido para entrenamiento."
      ],
      "metadata": {
        "id": "ZQWrSyuG4uAN"
      },
      "id": "ZQWrSyuG4uAN"
    },
    {
      "cell_type": "code",
      "source": [
        "class ModelV1(nn.Module):\n",
        "    def __init__(self, img_width,img_height):\n",
        "        super(ModelV1, self).__init__()\n",
        "        self.net = nn.Sequential(\n",
        "          nn.Conv2d(1, 10, kernel_size=5),\n",
        "          nn.MaxPool2d(kernel_size=2, stride=2),\n",
        "          nn.ReLU(),\n",
        "          nn.Conv2d(10, 20, kernel_size=5),\n",
        "          nn.MaxPool2d(kernel_size=2, stride=2),\n",
        "          nn.ReLU(),\n",
        "          nn.Conv2d(20, 40, kernel_size=5),\n",
        "          nn.MaxPool2d(kernel_size=2, stride=2),\n",
        "          nn.ReLU(),\n",
        "          nn.Flatten(),\n",
        "          nn.Linear(5760,50),\n",
        "          nn.ReLU(),\n",
        "          nn.Linear(50,100),\n",
        "          nn.LogSoftmax(dim=1)\n",
        "        )\n",
        "\n",
        "    def forward(self, x):\n",
        "        return self.net(x)\n",
        "\n",
        "model = ModelV1(img_size,img_size)\n",
        "optimizer = optim.SGD(model.parameters(), lr=0.01, momentum=0.5)"
      ],
      "metadata": {
        "id": "shB4sDukkD27"
      },
      "id": "shB4sDukkD27",
      "execution_count": 107,
      "outputs": []
    },
    {
      "cell_type": "code",
      "source": [
        "print_trainable_params(model)"
      ],
      "metadata": {
        "colab": {
          "base_uri": "https://localhost:8080/"
        },
        "id": "9zS8_9ewhTdS",
        "outputId": "5d6d86cf-247d-4a9d-e715-c95912a1766b"
      },
      "id": "9zS8_9ewhTdS",
      "execution_count": 108,
      "outputs": [
        {
          "output_type": "stream",
          "name": "stdout",
          "text": [
            "num of parameters 318470\n"
          ]
        }
      ]
    },
    {
      "cell_type": "code",
      "source": [
        "t_history = train(model,optimizer,5)\n",
        "test(model)\n",
        "plot_training_history(t_history)"
      ],
      "metadata": {
        "colab": {
          "base_uri": "https://localhost:8080/",
          "height": 553
        },
        "id": "c7JbYG0qhTqw",
        "outputId": "1ce167be-9bf5-4391-db7c-7e985f16f916"
      },
      "id": "c7JbYG0qhTqw",
      "execution_count": 109,
      "outputs": [
        {
          "output_type": "stream",
          "name": "stdout",
          "text": [
            "Epoch 1: Avg Loss: 4.602012, Accuracy: 1.45%\n",
            "Epoch 2: Avg Loss: 4.161014, Accuracy: 8.07%\n",
            "Epoch 3: Avg Loss: 1.868864, Accuracy: 47.51%\n",
            "Epoch 4: Avg Loss: 0.796451, Accuracy: 75.72%\n",
            "Epoch 5: Avg Loss: 0.496609, Accuracy: 84.54%\n",
            "\n",
            "Test set: Avg. loss: 0.5903, Accuracy: 1983/2400 (83%)\n",
            "\n"
          ]
        },
        {
          "output_type": "display_data",
          "data": {
            "text/plain": [
              "<Figure size 1200x400 with 2 Axes>"
            ],
            "image/png": "[encoded data removed]"
          },
          "metadata": {}
        }
      ]
    },
    {
      "cell_type": "markdown",
      "source": [
        "#### Model - v2"
      ],
      "metadata": {
        "id": "QjkZHPXfi09k"
      },
      "id": "QjkZHPXfi09k"
    },
    {
      "cell_type": "markdown",
      "source": [
        "Aplicamos la misma modificacion a la version 2. Esto reduce aun mas la cantidad de parametros requeridos."
      ],
      "metadata": {
        "id": "5YKr43L54_zU"
      },
      "id": "5YKr43L54_zU"
    },
    {
      "cell_type": "code",
      "source": [
        "class ModelV2(nn.Module):\n",
        "    def __init__(self, img_width,img_height):\n",
        "        super(ModelV2, self).__init__()\n",
        "        self.net = nn.Sequential(\n",
        "          nn.Conv2d(1, 10, kernel_size=5),\n",
        "          nn.MaxPool2d(kernel_size=2, stride=2),\n",
        "          nn.ReLU(),\n",
        "          nn.Conv2d(10, 20, kernel_size=5),\n",
        "          nn.MaxPool2d(kernel_size=2, stride=2),\n",
        "          nn.ReLU(),\n",
        "          nn.Conv2d(20, 40, kernel_size=5),\n",
        "          nn.MaxPool2d(kernel_size=2, stride=2),\n",
        "          nn.ReLU(),\n",
        "          nn.Conv2d(40, 80, kernel_size=5),\n",
        "          nn.MaxPool2d(kernel_size=2, stride=2),\n",
        "          nn.ReLU(),\n",
        "          nn.Flatten(),\n",
        "          nn.Linear(1280,50),\n",
        "          nn.ReLU(),\n",
        "          nn.Linear(50,100),\n",
        "          nn.LogSoftmax(dim=1)\n",
        "        )\n",
        "\n",
        "    def forward(self, x):\n",
        "        return self.net(x)\n",
        "\n",
        "model = ModelV1(img_size,img_size)\n",
        "optimizer = optim.SGD(model.parameters(), lr=0.01, momentum=0.5)"
      ],
      "metadata": {
        "id": "sZP2_nMUi09k"
      },
      "execution_count": 114,
      "outputs": [],
      "id": "sZP2_nMUi09k"
    },
    {
      "cell_type": "code",
      "source": [
        "print_trainable_params(model)"
      ],
      "metadata": {
        "outputId": "91273665-9fc3-4530-a2b0-01a2f91e06b2",
        "colab": {
          "base_uri": "https://localhost:8080/"
        },
        "id": "ZqePtF0Li09l"
      },
      "execution_count": 115,
      "outputs": [
        {
          "output_type": "stream",
          "name": "stdout",
          "text": [
            "num of parameters 174550\n"
          ]
        }
      ],
      "id": "ZqePtF0Li09l"
    },
    {
      "cell_type": "code",
      "source": [
        "t_history = train(model,optimizer,5)\n",
        "test(model)\n",
        "plot_training_history(t_history)"
      ],
      "metadata": {
        "outputId": "d6568212-8353-470b-d161-45eb6bea4527",
        "colab": {
          "base_uri": "https://localhost:8080/",
          "height": 590
        },
        "id": "5lqmFYkbi09l"
      },
      "execution_count": 116,
      "outputs": [
        {
          "output_type": "stream",
          "name": "stdout",
          "text": [
            "Epoch 1: Avg Loss: 4.606639, Accuracy: 0.84%\n",
            "Epoch 2: Avg Loss: 4.605134, Accuracy: 0.80%\n",
            "Epoch 3: Avg Loss: 4.602984, Accuracy: 1.88%\n",
            "Epoch 4: Avg Loss: 4.597865, Accuracy: 2.24%\n",
            "Epoch 5: Avg Loss: 4.547878, Accuracy: 2.96%\n"
          ]
        },
        {
          "output_type": "stream",
          "name": "stderr",
          "text": [
            "/home/rafael/Desktop/ucv/DL/venv/lib/python3.12/site-packages/torch/nn/_reduction.py:51: UserWarning: size_average and reduce args will be deprecated, please use reduction='sum' instead.\n",
            "  warnings.warn(warning.format(ret))\n"
          ]
        },
        {
          "output_type": "stream",
          "name": "stdout",
          "text": [
            "\n",
            "Test set: Avg. loss: 4.4416, Accuracy: 122/2400 (5%)\n",
            "\n"
          ]
        },
        {
          "output_type": "display_data",
          "data": {
            "text/plain": [
              "<Figure size 1200x400 with 2 Axes>"
            ],
            "image/png": "[encoded data removed]"
          },
          "metadata": {}
        }
      ],
      "id": "5lqmFYkbi09l"
    },
    {
      "cell_type": "markdown",
      "source": [
        "## Evaluacion"
      ],
      "metadata": {
        "id": "wNnkca2vZbkw"
      },
      "id": "wNnkca2vZbkw"
    },
    {
      "cell_type": "markdown",
      "source": [
        "### III-A. CNN"
      ],
      "metadata": {
        "id": "18lfpQWOElHe"
      },
      "id": "18lfpQWOElHe"
    },
    {
      "cell_type": "markdown",
      "source": [
        "#### 1. Considere la siguiente matriz de entrada $X$:\n"
      ],
      "metadata": {
        "id": "WkEx42pMFkFJ"
      },
      "id": "WkEx42pMFkFJ"
    },
    {
      "cell_type": "markdown",
      "source": [
        "$$\n",
        "X = \\begin{bmatrix}\n",
        "2 & 5 & 4 & 1 \\\\\n",
        "3 & 1 & 2 & 0 \\\\\n",
        "4 & 5 & 7 & 1 \\\\\n",
        "1 & 2 & 3 & 4\n",
        "\\end{bmatrix}\n",
        "$$"
      ],
      "metadata": {
        "id": "mVXLoiGHCSvp"
      },
      "id": "mVXLoiGHCSvp"
    },
    {
      "cell_type": "markdown",
      "source": [
        "\n",
        "##### a) Calcule la salida de una convolución con un kernel $K$ de dimensión $2 \\times 2$, sin *padding* y con un *stride* de 2.\n"
      ],
      "metadata": {
        "id": "SYiHmFrVFJh5"
      },
      "id": "SYiHmFrVFJh5"
    },
    {
      "cell_type": "markdown",
      "source": [
        "\n",
        "$$\n",
        "K = \\begin{bmatrix}\n",
        "1 & 0 \\\\\n",
        "0 & 1\n",
        "\\end{bmatrix}\n",
        "$$"
      ],
      "metadata": {
        "id": "SBDtmZCAFOcT"
      },
      "id": "SBDtmZCAFOcT"
    },
    {
      "cell_type": "markdown",
      "source": [
        "RESPUESTA:\n",
        "\n",
        "No hay mucho que explicar sobre el proceso usado para calcular la respuesta. Tambien es facil verificarla usando codigo y pytorch.\n",
        "\n",
        "$$\n",
        "\\begin{align*}\n",
        "res_{0,0} &= 2 * 1 + 5 * 0 + 3 * 0 + 1 * 1 = 3\n",
        "\\\\\n",
        "res_{0,1} &= 4 * 1 + 1 * 0 + 2 * 0 + 0 * 1 = 4\n",
        "\\\\\n",
        "res_{1,0} &= 4 * 1 + 5 * 0 + 1 * 0 + 2 * 1 = 6\n",
        "\\\\\n",
        "res_{1,1} &= 7 * 1 + 1 * 0 + 3 * 0 + 4 * 1 = 11\n",
        "\\\\\n",
        "\\end{align*}\n",
        "\\\\\\\\\n",
        "Res = \\begin{bmatrix}\n",
        "3 & 4 \\\\\n",
        "6 & 11\n",
        "\\end{bmatrix}\n",
        "$$"
      ],
      "metadata": {
        "id": "fZ8C4Y2nFQIi"
      },
      "id": "fZ8C4Y2nFQIi"
    },
    {
      "cell_type": "markdown",
      "source": [
        "##### b) Calcule la salida de una convolución con un kernel $K$ de dimensión $2 \\times 2$, con *padding* de 2 y con un *stride* de 2.\n"
      ],
      "metadata": {
        "id": "3aoU9jVuFS1g"
      },
      "id": "3aoU9jVuFS1g"
    },
    {
      "cell_type": "markdown",
      "source": [
        "$$\n",
        "K = \\begin{bmatrix}\n",
        "1 & 0 \\\\\n",
        "0 & -1\n",
        "\\end{bmatrix}\n",
        "$$"
      ],
      "metadata": {
        "id": "EHSFp06VFWYd"
      },
      "id": "EHSFp06VFWYd"
    },
    {
      "cell_type": "markdown",
      "source": [
        "Con un padding de 2 la matriz a la que le realizariamos la convolucion seria:\n",
        "\n",
        "$$\n",
        "X = \\begin{bmatrix}\n",
        "0 & 0 & 0 & 0 & 0 & 0 & 0 & 0 \\\\\n",
        "0 & 0 & 0 & 0 & 0 & 0 & 0 & 0 \\\\\n",
        "0 & 0 & 2 & 5 & 4 & 1 & 0 & 0 \\\\\n",
        "0 & 0 & 3 & 1 & 2 & 0 & 0 & 0 \\\\\n",
        "0 & 0 & 4 & 5 & 7 & 1 & 0 & 0 \\\\\n",
        "0 & 0 & 1 & 2 & 3 & 4 & 0 & 0 \\\\\n",
        "0 & 0 & 0 & 0 & 0 & 0 & 0 & 0 \\\\\n",
        "0 & 0 & 0 & 0 & 0 & 0 & 0 & 0\n",
        "\\end{bmatrix}\n",
        "$$"
      ],
      "metadata": {
        "id": "QeP-Pl9AKyXb"
      },
      "id": "QeP-Pl9AKyXb"
    },
    {
      "cell_type": "markdown",
      "source": [
        "$$\n",
        "\\begin{align*}\n",
        "\\begin{array}{ll}\n",
        "res_{0,0} &= 0 * 1 + 0 * 0 + 0 * 0 + 0 * (-1) = 0 &\n",
        "res_{0,1} &= 0 * 1 + 0 * 0 + 0 * 0 + 0 * (-1) = 0 \\\\\n",
        "res_{0,2} &= 0 * 1 + 0 * 0 + 0 * 0 + 0 * (-1) = 0 &\n",
        "res_{0,3} &= 0 * 1 + 0 * 0 + 0 * 0 + 0 * (-1) = 0 \\\\\n",
        "res_{1,0} &= 0 * 1 + 0 * 0 + 0 * 0 + 0 * (-1) = 0 &\n",
        "res_{1,1} &= 2 * 1 + 5 * 0 + 3 * 0 + 1 * (-1) = 1 \\\\\n",
        "res_{1,2} &= 4 * 1 + 1 * 0 + 2 * 0 + 0 * (-1) = 4 &\n",
        "res_{1,3} &= 0 * 1 + 0 * 0 + 0 * 0 + 0 * (-1) = 0 \\\\\n",
        "res_{2,0} &= 0 * 1 + 0 * 0 + 0 * 0 + 0 * (-1) = 0 &\n",
        "res_{2,1} &= 4 * 1 + 5 * 0 + 1 * 0 + 2 * (-1) = 2 \\\\\n",
        "res_{2,2} &= 7 * 1 + 1 * 0 + 3 * 0 + 4 * (-1) = 3 &\n",
        "res_{2,3} &= 0 * 1 + 0 * 0 + 0 * 0 + 0 * (-1) = 0 \\\\\n",
        "res_{3,0} &= 0 * 1 + 0 * 0 + 0 * 0 + 0 * (-1) = 0 &\n",
        "res_{3,1} &= 0 * 1 + 0 * 0 + 0 * 0 + 0 * (-1) = 0 \\\\\n",
        "res_{3,2} &= 0 * 1 + 0 * 0 + 0 * 0 + 0 * (-1) = 0 &\n",
        "res_{3,3} &= 0 * 1 + 0 * 0 + 0 * 0 + 0 * (-1) = 0\n",
        "\\end{array}\n",
        "\\end{align*}\n",
        "$$\n",
        "\n",
        "$$\n",
        "\\text{Res} = \\begin{bmatrix}\n",
        "0 & 0 & 0 & 0 \\\\\n",
        "0 & 1 & 4 & 0 \\\\\n",
        "0 & 2 & 3 & 0 \\\\\n",
        "0 & 0 & 0 & 0\n",
        "\\end{bmatrix}\n",
        "$$"
      ],
      "metadata": {
        "id": "hscst8AwKLwN"
      },
      "id": "hscst8AwKLwN"
    },
    {
      "cell_type": "markdown",
      "source": [
        "#### 2. ¿Cómo podemos determinar la dimensión de salida luego de aplicar la función de convolución?\n"
      ],
      "metadata": {
        "id": "vvEmbXWaFa__"
      },
      "id": "vvEmbXWaFa__"
    },
    {
      "cell_type": "markdown",
      "source": [
        "Esto dependera del kernel size, el padding, el stride y el dilation. El kernel size y el padding determinan cuantos \"cuadrantes\" tenemos disponibles para el calculo. Con cuadrante me refiero a la region que se operara con el kernel para obtener un elemento de la matriz resultante.\n",
        "\n",
        "Aumentar el padding incrementa la cantidad de cuadrantes que podemos usar. Aumentar el stride, kernel size o dilation reduce la cantidad de cuadrantes.\n",
        "\n",
        "Entonces la dimension final vendria dada (en filas y columnas) por:\n",
        "\n",
        "[Referencia](https://stackoverflow.com/questions/53580088/calculate-the-output-size-in-convolution-layer)\n",
        "\n",
        "$$\n",
        "[(matrix\\_size−kernel\\_size+2*padding)/stride]+1\n",
        "$$"
      ],
      "metadata": {
        "id": "2iC7KwzEFwab"
      },
      "id": "2iC7KwzEFwab"
    },
    {
      "cell_type": "markdown",
      "source": [
        "#### 3. ¿Qué beneficios tiene el uso de Redes Neuronales Convolucionales (CNNs) sobre las redes completamente conectadas?\n"
      ],
      "metadata": {
        "id": "0B7XX93KFwk8"
      },
      "id": "0B7XX93KFwk8"
    },
    {
      "cell_type": "markdown",
      "source": [
        "1 - Se realizan menos operaciones. Esto se evidencio en uno de los notebooks y el libro UDL donde muestran el equivalente de una convolucion (el kernel) en una matriz. Se muestra ademas que aplicar una convolucion es equivalente a la multiplicacion entre  el input y la matriz con el kernel\\\\\n",
        "2 - Mantienen el contexto del valor de cada pixel. Ya que la operacion de convolucion usa los vecinos de un pixel y no todos los valores de la imagen."
      ],
      "metadata": {
        "id": "yIYnItg0F0SG"
      },
      "id": "yIYnItg0F0SG"
    },
    {
      "cell_type": "markdown",
      "source": [
        "### III-B. CNN Segmentation"
      ],
      "metadata": {
        "id": "h25oK9y5qKkA"
      },
      "id": "h25oK9y5qKkA"
    },
    {
      "cell_type": "markdown",
      "source": [
        "#### Depthwise Separable Convolution"
      ],
      "metadata": {
        "id": "A0c90BM7E7Bm"
      },
      "id": "A0c90BM7E7Bm"
    },
    {
      "cell_type": "markdown",
      "source": [
        "NOTA: la informacion presentada e interpretaciones vienen de [este articulo](https://medium.com/data-science/efficient-image-segmentation-using-pytorch-part-3-3534cf04fb89).\n",
        "\n",
        "Comenzando con la convolucion normal, suponiendo que se tiene un input de m canales, w de ancho y h de altura. Para obtener un resultado con 1 canal se requiere un kernel de $m * dk * dk$ **parametros**. Ahora si se quieren multiples canales (n) como resultado es necesario n kernels. Esto nos da un total de $dk * dk * n * m$ **parametros** entrenables.\n",
        "\n",
        "Ahora, la convolucion separable es una funcion con las mismas dimensiones en el dominio y rango. A mi parecer cuando formularon esta funcion pensaron en realizar operaciones de convolucion de tal manera que sean necesario menos parametros y las dimensiones de entrada y salida sean las mismas, me hace pensar que deben existir otras formas de hacer esto. Me pregunto que otras restricciones existian antes de formular esta funcion.\n",
        "\n",
        "Esta convolucion se realiza primero dividiendo el input en sus canales, a cada uno de estos se les aplicara 1 kernel (ya que sera 1 canal por input) de dk*dk. Esta primera operacion usara $dk * dk * m$ parametros.\n",
        "\n",
        "Esto tendra como resultado una salida de m * h * w, que para transformar en n * h * w es necesario aplicarle otra operacion de convolucion. Esta operacion consiste de n kernels de longitud m, es decir que por cada indice del cuadrado w*h se le aplican n convoluciones a todos los elementos de esa casilla."
      ],
      "metadata": {
        "id": "vRqkGQpVE896"
      },
      "id": "vRqkGQpVE896"
    },
    {
      "cell_type": "markdown",
      "source": [
        "#### Metricas para segmentacion de imagenes"
      ],
      "metadata": {
        "id": "ljDBP-duI18A"
      },
      "id": "ljDBP-duI18A"
    },
    {
      "cell_type": "markdown",
      "source": [
        "#### DICE\n",
        "\n",
        "NOTA: La informacion presentada viene en parte de [este](https://lathashreeh.medium.com/dice-coefficient-what-is-it-ff090ec97bda) articulo. Varias de las interpretaciones son dadas luego de leerlo.\n",
        "\n",
        "La intuicion de esta metrica es mas facil de obtener si pensamos en ella como valores entre 0 y 1 donde el 0 significa que no existe sobreposicion de los elementos en los conjuntos A y B y 1 que todos los elementos se sobreponen. Si observamos la formula:\n",
        "\n",
        "$$\n",
        "DICE = 2 * |A ∩ B| / (|A| + |B|)\n",
        "$$\n",
        "\n",
        "Vemos que si un conjunto tiene mas elementos que el otro, entonces es imposible que el coeficiente dice sea 1. El 2 multiplica ya que la interseccion de a y b nunca sera igual a la suma de sus elementos, si son exactamente iguales la interseccion sera exactamente la mitad.\n",
        "\n",
        "Esta metrica penaliza los falsos positivos, por cada falso positivo el coeficiente es reducido. Ademas es mas efectivo que otras metricas con datasets no balanceados (comun en segmentacion de imagenes).\n",
        "\n",
        "#### IOU\n",
        "\n",
        "NOTA: La informacion presentada viene en parte de [este](https://medium.com/@ankuraga/iou-score-and-its-variants-for-deep-learning-bd09ecf14832) articulo. Varias de las interpretaciones son dadas luego de leerlo.\n",
        "\n",
        "Esta metrica se usa tambien en tareas de detenccion de objetos. Mide la superposición entre la caja predicha y la verdadera. Se calcula de la siguiente manera:\n",
        "\n",
        "$$\n",
        "IOU = \\text{Area of overlap} / \\text{Area of union}\n",
        "$$\n",
        "\n",
        "Evidentemente por la formula podemos deducir que esta metrica va de 0 a 1. 1 Significa que toda el area de ambos elementos esta sobreposicionada. Aun asi dado que esta metrica usa cuadrados para saber si los elementos estan bien posicionados, considero es preferible DICE. Ya que una mascota y su prediccion pueden estar en la misma posicion pero sus bordes pueden haber sido estimados incorrectamente.\n",
        "\n",
        "En el articulo podemos ver tambien otras metricas similares como **SIoU** (en caso de no haber interseccion usa valores negativos) y **GIoU** (una version mas generalizada de IOU)."
      ],
      "metadata": {
        "id": "I52VQHPTqTXA"
      },
      "id": "I52VQHPTqTXA"
    },
    {
      "cell_type": "markdown",
      "source": [
        "#### Segmentación de imágenes con redes U-Net"
      ],
      "metadata": {
        "id": "K5_fiWY9WM13"
      },
      "id": "K5_fiWY9WM13"
    },
    {
      "cell_type": "markdown",
      "source": [
        "Sobre el modelo a optimizar, esto se hizo en una copia del notebook original. Deberia estar adjunto con el nombre de **part3_partition.ipynb**, igual este se encuentra en este [repositorio](https://github.com/Rcontre360/deep-learning-ucv-2025/blob/main/tarea2/notebooks/part3_partition.ipynb)"
      ],
      "metadata": {
        "id": "9muruPvg8HXS"
      },
      "id": "9muruPvg8HXS"
    },
    {
      "cell_type": "code",
      "source": [],
      "metadata": {
        "id": "jaxvOO2Km6E3"
      },
      "id": "jaxvOO2Km6E3",
      "execution_count": null,
      "outputs": []
    }
  ],
  "metadata": {
    "kernelspec": {
      "display_name": "Python 3",
      "name": "python3"
    },
    "language_info": {
      "codemirror_mode": {
        "name": "ipython",
        "version": 3
      },
      "file_extension": ".py",
      "mimetype": "text/x-python",
      "name": "python",
      "nbconvert_exporter": "python",
      "pygments_lexer": "ipython3",
      "version": "3.12.3"
    },
    "colab": {
      "provenance": [],
      "gpuType": "T4",
      "include_colab_link": true
    },
    "accelerator": "GPU"
  },
  "nbformat": 4,
  "nbformat_minor": 5
}